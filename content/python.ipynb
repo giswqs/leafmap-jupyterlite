{
  "metadata": {
    "orig_nbformat": 4,
    "kernelspec": {
      "name": "python",
      "display_name": "Pyolite",
      "language": "python"
    },
    "language_info": {
      "codemirror_mode": {
        "name": "python",
        "version": 3
      },
      "file_extension": ".py",
      "mimetype": "text/x-python",
      "name": "python",
      "nbconvert_exporter": "python",
      "pygments_lexer": "ipython3",
      "version": "3.8"
    }
  },
  "nbformat_minor": 4,
  "nbformat": 4,
  "cells": [
    {
      "cell_type": "markdown",
      "source": "# Pyolite - A Python kernel backed by Pyodide\n\n![](https://raw.githubusercontent.com/pyodide/pyodide/master/docs/_static/img/pyodide-logo.png)",
      "metadata": {
        "tags": []
      }
    },
    {
      "cell_type": "code",
      "source": "import pyolite\npyolite.__version__",
      "metadata": {
        "trusted": true
      },
      "execution_count": null,
      "outputs": []
    },
    {
      "cell_type": "markdown",
      "source": "# Simple code execution",
      "metadata": {}
    },
    {
      "cell_type": "code",
      "source": "a = 3",
      "metadata": {
        "trusted": true
      },
      "execution_count": null,
      "outputs": []
    },
    {
      "cell_type": "code",
      "source": "a",
      "metadata": {
        "trusted": true
      },
      "execution_count": null,
      "outputs": []
    },
    {
      "cell_type": "code",
      "source": "b = 89\n\ndef sq(x):\n    return x * x\n\nsq(b)",
      "metadata": {
        "trusted": true
      },
      "execution_count": null,
      "outputs": []
    },
    {
      "cell_type": "code",
      "source": "print",
      "metadata": {
        "trusted": true
      },
      "execution_count": null,
      "outputs": []
    },
    {
      "cell_type": "markdown",
      "source": "# Redirected streams",
      "metadata": {
        "tags": []
      }
    },
    {
      "cell_type": "code",
      "source": "import sys\n\nprint(\"Error !!\", file=sys.stderr)",
      "metadata": {
        "trusted": true
      },
      "execution_count": null,
      "outputs": []
    },
    {
      "cell_type": "markdown",
      "source": "# Error handling",
      "metadata": {}
    },
    {
      "cell_type": "code",
      "source": "\"Hello\"\n\ndef dummy_function():\n    import missing_module",
      "metadata": {
        "scrolled": true,
        "trusted": true
      },
      "execution_count": null,
      "outputs": []
    },
    {
      "cell_type": "code",
      "source": "dummy_function()",
      "metadata": {
        "trusted": true
      },
      "execution_count": null,
      "outputs": []
    },
    {
      "cell_type": "markdown",
      "source": "# Code completion",
      "metadata": {}
    },
    {
      "cell_type": "markdown",
      "source": "### press `tab` to see what is available in `sys` module",
      "metadata": {}
    },
    {
      "cell_type": "code",
      "source": "from sys import ",
      "metadata": {
        "trusted": true
      },
      "execution_count": null,
      "outputs": []
    },
    {
      "cell_type": "markdown",
      "source": "# Code inspection",
      "metadata": {}
    },
    {
      "cell_type": "markdown",
      "source": "### using the question mark",
      "metadata": {}
    },
    {
      "cell_type": "code",
      "source": "?print",
      "metadata": {
        "trusted": true
      },
      "execution_count": null,
      "outputs": []
    },
    {
      "cell_type": "markdown",
      "source": "### by pressing `shift+tab`",
      "metadata": {}
    },
    {
      "cell_type": "code",
      "source": "print(",
      "metadata": {
        "trusted": true
      },
      "execution_count": null,
      "outputs": []
    },
    {
      "cell_type": "markdown",
      "source": "# Input support",
      "metadata": {}
    },
    {
      "cell_type": "code",
      "source": "name = await input('Enter your name: ')",
      "metadata": {
        "trusted": true
      },
      "execution_count": null,
      "outputs": []
    },
    {
      "cell_type": "code",
      "source": "'Hello, ' + name",
      "metadata": {
        "trusted": true
      },
      "execution_count": null,
      "outputs": []
    },
    {
      "cell_type": "markdown",
      "source": "# Rich representation",
      "metadata": {}
    },
    {
      "cell_type": "code",
      "source": "from IPython.display import display, Markdown, HTML, JSON, Latex",
      "metadata": {
        "trusted": true
      },
      "execution_count": null,
      "outputs": []
    },
    {
      "cell_type": "markdown",
      "source": "## HTML",
      "metadata": {
        "tags": []
      }
    },
    {
      "cell_type": "code",
      "source": "print('Before display')\n\ns = '<h1>HTML Title</h1>'\ndisplay(HTML(s))\n\nprint('After display')",
      "metadata": {
        "trusted": true
      },
      "execution_count": null,
      "outputs": []
    },
    {
      "cell_type": "markdown",
      "source": "## Markdown",
      "metadata": {}
    },
    {
      "cell_type": "code",
      "source": "Markdown('''\n# Title\n\n**in bold**\n\n~~Strikthrough~~\n''')",
      "metadata": {
        "trusted": true
      },
      "execution_count": null,
      "outputs": []
    },
    {
      "cell_type": "markdown",
      "source": "## Pandas DataFrame",
      "metadata": {}
    },
    {
      "cell_type": "code",
      "source": "import pandas as pd\nimport numpy as np\nfrom string import ascii_uppercase as letters\nfrom IPython.display import display\n\ndf = pd.DataFrame(np.random.randint(0, 100, size=(100, len(letters))), columns=list(letters))\ndf",
      "metadata": {
        "trusted": true
      },
      "execution_count": null,
      "outputs": []
    },
    {
      "cell_type": "markdown",
      "source": "### Show the same DataFrame ",
      "metadata": {}
    },
    {
      "cell_type": "code",
      "source": "df",
      "metadata": {
        "trusted": true
      },
      "execution_count": null,
      "outputs": []
    },
    {
      "cell_type": "markdown",
      "source": "## IPython.display module",
      "metadata": {}
    },
    {
      "cell_type": "code",
      "source": "from IPython.display import clear_output, display, update_display\nfrom asyncio import sleep",
      "metadata": {
        "trusted": true
      },
      "execution_count": null,
      "outputs": []
    },
    {
      "cell_type": "markdown",
      "source": "### Update display",
      "metadata": {}
    },
    {
      "cell_type": "code",
      "source": "class Square:\n    color = 'PeachPuff'\n    def _repr_html_(self):\n        return '''\n        <div style=\"background: %s; width: 200px; height: 100px; border-radius: 10px;\">\n        </div>''' % self.color\nsquare = Square()\n\ndisplay(square, display_id='some-square')",
      "metadata": {
        "trusted": true
      },
      "execution_count": null,
      "outputs": []
    },
    {
      "cell_type": "code",
      "source": "square.color = 'OliveDrab'\nupdate_display(square, display_id='some-square')",
      "metadata": {
        "trusted": true
      },
      "execution_count": null,
      "outputs": []
    },
    {
      "cell_type": "markdown",
      "source": "### Clear output",
      "metadata": {}
    },
    {
      "cell_type": "code",
      "source": "print(\"hello\")\nawait sleep(3)\nclear_output()             # will flicker when replacing \"hello\" with \"goodbye\"\nprint(\"goodbye\")",
      "metadata": {
        "trusted": true
      },
      "execution_count": null,
      "outputs": []
    },
    {
      "cell_type": "code",
      "source": "print(\"hello\")\nawait sleep(3)\nclear_output(wait=True)   # prevents flickering\nprint(\"goodbye\")",
      "metadata": {
        "trusted": true
      },
      "execution_count": null,
      "outputs": []
    },
    {
      "cell_type": "markdown",
      "source": "### Display classes",
      "metadata": {}
    },
    {
      "cell_type": "code",
      "source": "from IPython.display import HTML\nHTML('''\n        <div style=\"background: aliceblue; width: 200px; height: 100px; border-radius: 10px;\">\n        </div>''')",
      "metadata": {
        "trusted": true
      },
      "execution_count": null,
      "outputs": []
    },
    {
      "cell_type": "code",
      "source": "from IPython.display import Math\nMath(r'F(k) = \\int_{-\\infty}^{\\infty} f(x) e^{2\\pi i k} dx')",
      "metadata": {
        "trusted": true
      },
      "execution_count": null,
      "outputs": []
    },
    {
      "cell_type": "code",
      "source": "from IPython.display import Latex\nLatex(r\"\"\"\\begin{eqnarray}\n\\nabla \\times \\vec{\\mathbf{B}} -\\, \\frac1c\\, \\frac{\\partial\\vec{\\mathbf{E}}}{\\partial t} & = \\frac{4\\pi}{c}\\vec{\\mathbf{j}} \\\\\n\\nabla \\cdot \\vec{\\mathbf{E}} & = 4 \\pi \\rho \\\\\n\\nabla \\times \\vec{\\mathbf{E}}\\, +\\, \\frac1c\\, \\frac{\\partial\\vec{\\mathbf{B}}}{\\partial t} & = \\vec{\\mathbf{0}} \\\\\n\\nabla \\cdot \\vec{\\mathbf{B}} & = 0 \n\\end{eqnarray}\"\"\")",
      "metadata": {
        "trusted": true
      },
      "execution_count": null,
      "outputs": []
    },
    {
      "cell_type": "code",
      "source": "from IPython.display import ProgressBar\n\nfor i in ProgressBar(10):\n    await sleep(0.1)",
      "metadata": {
        "trusted": true
      },
      "execution_count": null,
      "outputs": []
    },
    {
      "cell_type": "code",
      "source": "from IPython.display import JSON\nJSON(['foo', {'bar': ('baz', None, 1.0, 2)}], metadata={}, expanded=True, root='test')",
      "metadata": {
        "trusted": true
      },
      "execution_count": null,
      "outputs": []
    },
    {
      "cell_type": "code",
      "source": "from IPython.display import GeoJSON\nGeoJSON(\n  data={\n      \"type\": \"Feature\",\n      \"geometry\": {\n          \"type\": \"Point\",\n          \"coordinates\": [11.8, -45.04]\n      }\n  }, url_template=\"http://s3-eu-west-1.amazonaws.com/whereonmars.cartodb.net/{basemap_id}/{z}/{x}/{y}.png\",\n  layer_options={\n      \"basemap_id\": \"celestia_mars-shaded-16k_global\",\n      \"attribution\" : \"Celestia/praesepe\",\n      \"tms\": True,\n      \"minZoom\" : 0,\n      \"maxZoom\" : 5\n  }\n)",
      "metadata": {
        "trusted": true
      },
      "execution_count": null,
      "outputs": []
    },
    {
      "cell_type": "markdown",
      "source": "## Network requests and JSON",
      "metadata": {}
    },
    {
      "cell_type": "code",
      "source": "import json\nfrom js import fetch",
      "metadata": {
        "trusted": true
      },
      "execution_count": null,
      "outputs": []
    },
    {
      "cell_type": "code",
      "source": "res = await fetch('https://httpbin.org/get')\ntext = await res.text()\nobj = json.loads(text) \nJSON(obj)",
      "metadata": {
        "trusted": true
      },
      "execution_count": null,
      "outputs": []
    },
    {
      "cell_type": "markdown",
      "source": "## Sympy",
      "metadata": {}
    },
    {
      "cell_type": "code",
      "source": "from sympy import Integral, sqrt, symbols, init_printing\n\ninit_printing()\n\nx = symbols('x')\n\nIntegral(sqrt(1 / x), x)",
      "metadata": {
        "trusted": true
      },
      "execution_count": null,
      "outputs": []
    },
    {
      "cell_type": "markdown",
      "source": "## Magics",
      "metadata": {}
    },
    {
      "cell_type": "code",
      "source": "import os\nos.listdir()",
      "metadata": {
        "trusted": true
      },
      "execution_count": null,
      "outputs": []
    },
    {
      "cell_type": "code",
      "source": "%cd /home",
      "metadata": {
        "trusted": true
      },
      "execution_count": null,
      "outputs": []
    },
    {
      "cell_type": "code",
      "source": "%pwd",
      "metadata": {
        "trusted": true
      },
      "execution_count": null,
      "outputs": []
    },
    {
      "cell_type": "code",
      "source": "current_path = %pwd\nprint(current_path)",
      "metadata": {
        "trusted": true
      },
      "execution_count": null,
      "outputs": []
    },
    {
      "cell_type": "code",
      "source": "%%writefile test.txt\n\nThis will create a new file. \nWith the text that you see here.",
      "metadata": {
        "trusted": true
      },
      "execution_count": null,
      "outputs": []
    },
    {
      "cell_type": "code",
      "source": "%history",
      "metadata": {
        "trusted": true
      },
      "execution_count": null,
      "outputs": []
    },
    {
      "cell_type": "code",
      "source": "import time",
      "metadata": {
        "trusted": true
      },
      "execution_count": null,
      "outputs": []
    },
    {
      "cell_type": "code",
      "source": "%%timeit \n\ntime.sleep(0.1)",
      "metadata": {
        "trusted": true
      },
      "execution_count": null,
      "outputs": []
    }
  ]
}