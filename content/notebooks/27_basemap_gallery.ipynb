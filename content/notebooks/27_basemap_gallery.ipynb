{
 "cells": [
  {
   "cell_type": "markdown",
   "id": "e875469c",
   "metadata": {},
   "source": [
    "[![image](https://jupyterlite.rtfd.io/en/latest/_static/badge.svg)](https://demo.leafmap.org/lab/index.html?path=notebooks/27_basemap_gallery.ipynb)\n",
    "[![image](https://colab.research.google.com/assets/colab-badge.svg)](https://githubtocolab.com/giswqs/leafmap/blob/master/examples/notebooks/27_basemap_gallery.ipynb)\n",
    "[![image](https://mybinder.org/badge_logo.svg)](https://gishub.org/leafmap-binder)"
   ]
  },
  {
   "cell_type": "code",
   "execution_count": null,
   "id": "db1dfe96",
   "metadata": {},
   "outputs": [],
   "source": [
    "%pip install -q leafmap"
   ]
  },
  {
   "cell_type": "code",
   "execution_count": null,
   "id": "18172401",
   "metadata": {},
   "outputs": [],
   "source": [
    "import leafmap.leafmap as leafmap"
   ]
  },
  {
   "cell_type": "markdown",
   "id": "f0e62746",
   "metadata": {},
   "source": [
    "Select 100 basemaps"
   ]
  },
  {
   "cell_type": "code",
   "execution_count": null,
   "id": "e0e6236e",
   "metadata": {},
   "outputs": [],
   "source": [
    "layers = list(leafmap.basemaps.keys())[17:117]\n",
    "# layers"
   ]
  },
  {
   "cell_type": "markdown",
   "id": "f475707a",
   "metadata": {},
   "source": [
    "Print out the labels"
   ]
  },
  {
   "cell_type": "code",
   "execution_count": null,
   "id": "e5fd408a",
   "metadata": {},
   "outputs": [],
   "source": [
    "print(layers[:10])"
   ]
  },
  {
   "cell_type": "markdown",
   "id": "910b324a",
   "metadata": {},
   "source": [
    "Create linked maps of 100 basemaps"
   ]
  },
  {
   "cell_type": "code",
   "execution_count": null,
   "id": "65197847",
   "metadata": {},
   "outputs": [],
   "source": [
    "leafmap.linked_maps(rows=20, cols=5, height=\"200px\", layers=layers, labels=layers)"
   ]
  }
 ],
 "metadata": {
  "kernelspec": {
   "display_name": "Python 3.9.13 ('geo')",
   "language": "python",
   "name": "python3"
  }
 },
 "nbformat": 4,
 "nbformat_minor": 5
}
