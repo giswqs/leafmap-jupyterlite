{
 "cells": [
  {
   "cell_type": "markdown",
   "id": "54b26ed4",
   "metadata": {
    "id": "1CFzMrw5zmzc"
   },
   "source": [
    "[![image](https://jupyterlite.rtfd.io/en/latest/_static/badge.svg)](https://demo.leafmap.org/lab/index.html?path=notebooks/01_leafmap_intro.ipynb)\n",
    "[![image](https://colab.research.google.com/assets/colab-badge.svg)](https://githubtocolab.com/giswqs/leafmap/blob/master/examples/notebooks/01_leafmap_intro.ipynb)\n",
    "[![image](https://mybinder.org/badge_logo.svg)](https://gishub.org/leafmap-binder)\n",
    "\n",
    "**Introducing the leafmap Python package for interactive mapping**"
   ]
  },
  {
   "cell_type": "code",
   "execution_count": null,
   "id": "b4f6f475",
   "metadata": {},
   "outputs": [],
   "source": [
    "%pip install -q leafmap"
   ]
  },
  {
   "cell_type": "markdown",
   "id": "9e9b3562",
   "metadata": {},
   "source": [
    "`leafmap` has four plotting backends: [folium](https://github.com/python-visualization/folium), [ipyleaflet](https://github.com/jupyter-widgets/ipyleaflet), [here-map](https://github.com/heremaps/here-map-widget-for-jupyter), and [kepler.gl](https://docs.kepler.gl/docs/keplergl-jupyter). Note that the backends do not offer equal functionality. Some interactive functionality in `ipyleaflet` might not be available in other plotting backends. To use a specific plotting backend, use one of the following:\n",
    "\n",
    "- `import leafmap.leafmap as leafmap`\n",
    "- `import leafmap.foliumap as leafmap`\n",
    "- `import leafmap.heremap as leafmap`\n",
    "- `import leafmap.kepler as leafmap`"
   ]
  },
  {
   "cell_type": "code",
   "execution_count": null,
   "id": "594b9647",
   "metadata": {},
   "outputs": [],
   "source": [
    "import leafmap"
   ]
  },
  {
   "cell_type": "markdown",
   "id": "5fd6f13f",
   "metadata": {},
   "source": [
    "Create an interactive map."
   ]
  },
  {
   "cell_type": "code",
   "execution_count": null,
   "id": "2d069ede",
   "metadata": {},
   "outputs": [],
   "source": [
    "m = leafmap.Map()\n",
    "m"
   ]
  },
  {
   "cell_type": "markdown",
   "id": "ae800b9f",
   "metadata": {},
   "source": [
    "Specify the default map center and zoom level."
   ]
  },
  {
   "cell_type": "code",
   "execution_count": null,
   "id": "24547d21",
   "metadata": {},
   "outputs": [],
   "source": [
    "m = leafmap.Map(center=[50, 19], zoom=4)  # center=[lat, lon]\n",
    "m"
   ]
  },
  {
   "cell_type": "markdown",
   "id": "3b5c4527",
   "metadata": {},
   "source": [
    "Set the visibility of map controls."
   ]
  },
  {
   "cell_type": "code",
   "execution_count": null,
   "id": "e2433a17",
   "metadata": {},
   "outputs": [],
   "source": [
    "m = leafmap.Map(\n",
    "    draw_control=False,\n",
    "    measure_control=False,\n",
    "    fullscreen_control=False,\n",
    "    attribution_control=True,\n",
    ")\n",
    "m"
   ]
  },
  {
   "cell_type": "markdown",
   "id": "bbcf8deb",
   "metadata": {},
   "source": [
    "Change the map width and height."
   ]
  },
  {
   "cell_type": "code",
   "execution_count": null,
   "id": "e92a2853",
   "metadata": {},
   "outputs": [],
   "source": [
    "m = leafmap.Map(height=\"450px\", width=\"800px\")\n",
    "m"
   ]
  },
  {
   "cell_type": "markdown",
   "id": "2938c14f",
   "metadata": {},
   "source": [
    "Use the `ipyleaflet` plotting backend."
   ]
  },
  {
   "cell_type": "code",
   "execution_count": null,
   "id": "5fa1f890",
   "metadata": {},
   "outputs": [],
   "source": [
    "import leafmap.leafmap as leafmap"
   ]
  },
  {
   "cell_type": "code",
   "execution_count": null,
   "id": "5bbd03a6",
   "metadata": {},
   "outputs": [],
   "source": [
    "m = leafmap.Map()\n",
    "m"
   ]
  },
  {
   "cell_type": "markdown",
   "id": "48ada1b2",
   "metadata": {},
   "source": [
    "Use the `folium` plotting backend."
   ]
  },
  {
   "cell_type": "code",
   "execution_count": null,
   "id": "827af3c3",
   "metadata": {},
   "outputs": [],
   "source": [
    "import leafmap.foliumap as leafmap"
   ]
  },
  {
   "cell_type": "code",
   "execution_count": null,
   "id": "44d53ff1",
   "metadata": {},
   "outputs": [],
   "source": [
    "m = leafmap.Map()\n",
    "m"
   ]
  }
 ],
 "metadata": {
  "kernelspec": {
   "display_name": "Python 3",
   "language": "python",
   "name": "python3"
  }
 },
 "nbformat": 4,
 "nbformat_minor": 5
}
