{
 "cells": [
  {
   "cell_type": "markdown",
   "id": "8a9a87cc",
   "metadata": {},
   "source": [
    "[![image](https://jupyterlite.rtfd.io/en/latest/_static/badge.svg)](https://demo.leafmap.org/lab/index.html?path=notebooks/20_planet_imagery.ipynb)\n",
    "[![image](https://colab.research.google.com/assets/colab-badge.svg)](https://githubtocolab.com/giswqs/leafmap/blob/master/examples/notebooks/20_planet_imagery.ipynb)\n",
    "[![image](https://mybinder.org/badge_logo.svg)](https://gishub.org/leafmap-binder)\n",
    "\n",
    "**Adding Planet global monthly and quarterly mosaic**"
   ]
  },
  {
   "cell_type": "code",
   "execution_count": null,
   "id": "9e7b9223",
   "metadata": {},
   "outputs": [],
   "source": [
    "%pip install -q leafmap"
   ]
  },
  {
   "cell_type": "code",
   "execution_count": null,
   "id": "ea099dd7",
   "metadata": {},
   "outputs": [],
   "source": [
    "import os\n",
    "import leafmap"
   ]
  },
  {
   "cell_type": "markdown",
   "id": "2817f6ad",
   "metadata": {},
   "source": [
    "First, you need to sign up a Planet account and get an API key. See https://developers.planet.com/quickstart/apis.\n",
    "Uncomment the following line to pass in your API key."
   ]
  },
  {
   "cell_type": "code",
   "execution_count": null,
   "id": "a842c557",
   "metadata": {},
   "outputs": [],
   "source": [
    "# os.environ[\"PLANET_API_KEY\"] = \"12345\""
   ]
  },
  {
   "cell_type": "markdown",
   "id": "8c7a7e26",
   "metadata": {},
   "source": [
    "Determine the tile format based on the plotting backend being use. It can be either ipyleaflet or folium."
   ]
  },
  {
   "cell_type": "code",
   "execution_count": null,
   "id": "ca3bb37a",
   "metadata": {},
   "outputs": [],
   "source": [
    "tile_format = \"ipyleaflet\"\n",
    "\n",
    "if os.environ.get(\"USE_MKDOCS\") is not None:\n",
    "    tile_format = \"folium\""
   ]
  },
  {
   "cell_type": "markdown",
   "id": "27d10f46",
   "metadata": {},
   "source": [
    "Generate Planet quarterly imagery URLs."
   ]
  },
  {
   "cell_type": "code",
   "execution_count": null,
   "id": "9557048a",
   "metadata": {},
   "outputs": [],
   "source": [
    "# leafmap.planet_quarterly()"
   ]
  },
  {
   "cell_type": "markdown",
   "id": "fd487e67",
   "metadata": {},
   "source": [
    "Generate Planet monthly imagery URLs."
   ]
  },
  {
   "cell_type": "code",
   "execution_count": null,
   "id": "70a47b2e",
   "metadata": {},
   "outputs": [],
   "source": [
    "# leafmap.planet_monthly()"
   ]
  },
  {
   "cell_type": "markdown",
   "id": "f82f2981",
   "metadata": {},
   "source": [
    "Generates Planet bi-annual and monthly imagery URLs."
   ]
  },
  {
   "cell_type": "code",
   "execution_count": null,
   "id": "dedb2017",
   "metadata": {},
   "outputs": [],
   "source": [
    "# leafmap.planet_catalog()"
   ]
  },
  {
   "cell_type": "markdown",
   "id": "1cca5849",
   "metadata": {},
   "source": [
    "Generate Planet quarterly imagery TileLayer."
   ]
  },
  {
   "cell_type": "code",
   "execution_count": null,
   "id": "f32d760f",
   "metadata": {},
   "outputs": [],
   "source": [
    "quarterly_tiles = leafmap.planet_quarterly_tiles(tile_format=tile_format)"
   ]
  },
  {
   "cell_type": "markdown",
   "id": "a6f337d7",
   "metadata": {},
   "source": [
    "Generate Planet monthly imagery TileLayer."
   ]
  },
  {
   "cell_type": "code",
   "execution_count": null,
   "id": "60e0827f",
   "metadata": {},
   "outputs": [],
   "source": [
    "monthly_tiles = leafmap.planet_monthly_tiles(tile_format=tile_format)"
   ]
  },
  {
   "cell_type": "markdown",
   "id": "d2702625",
   "metadata": {},
   "source": [
    "Print out the quarterly tile URLs."
   ]
  },
  {
   "cell_type": "code",
   "execution_count": null,
   "id": "77bfe09d",
   "metadata": {},
   "outputs": [],
   "source": [
    "for tile in quarterly_tiles:\n",
    "    print(tile)"
   ]
  },
  {
   "cell_type": "markdown",
   "id": "5a783605",
   "metadata": {},
   "source": [
    "Print out the monthly tile URLs."
   ]
  },
  {
   "cell_type": "code",
   "execution_count": null,
   "id": "b5081a9c",
   "metadata": {},
   "outputs": [],
   "source": [
    "for tile in monthly_tiles:\n",
    "    print(tile)"
   ]
  },
  {
   "cell_type": "markdown",
   "id": "f8cfa3c9",
   "metadata": {},
   "source": [
    "Add a Planet monthly mosaic by specifying year and month."
   ]
  },
  {
   "cell_type": "code",
   "execution_count": null,
   "id": "8426d60a",
   "metadata": {},
   "outputs": [],
   "source": [
    "m = leafmap.Map()\n",
    "m.add_planet_by_month(year=2020, month=8)\n",
    "m"
   ]
  },
  {
   "cell_type": "markdown",
   "id": "5b7f6c53",
   "metadata": {},
   "source": [
    "Add a Planet quarterly mosaic by specifying year and quarter."
   ]
  },
  {
   "cell_type": "code",
   "execution_count": null,
   "id": "73cb4514",
   "metadata": {},
   "outputs": [],
   "source": [
    "m = leafmap.Map()\n",
    "m.add_planet_by_quarter(year=2019, quarter=2)\n",
    "m"
   ]
  }
 ],
 "metadata": {
  "kernelspec": {
   "display_name": "Python 3",
   "language": "python",
   "name": "python3"
  }
 },
 "nbformat": 4,
 "nbformat_minor": 5
}
