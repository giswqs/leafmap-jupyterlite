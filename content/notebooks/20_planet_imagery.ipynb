{
 "cells": [
  {
   "cell_type": "markdown",
   "id": "49fd8519",
   "metadata": {},
   "source": [
    "[![image](https://jupyterlite.rtfd.io/en/latest/_static/badge.svg)](https://demo.leafmap.org/lab/index.html?path=notebooks/20_planet_imagery.ipynb)\n",
    "[![image](https://colab.research.google.com/assets/colab-badge.svg)](https://githubtocolab.com/giswqs/leafmap/blob/master/examples/notebooks/20_planet_imagery.ipynb)\n",
    "[![image](https://mybinder.org/badge_logo.svg)](https://gishub.org/leafmap-binder)\n",
    "\n",
    "**Adding Planet global monthly and quarterly mosaic**"
   ]
  },
  {
   "cell_type": "code",
   "execution_count": null,
   "id": "4536abfe",
   "metadata": {},
   "outputs": [],
   "source": [
    "%pip install -q leafmap"
   ]
  },
  {
   "cell_type": "code",
   "execution_count": null,
   "id": "1360b09b",
   "metadata": {},
   "outputs": [],
   "source": [
    "import os\n",
    "import leafmap"
   ]
  },
  {
   "cell_type": "markdown",
   "id": "2408dd65",
   "metadata": {},
   "source": [
    "First, you need to sign up a Planet account and get an API key. See https://developers.planet.com/quickstart/apis.\n",
    "Uncomment the following line to pass in your API key."
   ]
  },
  {
   "cell_type": "code",
   "execution_count": null,
   "id": "b5fc1d93",
   "metadata": {},
   "outputs": [],
   "source": [
    "# os.environ[\"PLANET_API_KEY\"] = \"12345\""
   ]
  },
  {
   "cell_type": "markdown",
   "id": "c8d656ed",
   "metadata": {},
   "source": [
    "Determine the tile format based on the plotting backend being use. It can be either ipyleaflet or folium."
   ]
  },
  {
   "cell_type": "code",
   "execution_count": null,
   "id": "79a6becd",
   "metadata": {},
   "outputs": [],
   "source": [
    "tile_format = \"ipyleaflet\"\n",
    "\n",
    "if os.environ.get(\"USE_MKDOCS\") is not None:\n",
    "    tile_format = \"folium\""
   ]
  },
  {
   "cell_type": "markdown",
   "id": "3c5cbf0a",
   "metadata": {},
   "source": [
    "Generate Planet quarterly imagery URLs."
   ]
  },
  {
   "cell_type": "code",
   "execution_count": null,
   "id": "b5b1f2cf",
   "metadata": {},
   "outputs": [],
   "source": [
    "# leafmap.planet_quarterly()"
   ]
  },
  {
   "cell_type": "markdown",
   "id": "d8d664db",
   "metadata": {},
   "source": [
    "Generate Planet monthly imagery URLs."
   ]
  },
  {
   "cell_type": "code",
   "execution_count": null,
   "id": "075733d9",
   "metadata": {},
   "outputs": [],
   "source": [
    "# leafmap.planet_monthly()"
   ]
  },
  {
   "cell_type": "markdown",
   "id": "b9079227",
   "metadata": {},
   "source": [
    "Generates Planet bi-annual and monthly imagery URLs."
   ]
  },
  {
   "cell_type": "code",
   "execution_count": null,
   "id": "3acf1962",
   "metadata": {},
   "outputs": [],
   "source": [
    "# leafmap.planet_catalog()"
   ]
  },
  {
   "cell_type": "markdown",
   "id": "524928a9",
   "metadata": {},
   "source": [
    "Generate Planet quarterly imagery TileLayer."
   ]
  },
  {
   "cell_type": "code",
   "execution_count": null,
   "id": "b33ecbc5",
   "metadata": {},
   "outputs": [],
   "source": [
    "quarterly_tiles = leafmap.planet_quarterly_tiles(tile_format=tile_format)"
   ]
  },
  {
   "cell_type": "markdown",
   "id": "9d1a7b6b",
   "metadata": {},
   "source": [
    "Generate Planet monthly imagery TileLayer."
   ]
  },
  {
   "cell_type": "code",
   "execution_count": null,
   "id": "90ac9c8e",
   "metadata": {},
   "outputs": [],
   "source": [
    "monthly_tiles = leafmap.planet_monthly_tiles(tile_format=tile_format)"
   ]
  },
  {
   "cell_type": "markdown",
   "id": "bf304f8e",
   "metadata": {},
   "source": [
    "Print out the quarterly tile URLs."
   ]
  },
  {
   "cell_type": "code",
   "execution_count": null,
   "id": "66718dd3",
   "metadata": {},
   "outputs": [],
   "source": [
    "for tile in quarterly_tiles:\n",
    "    print(tile)"
   ]
  },
  {
   "cell_type": "markdown",
   "id": "f57206c2",
   "metadata": {},
   "source": [
    "Print out the monthly tile URLs."
   ]
  },
  {
   "cell_type": "code",
   "execution_count": null,
   "id": "219a9e73",
   "metadata": {},
   "outputs": [],
   "source": [
    "for tile in monthly_tiles:\n",
    "    print(tile)"
   ]
  },
  {
   "cell_type": "markdown",
   "id": "d3ac6926",
   "metadata": {},
   "source": [
    "Add a Planet monthly mosaic by specifying year and month."
   ]
  },
  {
   "cell_type": "code",
   "execution_count": null,
   "id": "9428844b",
   "metadata": {},
   "outputs": [],
   "source": [
    "m = leafmap.Map()\n",
    "m.add_planet_by_month(year=2020, month=8)\n",
    "m"
   ]
  },
  {
   "cell_type": "markdown",
   "id": "5bcaef35",
   "metadata": {},
   "source": [
    "Add a Planet quarterly mosaic by specifying year and quarter."
   ]
  },
  {
   "cell_type": "code",
   "execution_count": null,
   "id": "dfa62e69",
   "metadata": {},
   "outputs": [],
   "source": [
    "m = leafmap.Map()\n",
    "m.add_planet_by_quarter(year=2019, quarter=2)\n",
    "m"
   ]
  }
 ],
 "metadata": {
  "kernelspec": {
   "display_name": "Python 3",
   "language": "python",
   "name": "python3"
  }
 },
 "nbformat": 4,
 "nbformat_minor": 5
}
