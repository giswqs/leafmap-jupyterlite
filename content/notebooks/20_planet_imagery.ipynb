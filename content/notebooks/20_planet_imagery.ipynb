{
 "cells": [
  {
   "cell_type": "markdown",
   "id": "0f47b3be",
   "metadata": {},
   "source": [
    "[![image](https://jupyterlite.rtfd.io/en/latest/_static/badge.svg)](https://demo.leafmap.org/lab/index.html?path=notebooks/20_planet_imagery.ipynb)\n",
    "[![image](https://colab.research.google.com/assets/colab-badge.svg)](https://githubtocolab.com/giswqs/leafmap/blob/master/examples/notebooks/20_planet_imagery.ipynb)\n",
    "[![image](https://mybinder.org/badge_logo.svg)](https://gishub.org/leafmap-binder)\n",
    "\n",
    "**Adding Planet global monthly and quarterly mosaic**"
   ]
  },
  {
   "cell_type": "code",
   "execution_count": null,
   "id": "f4850472",
   "metadata": {},
   "outputs": [],
   "source": [
    "%pip install -q leafmap"
   ]
  },
  {
   "cell_type": "code",
   "execution_count": null,
   "id": "b36340d2",
   "metadata": {},
   "outputs": [],
   "source": [
    "import os\n",
    "import leafmap"
   ]
  },
  {
   "cell_type": "markdown",
   "id": "350b483c",
   "metadata": {},
   "source": [
    "First, you need to sign up a Planet account and get an API key. See https://developers.planet.com/quickstart/apis.\n",
    "Uncomment the following line to pass in your API key."
   ]
  },
  {
   "cell_type": "code",
   "execution_count": null,
   "id": "0235ef5f",
   "metadata": {},
   "outputs": [],
   "source": [
    "# os.environ[\"PLANET_API_KEY\"] = \"12345\""
   ]
  },
  {
   "cell_type": "markdown",
   "id": "1664f2fa",
   "metadata": {},
   "source": [
    "Determine the tile format based on the plotting backend being use. It can be either ipyleaflet or folium."
   ]
  },
  {
   "cell_type": "code",
   "execution_count": null,
   "id": "eb135b61",
   "metadata": {},
   "outputs": [],
   "source": [
    "tile_format = \"ipyleaflet\"\n",
    "\n",
    "if os.environ.get(\"USE_MKDOCS\") is not None:\n",
    "    tile_format = \"folium\""
   ]
  },
  {
   "cell_type": "markdown",
   "id": "e9cedf97",
   "metadata": {},
   "source": [
    "Generate Planet quarterly imagery URLs."
   ]
  },
  {
   "cell_type": "code",
   "execution_count": null,
   "id": "50e32219",
   "metadata": {},
   "outputs": [],
   "source": [
    "# leafmap.planet_quarterly()"
   ]
  },
  {
   "cell_type": "markdown",
   "id": "f1c9a79a",
   "metadata": {},
   "source": [
    "Generate Planet monthly imagery URLs."
   ]
  },
  {
   "cell_type": "code",
   "execution_count": null,
   "id": "441f40da",
   "metadata": {},
   "outputs": [],
   "source": [
    "# leafmap.planet_monthly()"
   ]
  },
  {
   "cell_type": "markdown",
   "id": "a9966461",
   "metadata": {},
   "source": [
    "Generates Planet bi-annual and monthly imagery URLs."
   ]
  },
  {
   "cell_type": "code",
   "execution_count": null,
   "id": "495a19eb",
   "metadata": {},
   "outputs": [],
   "source": [
    "# leafmap.planet_catalog()"
   ]
  },
  {
   "cell_type": "markdown",
   "id": "6c63bcb4",
   "metadata": {},
   "source": [
    "Generate Planet quarterly imagery TileLayer."
   ]
  },
  {
   "cell_type": "code",
   "execution_count": null,
   "id": "6b61e659",
   "metadata": {},
   "outputs": [],
   "source": [
    "quarterly_tiles = leafmap.planet_quarterly_tiles(tile_format=tile_format)"
   ]
  },
  {
   "cell_type": "markdown",
   "id": "a2199478",
   "metadata": {},
   "source": [
    "Generate Planet monthly imagery TileLayer."
   ]
  },
  {
   "cell_type": "code",
   "execution_count": null,
   "id": "90430d2d",
   "metadata": {},
   "outputs": [],
   "source": [
    "monthly_tiles = leafmap.planet_monthly_tiles(tile_format=tile_format)"
   ]
  },
  {
   "cell_type": "markdown",
   "id": "740defcb",
   "metadata": {},
   "source": [
    "Print out the quarterly tile URLs."
   ]
  },
  {
   "cell_type": "code",
   "execution_count": null,
   "id": "af3086a7",
   "metadata": {},
   "outputs": [],
   "source": [
    "for tile in quarterly_tiles:\n",
    "    print(tile)"
   ]
  },
  {
   "cell_type": "markdown",
   "id": "12b0eebe",
   "metadata": {},
   "source": [
    "Print out the monthly tile URLs."
   ]
  },
  {
   "cell_type": "code",
   "execution_count": null,
   "id": "2399bb66",
   "metadata": {},
   "outputs": [],
   "source": [
    "for tile in monthly_tiles:\n",
    "    print(tile)"
   ]
  },
  {
   "cell_type": "markdown",
   "id": "519c9ace",
   "metadata": {},
   "source": [
    "Add a Planet monthly mosaic by specifying year and month."
   ]
  },
  {
   "cell_type": "code",
   "execution_count": null,
   "id": "8318edb8",
   "metadata": {},
   "outputs": [],
   "source": [
    "m = leafmap.Map()\n",
    "m.add_planet_by_month(year=2020, month=8)\n",
    "m"
   ]
  },
  {
   "cell_type": "markdown",
   "id": "63acc12a",
   "metadata": {},
   "source": [
    "Add a Planet quarterly mosaic by specifying year and quarter."
   ]
  },
  {
   "cell_type": "code",
   "execution_count": null,
   "id": "f188f68e",
   "metadata": {},
   "outputs": [],
   "source": [
    "m = leafmap.Map()\n",
    "m.add_planet_by_quarter(year=2019, quarter=2)\n",
    "m"
   ]
  }
 ],
 "metadata": {
  "kernelspec": {
   "display_name": "Python (Pyodide)",
   "language": "python",
   "name": "python"
  }
 },
 "nbformat": 4,
 "nbformat_minor": 5
}
