{
 "cells": [
  {
   "cell_type": "markdown",
   "id": "c131ed55",
   "metadata": {},
   "source": [
    "[![image](https://jupyterlite.rtfd.io/en/latest/_static/badge.svg)](https://demo.leafmap.org/lab/index.html?path=notebooks/04_cog_mosaic.ipynb)\n",
    "[![image](https://colab.research.google.com/assets/colab-badge.svg)](https://githubtocolab.com/giswqs/leafmap/blob/master/examples/notebooks/04_cog_mosaic.ipynb)\n",
    "[![image](https://mybinder.org/badge_logo.svg)](https://gishub.org/leafmap-binder)\n",
    "\n",
    "**Creating a virtual mosaic of Cloud Optimized GeoTIFFs (COG)**\n",
    "\n",
    "\n",
    "**Important Note:** This notebook no longer works. The `add_cog_mosaic()` has been removed from leafmap. See https://github.com/giswqs/leafmap/issues/180"
   ]
  },
  {
   "cell_type": "code",
   "execution_count": null,
   "id": "da6c969c",
   "metadata": {},
   "outputs": [],
   "source": [
    "%pip install -q leafmap"
   ]
  },
  {
   "cell_type": "code",
   "execution_count": null,
   "id": "94be45da",
   "metadata": {},
   "outputs": [],
   "source": [
    "import leafmap"
   ]
  },
  {
   "cell_type": "code",
   "execution_count": null,
   "id": "53ea563e",
   "metadata": {},
   "outputs": [],
   "source": []
  },
  {
   "cell_type": "markdown",
   "id": "afb1afbe",
   "metadata": {},
   "source": [
    "Create an interactive map."
   ]
  },
  {
   "cell_type": "code",
   "execution_count": null,
   "id": "d5f36f29",
   "metadata": {},
   "outputs": [],
   "source": [
    "m = leafmap.Map()"
   ]
  },
  {
   "cell_type": "markdown",
   "id": "8ffd9463",
   "metadata": {},
   "source": [
    "For this demo, we will use data from https://www.maxar.com/open-data/california-colorado-fires for mapping California and Colorado fires. A List of COGs can be found at:\n",
    "\n",
    "- Pre-event: https://github.com/giswqs/leafmap/blob/master/examples/data/cog_pre_event.txt\n",
    "- Post-event: https://github.com/giswqs/leafmap/blob/master/examples/data/cog_post_event.txt"
   ]
  },
  {
   "cell_type": "code",
   "execution_count": null,
   "id": "fc9302cb",
   "metadata": {},
   "outputs": [],
   "source": [
    "pre_fire_url = 'https://raw.githubusercontent.com/giswqs/leafmap/master/examples/data/cog_pre_event.txt'"
   ]
  },
  {
   "cell_type": "markdown",
   "id": "bbbdc75c",
   "metadata": {},
   "source": [
    "Create an XYZ tile layer based on a txt file containing a list of COG URLs."
   ]
  },
  {
   "cell_type": "code",
   "execution_count": null,
   "id": "e30f06a8",
   "metadata": {},
   "outputs": [],
   "source": [
    "# leafmap.cog_mosaic_from_file(pre_fire_url)"
   ]
  },
  {
   "cell_type": "code",
   "execution_count": null,
   "id": "522f65df",
   "metadata": {},
   "outputs": [],
   "source": [
    "post_fire_url = 'https://raw.githubusercontent.com/giswqs/leafmap/master/examples/data/cog_post_event.txt'"
   ]
  },
  {
   "cell_type": "code",
   "execution_count": null,
   "id": "5e41e4f6",
   "metadata": {},
   "outputs": [],
   "source": [
    "# leafmap.cog_mosaic_from_file(post_fire_url)"
   ]
  },
  {
   "cell_type": "markdown",
   "id": "d0035c82",
   "metadata": {},
   "source": [
    "Add a COG mosaic tile layer to the map."
   ]
  },
  {
   "cell_type": "code",
   "execution_count": null,
   "id": "dce28af1",
   "metadata": {},
   "outputs": [],
   "source": [
    "# m.add_cog_mosaic_from_file(pre_fire_url, name=\"Pre-event\", show_footprints=True)  #This line might take a while to run"
   ]
  },
  {
   "cell_type": "code",
   "execution_count": null,
   "id": "f7e08df1",
   "metadata": {},
   "outputs": [],
   "source": [
    "# m.add_cog_mosaic_from_file(post_fire_url, name=\"Post-event\", show_footprints=True)   #This line might take a while to run"
   ]
  },
  {
   "cell_type": "code",
   "execution_count": null,
   "id": "c5f0aeca",
   "metadata": {},
   "outputs": [],
   "source": [
    "pre_event_tile = (\n",
    "    'https://titiler.xyzmosaicjson/anonymous.layer_pqmra/tiles/{z}/{x}/{y}@1x?'\n",
    ")\n",
    "m.add_tile_layer(pre_event_tile, name=\"Pre-event\", attribution=\"Maxar\")"
   ]
  },
  {
   "cell_type": "code",
   "execution_count": null,
   "id": "d246ebe7",
   "metadata": {},
   "outputs": [],
   "source": [
    "post_event_tile = (\n",
    "    'https://titiler.xyzmosaicjson/anonymous.layer_qdano/tiles/{z}/{x}/{y}@1x?'\n",
    ")\n",
    "m.add_tile_layer(post_event_tile, name=\"Post-event\", attribution=\"Maxar\")"
   ]
  },
  {
   "cell_type": "code",
   "execution_count": null,
   "id": "0c71e739",
   "metadata": {},
   "outputs": [],
   "source": [
    "m.set_center(-122.0828, 37.0317, 11)"
   ]
  },
  {
   "cell_type": "code",
   "execution_count": null,
   "id": "03714aa1",
   "metadata": {},
   "outputs": [],
   "source": [
    "m"
   ]
  }
 ],
 "metadata": {
  "kernelspec": {
   "display_name": "Python (Pyodide)",
   "language": "python",
   "name": "python"
  }
 },
 "nbformat": 4,
 "nbformat_minor": 5
}
