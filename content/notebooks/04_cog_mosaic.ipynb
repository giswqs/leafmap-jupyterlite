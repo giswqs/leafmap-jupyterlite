{
 "cells": [
  {
   "cell_type": "markdown",
   "id": "fc9398a4",
   "metadata": {},
   "source": [
    "[![image](https://jupyterlite.rtfd.io/en/latest/_static/badge.svg)](https://demo.leafmap.org/lab/index.html?path=notebooks/04_cog_mosaic.ipynb)\n",
    "[![image](https://colab.research.google.com/assets/colab-badge.svg)](https://githubtocolab.com/giswqs/leafmap/blob/master/examples/notebooks/04_cog_mosaic.ipynb)\n",
    "[![image](https://mybinder.org/badge_logo.svg)](https://gishub.org/leafmap-binder)\n",
    "\n",
    "**Creating a virtual mosaic of Cloud Optimized GeoTIFFs (COG)**\n",
    "\n",
    "\n",
    "**Important Note:** This notebook no longer works. The `add_cog_mosaic()` has been removed from leafmap. See https://github.com/giswqs/leafmap/issues/180"
   ]
  },
  {
   "cell_type": "code",
   "execution_count": null,
   "id": "bcd61c79",
   "metadata": {},
   "outputs": [],
   "source": [
    "%pip install -q leafmap"
   ]
  },
  {
   "cell_type": "code",
   "execution_count": null,
   "id": "46c64077",
   "metadata": {},
   "outputs": [],
   "source": [
    "import leafmap"
   ]
  },
  {
   "cell_type": "code",
   "execution_count": null,
   "id": "d49707e5",
   "metadata": {},
   "outputs": [],
   "source": []
  },
  {
   "cell_type": "markdown",
   "id": "6dd1c3c4",
   "metadata": {},
   "source": [
    "Create an interactive map."
   ]
  },
  {
   "cell_type": "code",
   "execution_count": null,
   "id": "8e0aa5f6",
   "metadata": {},
   "outputs": [],
   "source": [
    "m = leafmap.Map()"
   ]
  },
  {
   "cell_type": "markdown",
   "id": "576717b7",
   "metadata": {},
   "source": [
    "For this demo, we will use data from https://www.maxar.com/open-data/california-colorado-fires for mapping California and Colorado fires. A List of COGs can be found at:\n",
    "\n",
    "- Pre-event: https://github.com/giswqs/leafmap/blob/master/examples/data/cog_pre_event.txt\n",
    "- Post-event: https://github.com/giswqs/leafmap/blob/master/examples/data/cog_post_event.txt"
   ]
  },
  {
   "cell_type": "code",
   "execution_count": null,
   "id": "f9b827d5",
   "metadata": {},
   "outputs": [],
   "source": [
    "pre_fire_url = 'https://raw.githubusercontent.com/giswqs/leafmap/master/examples/data/cog_pre_event.txt'"
   ]
  },
  {
   "cell_type": "markdown",
   "id": "8ec83495",
   "metadata": {},
   "source": [
    "Create an XYZ tile layer based on a txt file containing a list of COG URLs."
   ]
  },
  {
   "cell_type": "code",
   "execution_count": null,
   "id": "2d61ef7f",
   "metadata": {},
   "outputs": [],
   "source": [
    "# leafmap.cog_mosaic_from_file(pre_fire_url)"
   ]
  },
  {
   "cell_type": "code",
   "execution_count": null,
   "id": "c9a40321",
   "metadata": {},
   "outputs": [],
   "source": [
    "post_fire_url = 'https://raw.githubusercontent.com/giswqs/leafmap/master/examples/data/cog_post_event.txt'"
   ]
  },
  {
   "cell_type": "code",
   "execution_count": null,
   "id": "768946cf",
   "metadata": {},
   "outputs": [],
   "source": [
    "# leafmap.cog_mosaic_from_file(post_fire_url)"
   ]
  },
  {
   "cell_type": "markdown",
   "id": "8b8463a4",
   "metadata": {},
   "source": [
    "Add a COG mosaic tile layer to the map."
   ]
  },
  {
   "cell_type": "code",
   "execution_count": null,
   "id": "f377d4f2",
   "metadata": {},
   "outputs": [],
   "source": [
    "# m.add_cog_mosaic_from_file(pre_fire_url, name=\"Pre-event\", show_footprints=True)  #This line might take a while to run"
   ]
  },
  {
   "cell_type": "code",
   "execution_count": null,
   "id": "723d9673",
   "metadata": {},
   "outputs": [],
   "source": [
    "# m.add_cog_mosaic_from_file(post_fire_url, name=\"Post-event\", show_footprints=True)   #This line might take a while to run"
   ]
  },
  {
   "cell_type": "code",
   "execution_count": null,
   "id": "48200226",
   "metadata": {},
   "outputs": [],
   "source": [
    "pre_event_tile = (\n",
    "    'https://titiler.xyzmosaicjson/anonymous.layer_pqmra/tiles/{z}/{x}/{y}@1x?'\n",
    ")\n",
    "m.add_tile_layer(pre_event_tile, name=\"Pre-event\", attribution=\"Maxar\")"
   ]
  },
  {
   "cell_type": "code",
   "execution_count": null,
   "id": "75643f65",
   "metadata": {},
   "outputs": [],
   "source": [
    "post_event_tile = (\n",
    "    'https://titiler.xyzmosaicjson/anonymous.layer_qdano/tiles/{z}/{x}/{y}@1x?'\n",
    ")\n",
    "m.add_tile_layer(post_event_tile, name=\"Post-event\", attribution=\"Maxar\")"
   ]
  },
  {
   "cell_type": "code",
   "execution_count": null,
   "id": "fe04c3d4",
   "metadata": {},
   "outputs": [],
   "source": [
    "m.set_center(-122.0828, 37.0317, 11)"
   ]
  },
  {
   "cell_type": "code",
   "execution_count": null,
   "id": "618c46ff",
   "metadata": {},
   "outputs": [],
   "source": [
    "m"
   ]
  }
 ],
 "metadata": {
  "kernelspec": {
   "display_name": "Python 3 (ipykernel)",
   "language": "python",
   "name": "python3"
  }
 },
 "nbformat": 4,
 "nbformat_minor": 5
}
