{
 "cells": [
  {
   "cell_type": "markdown",
   "id": "1473e4e4",
   "metadata": {},
   "source": [
    "[![image](https://jupyterlite.rtfd.io/en/latest/_static/badge.svg)](https://demo.leafmap.org/lab/index.html?path=notebooks/40_plotly_gui.ipynb)\n",
    "[![image](https://colab.research.google.com/assets/colab-badge.svg)](https://githubtocolab.com/giswqs/leafmap/blob/master/examples/notebooks/40_plotly_gui.ipynb)\n",
    "[![image](https://mybinder.org/badge_logo.svg)](https://gishub.org/leafmap-binder)"
   ]
  },
  {
   "cell_type": "code",
   "execution_count": null,
   "id": "c9280fac",
   "metadata": {},
   "outputs": [],
   "source": [
    "%pip install -q leafmap"
   ]
  },
  {
   "cell_type": "code",
   "execution_count": null,
   "id": "c032e605",
   "metadata": {},
   "outputs": [],
   "source": [
    "import leafmap.plotlymap as leafmap"
   ]
  },
  {
   "cell_type": "markdown",
   "id": "fd41dbde",
   "metadata": {},
   "source": [
    "**Note:** For best experience, please use Jupyter notebook. The toolbar GUI is not working very well with JupyterLab at the moment."
   ]
  },
  {
   "cell_type": "code",
   "execution_count": null,
   "id": "b1ecb967",
   "metadata": {},
   "outputs": [],
   "source": [
    "m = leafmap.Map()"
   ]
  },
  {
   "cell_type": "code",
   "execution_count": null,
   "id": "19dbd8ad",
   "metadata": {},
   "outputs": [],
   "source": [
    "m.add_basemap(\"Stamen.Terrain\")"
   ]
  },
  {
   "cell_type": "code",
   "execution_count": null,
   "id": "b1931e18",
   "metadata": {},
   "outputs": [],
   "source": [
    "m.add_heatmap_demo()"
   ]
  },
  {
   "cell_type": "code",
   "execution_count": null,
   "id": "e15c3929",
   "metadata": {},
   "outputs": [],
   "source": [
    "m.add_scatter_plot_demo()"
   ]
  },
  {
   "cell_type": "code",
   "execution_count": null,
   "id": "93a88e12",
   "metadata": {},
   "outputs": [],
   "source": [
    "m.show()"
   ]
  },
  {
   "cell_type": "markdown",
   "id": "6e0200fe",
   "metadata": {},
   "source": [
    "![](https://i.imgur.com/BJZbi9U.gif)"
   ]
  }
 ],
 "metadata": {
  "kernelspec": {
   "display_name": "Python 3 (ipykernel)",
   "language": "python",
   "name": "python3"
  }
 },
 "nbformat": 4,
 "nbformat_minor": 5
}
