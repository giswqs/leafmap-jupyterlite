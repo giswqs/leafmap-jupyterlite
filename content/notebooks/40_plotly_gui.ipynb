{
 "cells": [
  {
   "cell_type": "markdown",
   "id": "bb4b7fca",
   "metadata": {},
   "source": [
    "[![image](https://jupyterlite.rtfd.io/en/latest/_static/badge.svg)](https://demo.leafmap.org/lab/index.html?path=notebooks/40_plotly_gui.ipynb)\n",
    "[![image](https://colab.research.google.com/assets/colab-badge.svg)](https://githubtocolab.com/giswqs/leafmap/blob/master/examples/notebooks/40_plotly_gui.ipynb)\n",
    "[![image](https://mybinder.org/badge_logo.svg)](https://gishub.org/leafmap-binder)"
   ]
  },
  {
   "cell_type": "code",
   "execution_count": null,
   "id": "7c9dde0e",
   "metadata": {},
   "outputs": [],
   "source": [
    "%pip install -q leafmap"
   ]
  },
  {
   "cell_type": "code",
   "execution_count": null,
   "id": "9a485fd8",
   "metadata": {},
   "outputs": [],
   "source": [
    "import leafmap.plotlymap as leafmap"
   ]
  },
  {
   "cell_type": "markdown",
   "id": "46053fad",
   "metadata": {},
   "source": [
    "**Note:** For best experience, please use Jupyter notebook. The toolbar GUI is not working very well with JupyterLab at the moment."
   ]
  },
  {
   "cell_type": "code",
   "execution_count": null,
   "id": "1900117a",
   "metadata": {},
   "outputs": [],
   "source": [
    "m = leafmap.Map()"
   ]
  },
  {
   "cell_type": "code",
   "execution_count": null,
   "id": "f89ec2fa",
   "metadata": {},
   "outputs": [],
   "source": [
    "m.add_basemap(\"Stamen.Terrain\")"
   ]
  },
  {
   "cell_type": "code",
   "execution_count": null,
   "id": "3881f1da",
   "metadata": {},
   "outputs": [],
   "source": [
    "m.add_heatmap_demo()"
   ]
  },
  {
   "cell_type": "code",
   "execution_count": null,
   "id": "80772165",
   "metadata": {},
   "outputs": [],
   "source": [
    "m.add_scatter_plot_demo()"
   ]
  },
  {
   "cell_type": "code",
   "execution_count": null,
   "id": "d2485b64",
   "metadata": {},
   "outputs": [],
   "source": [
    "m.show()"
   ]
  },
  {
   "cell_type": "markdown",
   "id": "690af145",
   "metadata": {},
   "source": [
    "![](https://i.imgur.com/BJZbi9U.gif)"
   ]
  }
 ],
 "metadata": {
  "kernelspec": {
   "display_name": "Python (Pyodide)",
   "language": "python",
   "name": "python3"
  }
 },
 "nbformat": 4,
 "nbformat_minor": 5
}
