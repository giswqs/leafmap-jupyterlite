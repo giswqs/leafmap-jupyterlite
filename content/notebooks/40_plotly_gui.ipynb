{
 "cells": [
  {
   "cell_type": "markdown",
   "id": "2b552434",
   "metadata": {},
   "source": [
    "[![image](https://jupyterlite.rtfd.io/en/latest/_static/badge.svg)](https://demo.leafmap.org/lab/index.html?path=notebooks/40_plotly_gui.ipynb)\n",
    "[![image](https://colab.research.google.com/assets/colab-badge.svg)](https://githubtocolab.com/giswqs/leafmap/blob/master/examples/notebooks/40_plotly_gui.ipynb)\n",
    "[![image](https://mybinder.org/badge_logo.svg)](https://gishub.org/leafmap-binder)"
   ]
  },
  {
   "cell_type": "code",
   "execution_count": null,
   "id": "5285ee5f",
   "metadata": {},
   "outputs": [],
   "source": [
    "%pip install -q leafmap"
   ]
  },
  {
   "cell_type": "code",
   "execution_count": null,
   "id": "77dff9eb",
   "metadata": {},
   "outputs": [],
   "source": [
    "import leafmap.plotlymap as leafmap"
   ]
  },
  {
   "cell_type": "markdown",
   "id": "bcb108ee",
   "metadata": {},
   "source": [
    "**Note:** For best experience, please use Jupyter notebook. The toolbar GUI is not working very well with JupyterLab at the moment."
   ]
  },
  {
   "cell_type": "code",
   "execution_count": null,
   "id": "343a5c2e",
   "metadata": {},
   "outputs": [],
   "source": [
    "m = leafmap.Map()"
   ]
  },
  {
   "cell_type": "code",
   "execution_count": null,
   "id": "c4bc0d3f",
   "metadata": {},
   "outputs": [],
   "source": [
    "m.add_basemap(\"Stamen.Terrain\")"
   ]
  },
  {
   "cell_type": "code",
   "execution_count": null,
   "id": "a7baec17",
   "metadata": {},
   "outputs": [],
   "source": [
    "m.add_heatmap_demo()"
   ]
  },
  {
   "cell_type": "code",
   "execution_count": null,
   "id": "9dc87b89",
   "metadata": {},
   "outputs": [],
   "source": [
    "m.add_scatter_plot_demo()"
   ]
  },
  {
   "cell_type": "code",
   "execution_count": null,
   "id": "4009d772",
   "metadata": {},
   "outputs": [],
   "source": [
    "m.show()"
   ]
  },
  {
   "cell_type": "markdown",
   "id": "c6de626a",
   "metadata": {},
   "source": [
    "![](https://i.imgur.com/BJZbi9U.gif)"
   ]
  }
 ],
 "metadata": {
  "kernelspec": {
   "display_name": "Python (Pyodide)",
   "language": "python",
   "name": "python"
  }
 },
 "nbformat": 4,
 "nbformat_minor": 5
}
