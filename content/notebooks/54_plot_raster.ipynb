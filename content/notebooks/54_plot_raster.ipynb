{
 "cells": [
  {
   "cell_type": "markdown",
   "id": "df369394",
   "metadata": {},
   "source": [
    "[![image](https://jupyterlite.rtfd.io/en/latest/_static/badge.svg)](https://demo.leafmap.org/lab/index.html?path=notebooks/54_plot_raster.ipynb)\n",
    "[![image](https://colab.research.google.com/assets/colab-badge.svg)](https://githubtocolab.com/giswqs/leafmap/blob/master/examples/notebooks/54_plot_raster.ipynb)\n",
    "[![image](https://mybinder.org/badge_logo.svg)](https://gishub.org/leafmap-binder)"
   ]
  },
  {
   "cell_type": "code",
   "execution_count": null,
   "id": "734e5c88",
   "metadata": {},
   "outputs": [],
   "source": [
    "%pip install -q leafmap"
   ]
  },
  {
   "cell_type": "code",
   "execution_count": null,
   "id": "7ecbdcaf",
   "metadata": {},
   "outputs": [],
   "source": [
    "import os\n",
    "import leafmap"
   ]
  },
  {
   "cell_type": "markdown",
   "id": "be607c91",
   "metadata": {},
   "source": [
    "Download a sample dataset."
   ]
  },
  {
   "cell_type": "code",
   "execution_count": null,
   "id": "7320bf30",
   "metadata": {},
   "outputs": [],
   "source": [
    "url = 'https://github.com/giswqs/data/raw/main/raster/srtm90.tif'"
   ]
  },
  {
   "cell_type": "code",
   "execution_count": null,
   "id": "0ebc498e",
   "metadata": {},
   "outputs": [],
   "source": [
    "image = 'srtm90.tif'\n",
    "if not os.path.exists(image):\n",
    "    leafmap.download_file(url, image)"
   ]
  },
  {
   "cell_type": "markdown",
   "id": "353bec61",
   "metadata": {},
   "source": [
    "Plot the raster image in 2D."
   ]
  },
  {
   "cell_type": "code",
   "execution_count": null,
   "id": "695cc161",
   "metadata": {},
   "outputs": [],
   "source": [
    "leafmap.plot_raster(image, cmap='terrain', figsize=(15, 10))"
   ]
  },
  {
   "cell_type": "markdown",
   "id": "884ba7b0",
   "metadata": {},
   "source": [
    "![](https://i.imgur.com/oDoivba.png)"
   ]
  },
  {
   "cell_type": "markdown",
   "id": "84c79ac5",
   "metadata": {},
   "source": [
    "Plot the raster image in 3D."
   ]
  },
  {
   "cell_type": "code",
   "execution_count": null,
   "id": "a9b82f9b",
   "metadata": {},
   "outputs": [],
   "source": [
    "leafmap.plot_raster_3d('srtm90.tif', factor=2, cmap='terrain', background='gray')"
   ]
  },
  {
   "cell_type": "markdown",
   "id": "3e80fc4b",
   "metadata": {},
   "source": [
    "![](https://i.imgur.com/UQDbV2G.gif)"
   ]
  }
 ],
 "metadata": {
  "kernelspec": {
   "display_name": "Python 3",
   "language": "python",
   "name": "python3"
  }
 },
 "nbformat": 4,
 "nbformat_minor": 5
}
