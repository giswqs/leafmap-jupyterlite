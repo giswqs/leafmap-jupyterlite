{
 "cells": [
  {
   "cell_type": "markdown",
   "id": "ac30a580",
   "metadata": {},
   "source": [
    "[![image](https://jupyterlite.rtfd.io/en/latest/_static/badge.svg)](https://demo.leafmap.org/lab/index.html?path=notebooks/54_plot_raster.ipynb)\n",
    "[![image](https://colab.research.google.com/assets/colab-badge.svg)](https://githubtocolab.com/giswqs/leafmap/blob/master/examples/notebooks/54_plot_raster.ipynb)\n",
    "[![image](https://mybinder.org/badge_logo.svg)](https://gishub.org/leafmap-binder)"
   ]
  },
  {
   "cell_type": "code",
   "execution_count": null,
   "id": "c1866e61",
   "metadata": {},
   "outputs": [],
   "source": [
    "%pip install -q leafmap"
   ]
  },
  {
   "cell_type": "code",
   "execution_count": null,
   "id": "c169c6a1",
   "metadata": {},
   "outputs": [],
   "source": [
    "import os\n",
    "import leafmap"
   ]
  },
  {
   "cell_type": "markdown",
   "id": "68a0935d",
   "metadata": {},
   "source": [
    "Download a sample dataset."
   ]
  },
  {
   "cell_type": "code",
   "execution_count": null,
   "id": "7de9e08e",
   "metadata": {},
   "outputs": [],
   "source": [
    "url = 'https://github.com/giswqs/data/raw/main/raster/srtm90.tif'"
   ]
  },
  {
   "cell_type": "code",
   "execution_count": null,
   "id": "9250595c",
   "metadata": {},
   "outputs": [],
   "source": [
    "image = 'srtm90.tif'\n",
    "if not os.path.exists(image):\n",
    "    leafmap.download_file(url, image)"
   ]
  },
  {
   "cell_type": "markdown",
   "id": "7611b508",
   "metadata": {},
   "source": [
    "Plot the raster image in 2D."
   ]
  },
  {
   "cell_type": "code",
   "execution_count": null,
   "id": "12f45902",
   "metadata": {},
   "outputs": [],
   "source": [
    "leafmap.plot_raster(image, cmap='terrain', figsize=(15, 10))"
   ]
  },
  {
   "cell_type": "markdown",
   "id": "1f827331",
   "metadata": {},
   "source": [
    "![](https://i.imgur.com/oDoivba.png)"
   ]
  },
  {
   "cell_type": "markdown",
   "id": "12360a3f",
   "metadata": {},
   "source": [
    "Plot the raster image in 3D."
   ]
  },
  {
   "cell_type": "code",
   "execution_count": null,
   "id": "3c828d55",
   "metadata": {},
   "outputs": [],
   "source": [
    "leafmap.plot_raster_3d('srtm90.tif', factor=2, cmap='terrain', background='gray')"
   ]
  },
  {
   "cell_type": "markdown",
   "id": "84f8629f",
   "metadata": {},
   "source": [
    "![](https://i.imgur.com/UQDbV2G.gif)"
   ]
  }
 ],
 "metadata": {
  "kernelspec": {
   "display_name": "Python (Pyodide)",
   "language": "python",
   "name": "python"
  }
 },
 "nbformat": 4,
 "nbformat_minor": 5
}
