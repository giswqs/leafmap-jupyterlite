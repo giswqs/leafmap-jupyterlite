{
 "cells": [
  {
   "cell_type": "markdown",
   "id": "b2527abe",
   "metadata": {},
   "source": [
    "[![image](https://mybinder.org/badge_logo.svg)](https://gishub.org/leafmap-binder)\n",
    "\n",
    "**Using timeseries inspector with a single click**"
   ]
  },
  {
   "cell_type": "code",
   "execution_count": null,
   "id": "312cf6b7",
   "metadata": {},
   "outputs": [],
   "source": [
    "%pip install -q leafmap"
   ]
  },
  {
   "cell_type": "markdown",
   "id": "cae01a19",
   "metadata": {},
   "source": [
    "This notebook requires the ipyleaflet plotting backend. Folium is not supported."
   ]
  },
  {
   "cell_type": "code",
   "execution_count": null,
   "id": "209d94f0",
   "metadata": {},
   "outputs": [],
   "source": [
    "import os\n",
    "from leafmap import leafmap"
   ]
  },
  {
   "cell_type": "code",
   "execution_count": null,
   "id": "873fa2fc",
   "metadata": {},
   "outputs": [],
   "source": [
    "# leafmap.update_package()"
   ]
  },
  {
   "cell_type": "markdown",
   "id": "8be80930",
   "metadata": {},
   "source": [
    "First, you need to sign up a Planet account and get an API key. See https://developers.planet.com/quickstart/apis.\n",
    "Uncomment the following line to pass in your API key."
   ]
  },
  {
   "cell_type": "code",
   "execution_count": null,
   "id": "e48949f7",
   "metadata": {},
   "outputs": [],
   "source": [
    "# os.environ[\"PLANET_API_KEY\"] = \"12345\""
   ]
  },
  {
   "cell_type": "markdown",
   "id": "be6f9aeb",
   "metadata": {},
   "source": [
    "Create a list of Planet monthly mosaic tile layers."
   ]
  },
  {
   "cell_type": "code",
   "execution_count": null,
   "id": "a7c3f2fc",
   "metadata": {},
   "outputs": [],
   "source": [
    "monthly_tiles = leafmap.planet_monthly_tiles()"
   ]
  },
  {
   "cell_type": "markdown",
   "id": "36e51b80",
   "metadata": {},
   "source": [
    "Use the timeseries inspector to visualize images side by side with a split-panel map."
   ]
  },
  {
   "cell_type": "code",
   "execution_count": null,
   "id": "abf32e44",
   "metadata": {},
   "outputs": [],
   "source": [
    "leafmap.ts_inspector(monthly_tiles)"
   ]
  },
  {
   "cell_type": "markdown",
   "id": "1ec7a997",
   "metadata": {},
   "source": [
    "Create a list of Planet quarterly mosaic tile layers."
   ]
  },
  {
   "cell_type": "code",
   "execution_count": null,
   "id": "53969566",
   "metadata": {},
   "outputs": [],
   "source": [
    "quarterly_tiles = leafmap.planet_quarterly_tiles()"
   ]
  },
  {
   "cell_type": "markdown",
   "id": "2d40a6d6",
   "metadata": {},
   "source": [
    "Use the timeseries inspector to visualize images side by side with a split-panel map."
   ]
  },
  {
   "cell_type": "code",
   "execution_count": null,
   "id": "32fd13ac",
   "metadata": {},
   "outputs": [],
   "source": [
    "leafmap.ts_inspector(quarterly_tiles)"
   ]
  },
  {
   "cell_type": "markdown",
   "id": "0c2d4767",
   "metadata": {},
   "source": [
    "Create a list of Planet quarterly and monthly mosaic tile layers."
   ]
  },
  {
   "cell_type": "code",
   "execution_count": null,
   "id": "48a27151",
   "metadata": {},
   "outputs": [],
   "source": [
    "tiles = leafmap.planet_tiles()"
   ]
  },
  {
   "cell_type": "markdown",
   "id": "1ba09118",
   "metadata": {},
   "source": [
    "Use the timeseries inspector to visualize images side by side with a split-panel map."
   ]
  },
  {
   "cell_type": "code",
   "execution_count": null,
   "id": "9a607f76",
   "metadata": {},
   "outputs": [],
   "source": [
    "leafmap.ts_inspector(tiles)"
   ]
  },
  {
   "cell_type": "markdown",
   "id": "15e4ae9a",
   "metadata": {},
   "source": [
    "Use the toolbar GUI to activate the timeseries inspector."
   ]
  },
  {
   "cell_type": "code",
   "execution_count": null,
   "id": "32292e62",
   "metadata": {},
   "outputs": [],
   "source": [
    "m = leafmap.Map()\n",
    "m"
   ]
  },
  {
   "cell_type": "markdown",
   "id": "3f2ec055",
   "metadata": {},
   "source": [
    "![](https://i.imgur.com/cEilgvb.gif)"
   ]
  }
 ],
 "metadata": {
  "kernelspec": {
   "display_name": "Python 3",
   "language": "python",
   "name": "python3"
  }
 },
 "nbformat": 4,
 "nbformat_minor": 5
}
