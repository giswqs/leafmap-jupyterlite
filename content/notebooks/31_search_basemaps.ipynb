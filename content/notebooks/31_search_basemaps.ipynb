{
 "cells": [
  {
   "cell_type": "markdown",
   "id": "dcd9bdfb",
   "metadata": {},
   "source": [
    "[![image](https://jupyterlite.rtfd.io/en/latest/_static/badge.svg)](https://demo.leafmap.org/lab/index.html?path=notebooks/31_search_basemaps.ipynb)\n",
    "[![image](https://colab.research.google.com/assets/colab-badge.svg)](https://githubtocolab.com/giswqs/leafmap/blob/master/examples/notebooks/31_search_basemaps.ipynb)\n",
    "[![image](https://mybinder.org/badge_logo.svg)](https://gishub.org/leafmap-binder)"
   ]
  },
  {
   "cell_type": "code",
   "execution_count": null,
   "id": "df143c80",
   "metadata": {},
   "outputs": [],
   "source": [
    "%pip install -q leafmap"
   ]
  },
  {
   "cell_type": "code",
   "execution_count": null,
   "id": "eba146f8",
   "metadata": {},
   "outputs": [],
   "source": [
    "import leafmap"
   ]
  },
  {
   "cell_type": "markdown",
   "id": "55cb926d",
   "metadata": {},
   "source": [
    "Search xyz tiles from [xyzservices](https://github.com/geopandas/xyzservices)."
   ]
  },
  {
   "cell_type": "code",
   "execution_count": null,
   "id": "c4ebbea5",
   "metadata": {},
   "outputs": [],
   "source": [
    "leafmap.search_xyz_services(keyword=\"esri\")"
   ]
  },
  {
   "cell_type": "markdown",
   "id": "cd84e497",
   "metadata": {},
   "source": [
    "Add an xyz tile to the map."
   ]
  },
  {
   "cell_type": "code",
   "execution_count": null,
   "id": "dd2e0d78",
   "metadata": {},
   "outputs": [],
   "source": [
    "m = leafmap.Map()\n",
    "m.add_xyz_service(\"xyz.Esri.NatGeoWorldMap\")\n",
    "m"
   ]
  },
  {
   "cell_type": "markdown",
   "id": "32da47a5",
   "metadata": {},
   "source": [
    "Search xyz tiles from [Quick Map Services](https://github.com/nextgis/quickmapservices)."
   ]
  },
  {
   "cell_type": "code",
   "execution_count": null,
   "id": "419f567b",
   "metadata": {},
   "outputs": [],
   "source": [
    "leafmap.search_qms(keyword=\"google\")"
   ]
  },
  {
   "cell_type": "markdown",
   "id": "cca8eea6",
   "metadata": {},
   "source": [
    "Add xyz tile to the map."
   ]
  },
  {
   "cell_type": "code",
   "execution_count": null,
   "id": "c5014b2e",
   "metadata": {},
   "outputs": [],
   "source": [
    "m = leafmap.Map()\n",
    "m.add_xyz_service(\"qms.Google Satellite Hybrid\")\n",
    "m"
   ]
  },
  {
   "cell_type": "markdown",
   "id": "6824fa38",
   "metadata": {},
   "source": [
    "Search basemaps interactively without coding."
   ]
  },
  {
   "cell_type": "markdown",
   "id": "b8354ff7",
   "metadata": {},
   "source": [
    "![](https://i.imgur.com/WSxnAKY.gif)"
   ]
  }
 ],
 "metadata": {
  "kernelspec": {
   "display_name": "Python (Pyodide)",
   "language": "python",
   "name": "python"
  }
 },
 "nbformat": 4,
 "nbformat_minor": 5
}
