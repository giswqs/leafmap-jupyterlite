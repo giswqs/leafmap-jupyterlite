{
 "cells": [
  {
   "cell_type": "markdown",
   "id": "7726f928",
   "metadata": {},
   "source": [
    "[![image](https://jupyterlite.rtfd.io/en/latest/_static/badge.svg)](https://demo.leafmap.org/lab/index.html?path=notebooks/31_search_basemaps.ipynb)\n",
    "[![image](https://colab.research.google.com/assets/colab-badge.svg)](https://githubtocolab.com/giswqs/leafmap/blob/master/examples/notebooks/31_search_basemaps.ipynb)\n",
    "[![image](https://mybinder.org/badge_logo.svg)](https://gishub.org/leafmap-binder)"
   ]
  },
  {
   "cell_type": "code",
   "execution_count": null,
   "id": "832b5a83",
   "metadata": {},
   "outputs": [],
   "source": [
    "%pip install -q leafmap"
   ]
  },
  {
   "cell_type": "code",
   "execution_count": null,
   "id": "1ece8a6e",
   "metadata": {},
   "outputs": [],
   "source": [
    "import leafmap"
   ]
  },
  {
   "cell_type": "markdown",
   "id": "30a776d9",
   "metadata": {},
   "source": [
    "Search xyz tiles from [xyzservices](https://github.com/geopandas/xyzservices)."
   ]
  },
  {
   "cell_type": "code",
   "execution_count": null,
   "id": "e04740c2",
   "metadata": {},
   "outputs": [],
   "source": [
    "leafmap.search_xyz_services(keyword=\"esri\")"
   ]
  },
  {
   "cell_type": "markdown",
   "id": "9fd09473",
   "metadata": {},
   "source": [
    "Add an xyz tile to the map."
   ]
  },
  {
   "cell_type": "code",
   "execution_count": null,
   "id": "40d8f8a7",
   "metadata": {},
   "outputs": [],
   "source": [
    "m = leafmap.Map()\n",
    "m.add_xyz_service(\"xyz.Esri.NatGeoWorldMap\")\n",
    "m"
   ]
  },
  {
   "cell_type": "markdown",
   "id": "f45da7d0",
   "metadata": {},
   "source": [
    "Search xyz tiles from [Quick Map Services](https://github.com/nextgis/quickmapservices)."
   ]
  },
  {
   "cell_type": "code",
   "execution_count": null,
   "id": "7b9c141a",
   "metadata": {},
   "outputs": [],
   "source": [
    "leafmap.search_qms(keyword=\"google\")"
   ]
  },
  {
   "cell_type": "markdown",
   "id": "d1370986",
   "metadata": {},
   "source": [
    "Add xyz tile to the map."
   ]
  },
  {
   "cell_type": "code",
   "execution_count": null,
   "id": "5aad3534",
   "metadata": {},
   "outputs": [],
   "source": [
    "m = leafmap.Map()\n",
    "m.add_xyz_service(\"qms.Google Satellite Hybrid\")\n",
    "m"
   ]
  },
  {
   "cell_type": "markdown",
   "id": "c53fe338",
   "metadata": {},
   "source": [
    "Search basemaps interactively without coding."
   ]
  },
  {
   "cell_type": "markdown",
   "id": "44b38c9f",
   "metadata": {},
   "source": [
    "![](https://i.imgur.com/WSxnAKY.gif)"
   ]
  }
 ],
 "metadata": {
  "kernelspec": {
   "display_name": "Python 3",
   "language": "python",
   "name": "python3"
  }
 },
 "nbformat": 4,
 "nbformat_minor": 5
}
