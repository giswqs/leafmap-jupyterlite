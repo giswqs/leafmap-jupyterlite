{
 "cells": [
  {
   "cell_type": "markdown",
   "id": "4e7fa35c",
   "metadata": {},
   "source": [
    "[![image](https://jupyterlite.rtfd.io/en/latest/_static/badge.svg)](https://demo.leafmap.org/lab/index.html?path=notebooks/03_cog_stac.ipynb)\n",
    "[![image](https://colab.research.google.com/assets/colab-badge.svg)](https://githubtocolab.com/giswqs/leafmap/blob/master/examples/notebooks/03_cog_stac.ipynb)\n",
    "[![image](https://mybinder.org/badge_logo.svg)](https://gishub.org/leafmap-binder)\n",
    "\n",
    "**Using Cloud Optimized GeoTIFF (COG) and SpatioTemporal Asset Catalog (STAC)**"
   ]
  },
  {
   "cell_type": "code",
   "execution_count": null,
   "id": "5f651046",
   "metadata": {},
   "outputs": [],
   "source": [
    "%pip install -q leafmap"
   ]
  },
  {
   "cell_type": "markdown",
   "id": "9f41c3c9",
   "metadata": {},
   "source": [
    "**Working with Cloud Optimized GeoTIFF (COG)**\n",
    "\n",
    "A Cloud Optimized GeoTIFF (COG) is a regular GeoTIFF file, aimed at being hosted on a HTTP file server, with an internal organization that enables more efficient workflows on the cloud. It does this by leveraging the ability of clients issuing HTTP GET range requests to ask for just the parts of a file they need. \n",
    "\n",
    "More information about COG can be found at <https://www.cogeo.org/in-depth.html>\n",
    "\n",
    "Some publicly available Cloud Optimized GeoTIFFs:\n",
    "\n",
    "* https://stacindex.org/\n",
    "* https://cloud.google.com/storage/docs/public-datasets/landsat\n",
    "* https://www.digitalglobe.com/ecosystem/open-data\n",
    "* https://earthexplorer.usgs.gov/\n",
    "\n",
    "For this demo, we will use data from https://www.maxar.com/open-data/california-colorado-fires for mapping California and Colorado fires. A List of COGs can be found [here](https://github.com/giswqs/leafmap/blob/master/examples/data/cog_files.txt)."
   ]
  },
  {
   "cell_type": "markdown",
   "id": "454681cd",
   "metadata": {},
   "source": [
    "![](https://i.imgur.com/pE4mxwf.gif)"
   ]
  },
  {
   "cell_type": "code",
   "execution_count": null,
   "id": "6b4c92d9",
   "metadata": {},
   "outputs": [],
   "source": [
    "import leafmap"
   ]
  },
  {
   "cell_type": "markdown",
   "id": "9ffef640",
   "metadata": {},
   "source": [
    "Create an interactive map."
   ]
  },
  {
   "cell_type": "code",
   "execution_count": null,
   "id": "f13619cd",
   "metadata": {},
   "outputs": [],
   "source": [
    "Map = leafmap.Map()"
   ]
  },
  {
   "cell_type": "code",
   "execution_count": null,
   "id": "44863c70",
   "metadata": {},
   "outputs": [],
   "source": [
    "url = 'https://opendata.digitalglobe.com/events/california-fire-2020/pre-event/2018-02-16/pine-gulch-fire20/1030010076004E00.tif'"
   ]
  },
  {
   "cell_type": "markdown",
   "id": "b098b2e7",
   "metadata": {},
   "source": [
    "Retrieve the bounding box coordinates of the COG file."
   ]
  },
  {
   "cell_type": "code",
   "execution_count": null,
   "id": "6d07e6ee",
   "metadata": {},
   "outputs": [],
   "source": [
    "leafmap.cog_bounds(url)"
   ]
  },
  {
   "cell_type": "markdown",
   "id": "f63300cf",
   "metadata": {},
   "source": [
    "Retrieve the centroid coordinates of the COG file."
   ]
  },
  {
   "cell_type": "code",
   "execution_count": null,
   "id": "8fd8a998",
   "metadata": {},
   "outputs": [],
   "source": [
    "leafmap.cog_center(url)"
   ]
  },
  {
   "cell_type": "markdown",
   "id": "dfa763de",
   "metadata": {},
   "source": [
    "Retrieve the band names of the COG file."
   ]
  },
  {
   "cell_type": "code",
   "execution_count": null,
   "id": "3c7c06f9",
   "metadata": {},
   "outputs": [],
   "source": [
    "leafmap.cog_bands(url)"
   ]
  },
  {
   "cell_type": "markdown",
   "id": "655266a4",
   "metadata": {},
   "source": [
    "Retrieves the tile layer URL of the COG file."
   ]
  },
  {
   "cell_type": "code",
   "execution_count": null,
   "id": "9e470b1d",
   "metadata": {},
   "outputs": [],
   "source": [
    "leafmap.cog_tile(url)"
   ]
  },
  {
   "cell_type": "markdown",
   "id": "72a46d7c",
   "metadata": {},
   "source": [
    "Add a COG layer to the map."
   ]
  },
  {
   "cell_type": "code",
   "execution_count": null,
   "id": "a0a2e913",
   "metadata": {},
   "outputs": [],
   "source": [
    "Map.add_cog_layer(url, name=\"Fire (pre-event)\")"
   ]
  },
  {
   "cell_type": "code",
   "execution_count": null,
   "id": "ec04a7d5",
   "metadata": {},
   "outputs": [],
   "source": [
    "url2 = 'https://opendata.digitalglobe.com/events/california-fire-2020/post-event/2020-08-14/pine-gulch-fire20/10300100AAC8DD00.tif'"
   ]
  },
  {
   "cell_type": "code",
   "execution_count": null,
   "id": "ef241ab1",
   "metadata": {},
   "outputs": [],
   "source": [
    "Map.add_cog_layer(url2, name=\"Fire (post-event)\")"
   ]
  },
  {
   "cell_type": "code",
   "execution_count": null,
   "id": "5be884e9",
   "metadata": {},
   "outputs": [],
   "source": [
    "Map"
   ]
  },
  {
   "cell_type": "markdown",
   "id": "da3d4278",
   "metadata": {},
   "source": [
    "**Working with  SpatioTemporal Asset Catalog (STAC)**\n",
    "\n",
    "The SpatioTemporal Asset Catalog (STAC) specification provides a common language to describe a range of geospatial information, so it can more easily be indexed and discovered. A 'spatiotemporal asset' is any file that represents information about the earth captured in a certain space and time. The initial focus is primarily remotely-sensed imagery (from satellites, but also planes, drones, balloons, etc), but the core is designed to be extensible to SAR, full motion video, point clouds, hyperspectral, LiDAR and derived data like NDVI, Digital Elevation Models, mosaics, etc. More information about STAC can be found at https://stacspec.org/\n",
    "\n",
    "Some publicly available SpatioTemporal Asset Catalog (STAC):\n",
    "\n",
    "* https://stacindex.org\n",
    "\n",
    "For this demo, we will use STAC assets from https://stacindex.org/catalogs/spot-orthoimages-canada-2005#/?t=catalogs"
   ]
  },
  {
   "cell_type": "markdown",
   "id": "2544b2be",
   "metadata": {},
   "source": [
    "Create an interactive map."
   ]
  },
  {
   "cell_type": "code",
   "execution_count": null,
   "id": "a7fcfb2e",
   "metadata": {},
   "outputs": [],
   "source": [
    "Map = leafmap.Map()"
   ]
  },
  {
   "cell_type": "code",
   "execution_count": null,
   "id": "7c5c8d5c",
   "metadata": {},
   "outputs": [],
   "source": [
    "url = 'https://canada-spot-ortho.s3.amazonaws.com/canada_spot_orthoimages/canada_spot5_orthoimages/S5_2007/S5_11055_6057_20070622/S5_11055_6057_20070622.json'"
   ]
  },
  {
   "cell_type": "markdown",
   "id": "45c2356e",
   "metadata": {},
   "source": [
    "Retrieve the bounding box coordinates of the STAC file."
   ]
  },
  {
   "cell_type": "code",
   "execution_count": null,
   "id": "1b7f758b",
   "metadata": {},
   "outputs": [],
   "source": [
    "leafmap.stac_bounds(url)"
   ]
  },
  {
   "cell_type": "markdown",
   "id": "20ae5565",
   "metadata": {},
   "source": [
    "Retrieve the centroid coordinates of the STAC file."
   ]
  },
  {
   "cell_type": "code",
   "execution_count": null,
   "id": "140df372",
   "metadata": {},
   "outputs": [],
   "source": [
    "leafmap.stac_center(url)"
   ]
  },
  {
   "cell_type": "markdown",
   "id": "5855d8e6",
   "metadata": {},
   "source": [
    "Retrieve the band names of the STAC file."
   ]
  },
  {
   "cell_type": "code",
   "execution_count": null,
   "id": "b66ca264",
   "metadata": {},
   "outputs": [],
   "source": [
    "leafmap.stac_bands(url)"
   ]
  },
  {
   "cell_type": "markdown",
   "id": "735a373f",
   "metadata": {},
   "source": [
    "Retrieve the tile layer URL of the STAC file."
   ]
  },
  {
   "cell_type": "code",
   "execution_count": null,
   "id": "6db4ad4a",
   "metadata": {},
   "outputs": [],
   "source": [
    "leafmap.stac_tile(url, bands=['B3', 'B2', 'B1'])"
   ]
  },
  {
   "cell_type": "markdown",
   "id": "610b6a86",
   "metadata": {},
   "source": [
    "Add a STAC layer to the map."
   ]
  },
  {
   "cell_type": "code",
   "execution_count": null,
   "id": "ac872bcf",
   "metadata": {},
   "outputs": [],
   "source": [
    "Map.add_stac_layer(url, bands=['pan'], name='Panchromatic')"
   ]
  },
  {
   "cell_type": "code",
   "execution_count": null,
   "id": "72384caa",
   "metadata": {},
   "outputs": [],
   "source": [
    "Map.add_stac_layer(url, bands=['B3', 'B2', 'B1'], name='False color')"
   ]
  },
  {
   "cell_type": "code",
   "execution_count": null,
   "id": "b0902ad7",
   "metadata": {},
   "outputs": [],
   "source": [
    "Map"
   ]
  }
 ],
 "metadata": {
  "kernelspec": {
   "display_name": "Python (Pyodide)",
   "language": "python",
   "name": "python"
  }
 },
 "nbformat": 4,
 "nbformat_minor": 5
}
