{
 "cells": [
  {
   "cell_type": "markdown",
   "id": "047a1e6d",
   "metadata": {},
   "source": [
    "[![image](https://jupyterlite.rtfd.io/en/latest/_static/badge.svg)](https://demo.leafmap.org/lab/index.html?path=notebooks/18_point_layer.ipynb)\n",
    "[![image](https://colab.research.google.com/assets/colab-badge.svg)](https://githubtocolab.com/giswqs/leafmap/blob/master/examples/notebooks/18_point_layer.ipynb)\n",
    "[![image](https://mybinder.org/badge_logo.svg)](https://gishub.org/leafmap-binder)\n",
    "\n",
    "**Adding a point layer with popup attributes to the map**\n",
    "\n",
    "The notebook requires the ipyleaflet plotting backend. Folium is not supported. The point dataset can be any geopandas-supported file stored locally or online."
   ]
  },
  {
   "cell_type": "code",
   "execution_count": null,
   "id": "a0247e2d",
   "metadata": {},
   "outputs": [],
   "source": [
    "%pip install -q leafmap"
   ]
  },
  {
   "cell_type": "code",
   "execution_count": null,
   "id": "b70b4bd0",
   "metadata": {},
   "outputs": [],
   "source": [
    "from leafmap import leafmap"
   ]
  },
  {
   "cell_type": "markdown",
   "id": "df01d56e",
   "metadata": {},
   "source": [
    "Use the toolbar GUI to open a point-type vector dataset."
   ]
  },
  {
   "cell_type": "code",
   "execution_count": null,
   "id": "250d20bf",
   "metadata": {},
   "outputs": [],
   "source": [
    "m = leafmap.Map()\n",
    "m"
   ]
  },
  {
   "cell_type": "markdown",
   "id": "f98ef15d",
   "metadata": {},
   "source": [
    "Display a single popup attribute."
   ]
  },
  {
   "cell_type": "code",
   "execution_count": null,
   "id": "b8858813",
   "metadata": {},
   "outputs": [],
   "source": [
    "m = leafmap.Map()\n",
    "m.add_point_layer(\"../data/us_cities.geojson\", popup=\"name\", layer_name=\"US Cities\")\n",
    "m"
   ]
  },
  {
   "cell_type": "markdown",
   "id": "5ae52c46",
   "metadata": {},
   "source": [
    "Display multiple popup attributes."
   ]
  },
  {
   "cell_type": "code",
   "execution_count": null,
   "id": "2f3bc586",
   "metadata": {},
   "outputs": [],
   "source": [
    "m = leafmap.Map()\n",
    "url = \"https://raw.githubusercontent.com/giswqs/leafmap/master/examples/data/us_cities.geojson\"\n",
    "m.add_point_layer(url, popup=[\"name\", \"pop_max\"], layer_name=\"US Cities\")\n",
    "m"
   ]
  },
  {
   "cell_type": "markdown",
   "id": "7bc4a5a4",
   "metadata": {},
   "source": [
    "![](https://i.imgur.com/1QVEtlN.gif)"
   ]
  }
 ],
 "metadata": {
  "kernelspec": {
   "display_name": "Python (Pyodide)",
   "language": "python",
   "name": "python3"
  }
 },
 "nbformat": 4,
 "nbformat_minor": 5
}
