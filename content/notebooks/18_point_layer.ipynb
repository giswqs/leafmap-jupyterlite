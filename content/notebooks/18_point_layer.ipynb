{
 "cells": [
  {
   "cell_type": "markdown",
   "id": "5d224176",
   "metadata": {},
   "source": [
    "[![image](https://jupyterlite.rtfd.io/en/latest/_static/badge.svg)](https://demo.leafmap.org/lab/index.html?path=notebooks/18_point_layer.ipynb)\n",
    "[![image](https://colab.research.google.com/assets/colab-badge.svg)](https://githubtocolab.com/giswqs/leafmap/blob/master/examples/notebooks/18_point_layer.ipynb)\n",
    "[![image](https://mybinder.org/badge_logo.svg)](https://gishub.org/leafmap-binder)\n",
    "\n",
    "**Adding a point layer with popup attributes to the map**\n",
    "\n",
    "The notebook requires the ipyleaflet plotting backend. Folium is not supported. The point dataset can be any geopandas-supported file stored locally or online."
   ]
  },
  {
   "cell_type": "code",
   "execution_count": null,
   "id": "ca0f5d25",
   "metadata": {},
   "outputs": [],
   "source": [
    "%pip install -q leafmap"
   ]
  },
  {
   "cell_type": "code",
   "execution_count": null,
   "id": "ed5e029c",
   "metadata": {},
   "outputs": [],
   "source": [
    "from leafmap import leafmap"
   ]
  },
  {
   "cell_type": "markdown",
   "id": "ebbc58b9",
   "metadata": {},
   "source": [
    "Use the toolbar GUI to open a point-type vector dataset."
   ]
  },
  {
   "cell_type": "code",
   "execution_count": null,
   "id": "d39a37d8",
   "metadata": {},
   "outputs": [],
   "source": [
    "m = leafmap.Map()\n",
    "m"
   ]
  },
  {
   "cell_type": "markdown",
   "id": "4b26d572",
   "metadata": {},
   "source": [
    "Display a single popup attribute."
   ]
  },
  {
   "cell_type": "code",
   "execution_count": null,
   "id": "eff7c769",
   "metadata": {},
   "outputs": [],
   "source": [
    "m = leafmap.Map()\n",
    "m.add_point_layer(\"../data/us_cities.geojson\", popup=\"name\", layer_name=\"US Cities\")\n",
    "m"
   ]
  },
  {
   "cell_type": "markdown",
   "id": "5cf8119a",
   "metadata": {},
   "source": [
    "Display multiple popup attributes."
   ]
  },
  {
   "cell_type": "code",
   "execution_count": null,
   "id": "3174ead8",
   "metadata": {},
   "outputs": [],
   "source": [
    "m = leafmap.Map()\n",
    "url = \"https://raw.githubusercontent.com/giswqs/leafmap/master/examples/data/us_cities.geojson\"\n",
    "m.add_point_layer(url, popup=[\"name\", \"pop_max\"], layer_name=\"US Cities\")\n",
    "m"
   ]
  },
  {
   "cell_type": "markdown",
   "id": "92eb6519",
   "metadata": {},
   "source": [
    "![](https://i.imgur.com/1QVEtlN.gif)"
   ]
  }
 ],
 "metadata": {
  "kernelspec": {
   "display_name": "Python 3",
   "language": "python",
   "name": "python3"
  }
 },
 "nbformat": 4,
 "nbformat_minor": 5
}
