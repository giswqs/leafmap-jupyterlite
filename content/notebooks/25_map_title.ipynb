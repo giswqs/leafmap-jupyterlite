{
 "cells": [
  {
   "cell_type": "markdown",
   "id": "21215f19",
   "metadata": {},
   "source": [
    "[![image](https://jupyterlite.rtfd.io/en/latest/_static/badge.svg)](https://demo.leafmap.org/lab/index.html?path=notebooks/25_map_title.ipynb)\n",
    "[![image](https://colab.research.google.com/assets/colab-badge.svg)](https://githubtocolab.com/giswqs/leafmap/blob/master/examples/notebooks/25_map_title.ipynb)\n",
    "[![image](https://mybinder.org/badge_logo.svg)](https://gishub.org/leafmap-binder)\n",
    "\n",
    "**Creating a population heat map with a colorbar and map title**"
   ]
  },
  {
   "cell_type": "code",
   "execution_count": null,
   "id": "7b8eccc5",
   "metadata": {},
   "outputs": [],
   "source": [
    "%pip install -q leafmap"
   ]
  },
  {
   "cell_type": "markdown",
   "id": "e6c46dfe",
   "metadata": {},
   "source": [
    "The notebook requires the folium plotting backend. ipyleaflet is not supported."
   ]
  },
  {
   "cell_type": "code",
   "execution_count": null,
   "id": "620a40e4",
   "metadata": {},
   "outputs": [],
   "source": [
    "import leafmap.foliumap as leafmap"
   ]
  },
  {
   "cell_type": "markdown",
   "id": "015203e7",
   "metadata": {},
   "source": [
    "Creates an interactive folium map."
   ]
  },
  {
   "cell_type": "code",
   "execution_count": null,
   "id": "1d8daf80",
   "metadata": {},
   "outputs": [],
   "source": [
    "m = leafmap.Map()"
   ]
  },
  {
   "cell_type": "markdown",
   "id": "6d2e16ee",
   "metadata": {},
   "source": [
    "Specify the `latitude`, `longitude`, and `value` columns to create the heat map."
   ]
  },
  {
   "cell_type": "code",
   "execution_count": null,
   "id": "7ea63884",
   "metadata": {},
   "outputs": [],
   "source": [
    "in_csv = \"https://raw.githubusercontent.com/giswqs/leafmap/master/examples/data/world_cities.csv\""
   ]
  },
  {
   "cell_type": "markdown",
   "id": "8260ebb0",
   "metadata": {},
   "source": [
    "Specify the file path to the CSV. It can either be a file locally or on the Internet."
   ]
  },
  {
   "cell_type": "code",
   "execution_count": null,
   "id": "8fcbe513",
   "metadata": {},
   "outputs": [],
   "source": [
    "m.add_heatmap(\n",
    "    in_csv,\n",
    "    latitude=\"latitude\",\n",
    "    longitude='longitude',\n",
    "    value=\"pop_max\",\n",
    "    name=\"Heat map\",\n",
    "    radius=20,\n",
    ")"
   ]
  },
  {
   "cell_type": "markdown",
   "id": "de6d1097",
   "metadata": {},
   "source": [
    "Adds a colorbar to the map."
   ]
  },
  {
   "cell_type": "code",
   "execution_count": null,
   "id": "b9d8164c",
   "metadata": {},
   "outputs": [],
   "source": [
    "colors = ['blue', 'lime', 'red']\n",
    "vmin = 0\n",
    "vmax = 10000\n",
    "\n",
    "m.add_colorbar(colors=colors, vmin=vmin, vmax=vmax)"
   ]
  },
  {
   "cell_type": "markdown",
   "id": "12fe38d2",
   "metadata": {},
   "source": [
    "Adds a title to the map."
   ]
  },
  {
   "cell_type": "code",
   "execution_count": null,
   "id": "78e114ce",
   "metadata": {},
   "outputs": [],
   "source": [
    "m.add_title(\"World Population Heat Map\", font_size=\"20px\", align=\"center\")"
   ]
  },
  {
   "cell_type": "code",
   "execution_count": null,
   "id": "c8214fcf",
   "metadata": {},
   "outputs": [],
   "source": [
    "m"
   ]
  },
  {
   "cell_type": "markdown",
   "id": "6127a1a6",
   "metadata": {},
   "source": [
    "Save the map as an HTML."
   ]
  },
  {
   "cell_type": "code",
   "execution_count": null,
   "id": "96bf385a",
   "metadata": {},
   "outputs": [],
   "source": [
    "m.to_html(\"heatmap.html\")"
   ]
  }
 ],
 "metadata": {
  "kernelspec": {
   "display_name": "Python (Pyodide)",
   "language": "python",
   "name": "python3"
  }
 },
 "nbformat": 4,
 "nbformat_minor": 5
}
