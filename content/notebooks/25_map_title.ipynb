{
 "cells": [
  {
   "cell_type": "markdown",
   "id": "354c6432",
   "metadata": {},
   "source": [
    "[![image](https://jupyterlite.rtfd.io/en/latest/_static/badge.svg)](https://demo.leafmap.org/lab/index.html?path=notebooks/25_map_title.ipynb)\n",
    "[![image](https://colab.research.google.com/assets/colab-badge.svg)](https://githubtocolab.com/giswqs/leafmap/blob/master/examples/notebooks/25_map_title.ipynb)\n",
    "[![image](https://mybinder.org/badge_logo.svg)](https://gishub.org/leafmap-binder)\n",
    "\n",
    "**Creating a population heat map with a colorbar and map title**"
   ]
  },
  {
   "cell_type": "code",
   "execution_count": null,
   "id": "6350ba55",
   "metadata": {},
   "outputs": [],
   "source": [
    "%pip install -q leafmap"
   ]
  },
  {
   "cell_type": "markdown",
   "id": "ee019141",
   "metadata": {},
   "source": [
    "The notebook requires the folium plotting backend. ipyleaflet is not supported."
   ]
  },
  {
   "cell_type": "code",
   "execution_count": null,
   "id": "70e1da59",
   "metadata": {},
   "outputs": [],
   "source": [
    "import leafmap.foliumap as leafmap"
   ]
  },
  {
   "cell_type": "markdown",
   "id": "1f9298ab",
   "metadata": {},
   "source": [
    "Creates an interactive folium map."
   ]
  },
  {
   "cell_type": "code",
   "execution_count": null,
   "id": "f66b5658",
   "metadata": {},
   "outputs": [],
   "source": [
    "m = leafmap.Map()"
   ]
  },
  {
   "cell_type": "markdown",
   "id": "58f2c548",
   "metadata": {},
   "source": [
    "Specify the `latitude`, `longitude`, and `value` columns to create the heat map."
   ]
  },
  {
   "cell_type": "code",
   "execution_count": null,
   "id": "f7b52e98",
   "metadata": {},
   "outputs": [],
   "source": [
    "in_csv = \"https://raw.githubusercontent.com/giswqs/leafmap/master/examples/data/world_cities.csv\""
   ]
  },
  {
   "cell_type": "markdown",
   "id": "b981f7ed",
   "metadata": {},
   "source": [
    "Specify the file path to the CSV. It can either be a file locally or on the Internet."
   ]
  },
  {
   "cell_type": "code",
   "execution_count": null,
   "id": "7e36961b",
   "metadata": {},
   "outputs": [],
   "source": [
    "m.add_heatmap(\n",
    "    in_csv,\n",
    "    latitude=\"latitude\",\n",
    "    longitude='longitude',\n",
    "    value=\"pop_max\",\n",
    "    name=\"Heat map\",\n",
    "    radius=20,\n",
    ")"
   ]
  },
  {
   "cell_type": "markdown",
   "id": "640b4a7f",
   "metadata": {},
   "source": [
    "Adds a colorbar to the map."
   ]
  },
  {
   "cell_type": "code",
   "execution_count": null,
   "id": "347613a2",
   "metadata": {},
   "outputs": [],
   "source": [
    "colors = ['blue', 'lime', 'red']\n",
    "vmin = 0\n",
    "vmax = 10000\n",
    "\n",
    "m.add_colorbar(colors=colors, vmin=vmin, vmax=vmax)"
   ]
  },
  {
   "cell_type": "markdown",
   "id": "7dd3fe08",
   "metadata": {},
   "source": [
    "Adds a title to the map."
   ]
  },
  {
   "cell_type": "code",
   "execution_count": null,
   "id": "c95a6854",
   "metadata": {},
   "outputs": [],
   "source": [
    "m.add_title(\"World Population Heat Map\", font_size=\"20px\", align=\"center\")"
   ]
  },
  {
   "cell_type": "code",
   "execution_count": null,
   "id": "60b641b4",
   "metadata": {},
   "outputs": [],
   "source": [
    "m"
   ]
  },
  {
   "cell_type": "markdown",
   "id": "48f1ca8d",
   "metadata": {},
   "source": [
    "Save the map as an HTML."
   ]
  },
  {
   "cell_type": "code",
   "execution_count": null,
   "id": "8091c6c5",
   "metadata": {},
   "outputs": [],
   "source": [
    "m.to_html(\"heatmap.html\")"
   ]
  }
 ],
 "metadata": {
  "kernelspec": {
   "display_name": "Python (Pyodide)",
   "language": "python",
   "name": "python"
  }
 },
 "nbformat": 4,
 "nbformat_minor": 5
}
