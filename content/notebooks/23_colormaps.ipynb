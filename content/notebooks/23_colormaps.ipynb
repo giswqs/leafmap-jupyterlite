{
 "cells": [
  {
   "cell_type": "markdown",
   "id": "59cd4a60",
   "metadata": {},
   "source": [
    "[![image](https://mybinder.org/badge_logo.svg)](https://gishub.org/leafmap-binder)\n",
    "\n",
    "**Creating colormaps with a single line of code**"
   ]
  },
  {
   "cell_type": "code",
   "execution_count": null,
   "id": "dff7f8ca",
   "metadata": {},
   "outputs": [],
   "source": [
    "%pip install -q leafmap"
   ]
  },
  {
   "cell_type": "markdown",
   "id": "95b9536d",
   "metadata": {},
   "source": [
    "This notebook requires the ipyleaflet plotting backend. Folium is not supported."
   ]
  },
  {
   "cell_type": "code",
   "execution_count": null,
   "id": "6bfc9af1",
   "metadata": {},
   "outputs": [],
   "source": [
    "from leafmap import leafmap\n",
    "import leafmap.colormaps as cm"
   ]
  },
  {
   "cell_type": "markdown",
   "id": "567b8c30",
   "metadata": {},
   "source": [
    "Color palette for DEM data."
   ]
  },
  {
   "cell_type": "code",
   "execution_count": null,
   "id": "8133ff1c",
   "metadata": {},
   "outputs": [],
   "source": [
    "cm.palettes.dem"
   ]
  },
  {
   "cell_type": "markdown",
   "id": "cfba1b9c",
   "metadata": {},
   "source": [
    "Show the DEM palette."
   ]
  },
  {
   "cell_type": "code",
   "execution_count": null,
   "id": "221091d2",
   "metadata": {},
   "outputs": [],
   "source": [
    "cm.plot_colormap(colors=cm.palettes.dem, axis_off=True)"
   ]
  },
  {
   "cell_type": "markdown",
   "id": "8f31d48f",
   "metadata": {},
   "source": [
    "Color palette for NDVI data."
   ]
  },
  {
   "cell_type": "code",
   "execution_count": null,
   "id": "014da900",
   "metadata": {},
   "outputs": [],
   "source": [
    "cm.palettes.ndvi"
   ]
  },
  {
   "cell_type": "markdown",
   "id": "a405c507",
   "metadata": {},
   "source": [
    "Show the NDVI palette."
   ]
  },
  {
   "cell_type": "code",
   "execution_count": null,
   "id": "fbe592fa",
   "metadata": {},
   "outputs": [],
   "source": [
    "cm.plot_colormap(colors=cm.palettes.ndvi)"
   ]
  },
  {
   "cell_type": "markdown",
   "id": "8c7df207",
   "metadata": {},
   "source": [
    "Specify the number of classes for a palette."
   ]
  },
  {
   "cell_type": "code",
   "execution_count": null,
   "id": "cc8a0fb2",
   "metadata": {},
   "outputs": [],
   "source": [
    "cm.get_palette('terrain', n_class=8)"
   ]
  },
  {
   "cell_type": "markdown",
   "id": "3e9ddeee",
   "metadata": {},
   "source": [
    "Show the terrain palette with 8 classes."
   ]
  },
  {
   "cell_type": "code",
   "execution_count": null,
   "id": "6410fcb6",
   "metadata": {},
   "outputs": [],
   "source": [
    "cm.plot_colormap(colors=cm.get_palette('terrain', n_class=8))"
   ]
  },
  {
   "cell_type": "markdown",
   "id": "62529962",
   "metadata": {},
   "source": [
    "Create a palette with custom colors, label, and font size."
   ]
  },
  {
   "cell_type": "code",
   "execution_count": null,
   "id": "4797e873",
   "metadata": {},
   "outputs": [],
   "source": [
    "cm.plot_colormap(colors=[\"red\", \"green\", \"blue\"], label=\"Temperature\", font_size=12)"
   ]
  },
  {
   "cell_type": "markdown",
   "id": "8226995b",
   "metadata": {},
   "source": [
    "Create a discrete color palette."
   ]
  },
  {
   "cell_type": "code",
   "execution_count": null,
   "id": "56674b85",
   "metadata": {},
   "outputs": [],
   "source": [
    "cm.plot_colormap(\n",
    "    colors=[\"red\", \"green\", \"blue\"], discrete=True, label=\"Temperature\", font_size=12\n",
    ")"
   ]
  },
  {
   "cell_type": "markdown",
   "id": "7a3a053f",
   "metadata": {},
   "source": [
    "Specify the width and height for the palette."
   ]
  },
  {
   "cell_type": "code",
   "execution_count": null,
   "id": "1c1bfd4c",
   "metadata": {},
   "outputs": [],
   "source": [
    "cm.plot_colormap(\n",
    "    'terrain',\n",
    "    label=\"Elevation\",\n",
    "    width=8.0,\n",
    "    height=0.4,\n",
    "    orientation='horizontal',\n",
    "    vmin=0,\n",
    "    vmax=1000,\n",
    ")"
   ]
  },
  {
   "cell_type": "markdown",
   "id": "d1bc5464",
   "metadata": {},
   "source": [
    "Change the orentation of the colormap to be vertical."
   ]
  },
  {
   "cell_type": "code",
   "execution_count": null,
   "id": "1fc2d136",
   "metadata": {},
   "outputs": [],
   "source": [
    "cm.plot_colormap(\n",
    "    'terrain',\n",
    "    label=\"Elevation\",\n",
    "    width=0.4,\n",
    "    height=4,\n",
    "    orientation='vertical',\n",
    "    vmin=0,\n",
    "    vmax=1000,\n",
    ")"
   ]
  },
  {
   "cell_type": "markdown",
   "id": "bbe9ef64",
   "metadata": {},
   "source": [
    "Add a horizontal colorbar to an interactive map."
   ]
  },
  {
   "cell_type": "code",
   "execution_count": null,
   "id": "81c3bae0",
   "metadata": {},
   "outputs": [],
   "source": [
    "m = leafmap.Map()\n",
    "m.add_basemap(\"OpenTopoMap\")\n",
    "m.add_colormap(\n",
    "    'terrain',\n",
    "    label=\"Elevation\",\n",
    "    width=8.0,\n",
    "    height=0.4,\n",
    "    orientation='horizontal',\n",
    "    vmin=0,\n",
    "    vmax=4000,\n",
    ")\n",
    "m"
   ]
  },
  {
   "cell_type": "markdown",
   "id": "6aefae82",
   "metadata": {},
   "source": [
    "![](https://i.imgur.com/tuB728Y.png)"
   ]
  },
  {
   "cell_type": "markdown",
   "id": "ced5c9f6",
   "metadata": {},
   "source": [
    "Add a vertical colorbar to an interactive map."
   ]
  },
  {
   "cell_type": "code",
   "execution_count": null,
   "id": "a41ed4ea",
   "metadata": {},
   "outputs": [],
   "source": [
    "m = leafmap.Map()\n",
    "m.add_basemap(\"OpenTopoMap\")\n",
    "m.add_colormap(\n",
    "    'terrain',\n",
    "    label=\"Elevation\",\n",
    "    width=0.4,\n",
    "    height=4,\n",
    "    orientation='vertical',\n",
    "    vmin=0,\n",
    "    vmax=4000,\n",
    ")\n",
    "m"
   ]
  },
  {
   "cell_type": "markdown",
   "id": "d2fb26a0",
   "metadata": {},
   "source": [
    "Show all available colormaps."
   ]
  },
  {
   "cell_type": "code",
   "execution_count": null,
   "id": "6bc8eb20",
   "metadata": {},
   "outputs": [],
   "source": [
    "cm.plot_colormaps(width=12, height=0.4)"
   ]
  }
 ],
 "metadata": {
  "kernelspec": {
   "display_name": "Python 3",
   "language": "python",
   "name": "python3"
  }
 },
 "nbformat": 4,
 "nbformat_minor": 5
}
