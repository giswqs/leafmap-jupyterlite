{
 "cells": [
  {
   "cell_type": "markdown",
   "id": "83f24dc3",
   "metadata": {},
   "source": [
    "[![image](https://mybinder.org/badge_logo.svg)](https://gishub.org/leafmap-binder)\n",
    "\n",
    "**Creating colormaps with a single line of code**"
   ]
  },
  {
   "cell_type": "code",
   "execution_count": null,
   "id": "5be28321",
   "metadata": {},
   "outputs": [],
   "source": [
    "%pip install -q leafmap"
   ]
  },
  {
   "cell_type": "markdown",
   "id": "26192b5f",
   "metadata": {},
   "source": [
    "This notebook requires the ipyleaflet plotting backend. Folium is not supported."
   ]
  },
  {
   "cell_type": "code",
   "execution_count": null,
   "id": "cf6e14b6",
   "metadata": {},
   "outputs": [],
   "source": [
    "from leafmap import leafmap\n",
    "import leafmap.colormaps as cm"
   ]
  },
  {
   "cell_type": "markdown",
   "id": "283c0b65",
   "metadata": {},
   "source": [
    "Color palette for DEM data."
   ]
  },
  {
   "cell_type": "code",
   "execution_count": null,
   "id": "edc96c10",
   "metadata": {},
   "outputs": [],
   "source": [
    "cm.palettes.dem"
   ]
  },
  {
   "cell_type": "markdown",
   "id": "6c1111c7",
   "metadata": {},
   "source": [
    "Show the DEM palette."
   ]
  },
  {
   "cell_type": "code",
   "execution_count": null,
   "id": "68ebcdfa",
   "metadata": {},
   "outputs": [],
   "source": [
    "cm.plot_colormap(colors=cm.palettes.dem, axis_off=True)"
   ]
  },
  {
   "cell_type": "markdown",
   "id": "810b0bee",
   "metadata": {},
   "source": [
    "Color palette for NDVI data."
   ]
  },
  {
   "cell_type": "code",
   "execution_count": null,
   "id": "39a4a50f",
   "metadata": {},
   "outputs": [],
   "source": [
    "cm.palettes.ndvi"
   ]
  },
  {
   "cell_type": "markdown",
   "id": "394e31d4",
   "metadata": {},
   "source": [
    "Show the NDVI palette."
   ]
  },
  {
   "cell_type": "code",
   "execution_count": null,
   "id": "18bc3769",
   "metadata": {},
   "outputs": [],
   "source": [
    "cm.plot_colormap(colors=cm.palettes.ndvi)"
   ]
  },
  {
   "cell_type": "markdown",
   "id": "11998122",
   "metadata": {},
   "source": [
    "Specify the number of classes for a palette."
   ]
  },
  {
   "cell_type": "code",
   "execution_count": null,
   "id": "76228047",
   "metadata": {},
   "outputs": [],
   "source": [
    "cm.get_palette('terrain', n_class=8)"
   ]
  },
  {
   "cell_type": "markdown",
   "id": "f3388c34",
   "metadata": {},
   "source": [
    "Show the terrain palette with 8 classes."
   ]
  },
  {
   "cell_type": "code",
   "execution_count": null,
   "id": "3d841350",
   "metadata": {},
   "outputs": [],
   "source": [
    "cm.plot_colormap(colors=cm.get_palette('terrain', n_class=8))"
   ]
  },
  {
   "cell_type": "markdown",
   "id": "b3a187c0",
   "metadata": {},
   "source": [
    "Create a palette with custom colors, label, and font size."
   ]
  },
  {
   "cell_type": "code",
   "execution_count": null,
   "id": "56da8767",
   "metadata": {},
   "outputs": [],
   "source": [
    "cm.plot_colormap(colors=[\"red\", \"green\", \"blue\"], label=\"Temperature\", font_size=12)"
   ]
  },
  {
   "cell_type": "markdown",
   "id": "f6399ed9",
   "metadata": {},
   "source": [
    "Create a discrete color palette."
   ]
  },
  {
   "cell_type": "code",
   "execution_count": null,
   "id": "8786abe1",
   "metadata": {},
   "outputs": [],
   "source": [
    "cm.plot_colormap(\n",
    "    colors=[\"red\", \"green\", \"blue\"], discrete=True, label=\"Temperature\", font_size=12\n",
    ")"
   ]
  },
  {
   "cell_type": "markdown",
   "id": "1912e347",
   "metadata": {},
   "source": [
    "Specify the width and height for the palette."
   ]
  },
  {
   "cell_type": "code",
   "execution_count": null,
   "id": "1a16301e",
   "metadata": {},
   "outputs": [],
   "source": [
    "cm.plot_colormap(\n",
    "    'terrain',\n",
    "    label=\"Elevation\",\n",
    "    width=8.0,\n",
    "    height=0.4,\n",
    "    orientation='horizontal',\n",
    "    vmin=0,\n",
    "    vmax=1000,\n",
    ")"
   ]
  },
  {
   "cell_type": "markdown",
   "id": "d79eefb6",
   "metadata": {},
   "source": [
    "Change the orentation of the colormap to be vertical."
   ]
  },
  {
   "cell_type": "code",
   "execution_count": null,
   "id": "e03a7cb9",
   "metadata": {},
   "outputs": [],
   "source": [
    "cm.plot_colormap(\n",
    "    'terrain',\n",
    "    label=\"Elevation\",\n",
    "    width=0.4,\n",
    "    height=4,\n",
    "    orientation='vertical',\n",
    "    vmin=0,\n",
    "    vmax=1000,\n",
    ")"
   ]
  },
  {
   "cell_type": "markdown",
   "id": "0ee3d22a",
   "metadata": {},
   "source": [
    "Add a horizontal colorbar to an interactive map."
   ]
  },
  {
   "cell_type": "code",
   "execution_count": null,
   "id": "689f91c2",
   "metadata": {},
   "outputs": [],
   "source": [
    "m = leafmap.Map()\n",
    "m.add_basemap(\"OpenTopoMap\")\n",
    "m.add_colormap(\n",
    "    'terrain',\n",
    "    label=\"Elevation\",\n",
    "    width=8.0,\n",
    "    height=0.4,\n",
    "    orientation='horizontal',\n",
    "    vmin=0,\n",
    "    vmax=4000,\n",
    ")\n",
    "m"
   ]
  },
  {
   "cell_type": "markdown",
   "id": "f4cbb27b",
   "metadata": {},
   "source": [
    "![](https://i.imgur.com/tuB728Y.png)"
   ]
  },
  {
   "cell_type": "markdown",
   "id": "da4deaec",
   "metadata": {},
   "source": [
    "Add a vertical colorbar to an interactive map."
   ]
  },
  {
   "cell_type": "code",
   "execution_count": null,
   "id": "3e6af69a",
   "metadata": {},
   "outputs": [],
   "source": [
    "m = leafmap.Map()\n",
    "m.add_basemap(\"OpenTopoMap\")\n",
    "m.add_colormap(\n",
    "    'terrain',\n",
    "    label=\"Elevation\",\n",
    "    width=0.4,\n",
    "    height=4,\n",
    "    orientation='vertical',\n",
    "    vmin=0,\n",
    "    vmax=4000,\n",
    ")\n",
    "m"
   ]
  },
  {
   "cell_type": "markdown",
   "id": "61c92dcb",
   "metadata": {},
   "source": [
    "Show all available colormaps."
   ]
  },
  {
   "cell_type": "code",
   "execution_count": null,
   "id": "47dac166",
   "metadata": {},
   "outputs": [],
   "source": [
    "cm.plot_colormaps(width=12, height=0.4)"
   ]
  }
 ],
 "metadata": {
  "kernelspec": {
   "display_name": "Python (Pyodide)",
   "language": "python",
   "name": "python3"
  }
 },
 "nbformat": 4,
 "nbformat_minor": 5
}
