{
 "cells": [
  {
   "cell_type": "markdown",
   "id": "122a31b0",
   "metadata": {},
   "source": [
    "[![image](https://mybinder.org/badge_logo.svg)](https://gishub.org/leafmap-binder)\n",
    "\n",
    "**Creating heat maps from csv**"
   ]
  },
  {
   "cell_type": "code",
   "execution_count": null,
   "id": "2a645a4a",
   "metadata": {},
   "outputs": [],
   "source": [
    "%pip install -q leafmap"
   ]
  },
  {
   "cell_type": "markdown",
   "id": "ab0f7bcd",
   "metadata": {},
   "source": [
    "Specify the file path to the CSV. It can either be a file locally or on the Internet."
   ]
  },
  {
   "cell_type": "code",
   "execution_count": null,
   "id": "b1bc3a95",
   "metadata": {},
   "outputs": [],
   "source": [
    "filepath = \"https://raw.githubusercontent.com/giswqs/leafmap/master/examples/data/us_cities.csv\""
   ]
  },
  {
   "cell_type": "markdown",
   "id": "17a094f6",
   "metadata": {},
   "source": [
    "Use the ipyleaflet plotting backend."
   ]
  },
  {
   "cell_type": "code",
   "execution_count": null,
   "id": "293e6230",
   "metadata": {},
   "outputs": [],
   "source": [
    "import leafmap.leafmap as leafmap"
   ]
  },
  {
   "cell_type": "markdown",
   "id": "5a5cfceb",
   "metadata": {},
   "source": [
    "Specify the `latitude`, `longitude`, and `value` columns to create the heat map."
   ]
  },
  {
   "cell_type": "code",
   "execution_count": null,
   "id": "a959af74",
   "metadata": {},
   "outputs": [],
   "source": [
    "m = leafmap.Map()\n",
    "m.add_basemap(\"Stamen.Toner\")\n",
    "m.add_heatmap(\n",
    "    filepath,\n",
    "    latitude=\"latitude\",\n",
    "    longitude='longitude',\n",
    "    value=\"pop_max\",\n",
    "    name=\"Heat map\",\n",
    "    radius=20,\n",
    ")\n",
    "m"
   ]
  },
  {
   "cell_type": "markdown",
   "id": "a15240a8",
   "metadata": {},
   "source": [
    "Use the folium plotting backend."
   ]
  },
  {
   "cell_type": "code",
   "execution_count": null,
   "id": "77523f88",
   "metadata": {},
   "outputs": [],
   "source": [
    "import leafmap.foliumap as leafmap"
   ]
  },
  {
   "cell_type": "markdown",
   "id": "ef0166d7",
   "metadata": {},
   "source": [
    "Specify the `latitude`, `longitude`, and `value` columns to create the heat map."
   ]
  },
  {
   "cell_type": "code",
   "execution_count": null,
   "id": "8306df33",
   "metadata": {},
   "outputs": [],
   "source": [
    "m = leafmap.Map(tiles='stamentoner')\n",
    "m.add_heatmap(\n",
    "    filepath,\n",
    "    latitude=\"latitude\",\n",
    "    longitude='longitude',\n",
    "    value=\"pop_max\",\n",
    "    name=\"Heat map\",\n",
    "    radius=20,\n",
    ")\n",
    "m"
   ]
  }
 ],
 "metadata": {
  "kernelspec": {
   "display_name": "Python (Pyodide)",
   "language": "python",
   "name": "python"
  }
 },
 "nbformat": 4,
 "nbformat_minor": 5
}
