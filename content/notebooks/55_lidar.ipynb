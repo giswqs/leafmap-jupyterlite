{
 "cells": [
  {
   "cell_type": "markdown",
   "id": "3c26a12a",
   "metadata": {},
   "source": [
    "[![image](https://jupyterlite.rtfd.io/en/latest/_static/badge.svg)](https://demo.leafmap.org/lab/index.html?path=notebooks/55_lidar.ipynb)\n",
    "[![image](https://colab.research.google.com/assets/colab-badge.svg)](https://githubtocolab.com/giswqs/leafmap/blob/master/examples/notebooks/55_lidar.ipynb)\n",
    "[![image](https://mybinder.org/badge_logo.svg)](https://gishub.org/leafmap-binder)\n",
    "\n",
    "**LiDAR data analysis and visualization with whitebox and leafmap**\n",
    "\n",
    "Create a new conda env to install required packages:\n",
    "\n",
    "```bash\n",
    "conda create -n geo python\n",
    "conda activate geo\n",
    "conda install -c conda-forge mamba\n",
    "mamba install -c conda-forge pygis\n",
    "pip install laspy[lazrs]\n",
    "```\n",
    "\n",
    "Uncomment the following line to install packages in Google Colab."
   ]
  },
  {
   "cell_type": "code",
   "execution_count": null,
   "id": "3b823d3a",
   "metadata": {},
   "outputs": [],
   "source": [
    "%pip install -q leafmap"
   ]
  },
  {
   "cell_type": "code",
   "execution_count": null,
   "id": "b4a0ee7b",
   "metadata": {},
   "outputs": [],
   "source": [
    "# !pip install laspy[lazrs]"
   ]
  },
  {
   "cell_type": "markdown",
   "id": "4e1bcd84",
   "metadata": {},
   "source": [
    "## Import libraries"
   ]
  },
  {
   "cell_type": "code",
   "execution_count": null,
   "id": "0d2cb395",
   "metadata": {},
   "outputs": [],
   "source": [
    "import os\n",
    "import leafmap\n",
    "import whitebox"
   ]
  },
  {
   "cell_type": "markdown",
   "id": "cde0f86a",
   "metadata": {},
   "source": [
    "## Set up whitebox"
   ]
  },
  {
   "cell_type": "code",
   "execution_count": null,
   "id": "d207b659",
   "metadata": {},
   "outputs": [],
   "source": [
    "wbt = whitebox.WhiteboxTools()\n",
    "wbt.set_working_dir(os.getcwd())\n",
    "wbt.set_verbose_mode(False)"
   ]
  },
  {
   "cell_type": "markdown",
   "id": "570d4257",
   "metadata": {},
   "source": [
    "## Download sample data"
   ]
  },
  {
   "cell_type": "code",
   "execution_count": null,
   "id": "dce461e4",
   "metadata": {},
   "outputs": [],
   "source": [
    "url = 'https://github.com/giswqs/data/raw/main/lidar/madison.laz'\n",
    "if not os.path.exists('madison.laz'):\n",
    "    leafmap.download_file(url)"
   ]
  },
  {
   "cell_type": "markdown",
   "id": "2cd19f90",
   "metadata": {},
   "source": [
    "## Read LAS/LAZ data"
   ]
  },
  {
   "cell_type": "code",
   "execution_count": null,
   "id": "cf96397b",
   "metadata": {},
   "outputs": [],
   "source": [
    "laz = leafmap.read_lidar('madison.laz')"
   ]
  },
  {
   "cell_type": "code",
   "execution_count": null,
   "id": "3d006bde",
   "metadata": {},
   "outputs": [],
   "source": [
    "laz"
   ]
  },
  {
   "cell_type": "code",
   "execution_count": null,
   "id": "da57f9a2",
   "metadata": {},
   "outputs": [],
   "source": [
    "str(laz.header.version)"
   ]
  },
  {
   "cell_type": "markdown",
   "id": "1c2cd0ab",
   "metadata": {},
   "source": [
    "## Upgrade file version"
   ]
  },
  {
   "cell_type": "code",
   "execution_count": null,
   "id": "c0381b09",
   "metadata": {},
   "outputs": [],
   "source": [
    "las = leafmap.convert_lidar(laz, file_version='1.4')"
   ]
  },
  {
   "cell_type": "code",
   "execution_count": null,
   "id": "f91973ea",
   "metadata": {},
   "outputs": [],
   "source": [
    "str(las.header.version)"
   ]
  },
  {
   "cell_type": "markdown",
   "id": "e08bd9c2",
   "metadata": {},
   "source": [
    "## Write LAS data"
   ]
  },
  {
   "cell_type": "code",
   "execution_count": null,
   "id": "f37e9f31",
   "metadata": {},
   "outputs": [],
   "source": [
    "leafmap.write_lidar(las, 'madison.las')"
   ]
  },
  {
   "cell_type": "markdown",
   "id": "319eddeb",
   "metadata": {
    "tags": []
   },
   "source": [
    "## Histogram analysis"
   ]
  },
  {
   "cell_type": "code",
   "execution_count": null,
   "id": "5ec9ecf6",
   "metadata": {},
   "outputs": [],
   "source": [
    "wbt.lidar_histogram('madison.las', 'histogram.html')"
   ]
  },
  {
   "cell_type": "markdown",
   "id": "27c7eb39",
   "metadata": {},
   "source": [
    "## Visualize LiDAR data"
   ]
  },
  {
   "cell_type": "code",
   "execution_count": null,
   "id": "f4566495",
   "metadata": {},
   "outputs": [],
   "source": [
    "leafmap.view_lidar('madison.las')"
   ]
  },
  {
   "cell_type": "markdown",
   "id": "a6da159c",
   "metadata": {},
   "source": [
    "## Remove outliers"
   ]
  },
  {
   "cell_type": "code",
   "execution_count": null,
   "id": "e1f91ffe",
   "metadata": {},
   "outputs": [],
   "source": [
    "wbt.lidar_elevation_slice(\"madison.las\", \"madison_rm.las\", minz=0, maxz=450)"
   ]
  },
  {
   "cell_type": "markdown",
   "id": "c50eda42",
   "metadata": {},
   "source": [
    "## Visualize LiDAR data after removing outliers"
   ]
  },
  {
   "cell_type": "code",
   "execution_count": null,
   "id": "8b53ade0",
   "metadata": {},
   "outputs": [],
   "source": [
    "leafmap.view_lidar('madison_rm.las', cmap='terrain')"
   ]
  },
  {
   "cell_type": "markdown",
   "id": "4700122c",
   "metadata": {},
   "source": [
    "## Create DSM"
   ]
  },
  {
   "cell_type": "code",
   "execution_count": null,
   "id": "9ce9147f",
   "metadata": {},
   "outputs": [],
   "source": [
    "wbt.lidar_digital_surface_model(\n",
    "    'madison_rm.las', 'dsm.tif', resolution=1.0, minz=0, maxz=450\n",
    ")"
   ]
  },
  {
   "cell_type": "code",
   "execution_count": null,
   "id": "889a427c",
   "metadata": {
    "jp-MarkdownHeadingCollapsed": true,
    "tags": []
   },
   "outputs": [],
   "source": [
    "leafmap.add_crs(\"dsm.tif\", epsg=2255)"
   ]
  },
  {
   "cell_type": "markdown",
   "id": "d477577d",
   "metadata": {},
   "source": [
    "## Visualize DSM"
   ]
  },
  {
   "cell_type": "code",
   "execution_count": null,
   "id": "d3efeb13",
   "metadata": {},
   "outputs": [],
   "source": [
    "m = leafmap.Map()\n",
    "m.add_raster('dsm.tif', palette='terrain', layer_name='DSM')\n",
    "m"
   ]
  },
  {
   "cell_type": "markdown",
   "id": "921dde73",
   "metadata": {},
   "source": [
    "## Create DEM"
   ]
  },
  {
   "cell_type": "code",
   "execution_count": null,
   "id": "ae215887",
   "metadata": {},
   "outputs": [],
   "source": [
    "wbt.remove_off_terrain_objects('dsm.tif', 'dem.tif', filter=25, slope=15.0)"
   ]
  },
  {
   "cell_type": "markdown",
   "id": "4f6083b3",
   "metadata": {},
   "source": [
    "## Visualize DEM"
   ]
  },
  {
   "cell_type": "code",
   "execution_count": null,
   "id": "55f61e24",
   "metadata": {},
   "outputs": [],
   "source": [
    "m.add_raster('dem.tif', palette='terrain', layer_name='DEM')\n",
    "m"
   ]
  },
  {
   "cell_type": "markdown",
   "id": "0669653e",
   "metadata": {},
   "source": [
    "## Create CHM"
   ]
  },
  {
   "cell_type": "code",
   "execution_count": null,
   "id": "66fe71fa",
   "metadata": {},
   "outputs": [],
   "source": [
    "chm = wbt.subtract('dsm.tif', 'dem.tif', 'chm.tif')"
   ]
  },
  {
   "cell_type": "code",
   "execution_count": null,
   "id": "21d65ea3",
   "metadata": {},
   "outputs": [],
   "source": [
    "m.add_raster('chm.tif', palette='gist_earth', layer_name='CHM')\n",
    "m"
   ]
  }
 ],
 "metadata": {
  "kernelspec": {
   "display_name": "Python (Pyodide)",
   "language": "python",
   "name": "python"
  }
 },
 "nbformat": 4,
 "nbformat_minor": 5
}
