{
 "cells": [
  {
   "cell_type": "markdown",
   "id": "a884d99c",
   "metadata": {},
   "source": [
    "[![image](https://jupyterlite.rtfd.io/en/latest/_static/badge.svg)](https://demo.leafmap.org/lab/index.html?path=notebooks/10_add_vector.ipynb)\n",
    "[![image](https://colab.research.google.com/assets/colab-badge.svg)](https://githubtocolab.com/giswqs/leafmap/blob/master/examples/notebooks/10_add_vector.ipynb)\n",
    "[![image](https://mybinder.org/badge_logo.svg)](https://gishub.org/leafmap-binder)\n",
    "\n",
    "**Adding local vector data (e.g., shp, geojson, kml) to the map**"
   ]
  },
  {
   "cell_type": "code",
   "execution_count": null,
   "id": "c59eba8a",
   "metadata": {},
   "outputs": [],
   "source": [
    "%pip install -q leafmap"
   ]
  },
  {
   "cell_type": "code",
   "execution_count": null,
   "id": "23c66fbf",
   "metadata": {},
   "outputs": [],
   "source": [
    "import leafmap"
   ]
  },
  {
   "cell_type": "code",
   "execution_count": null,
   "id": "51cbedb6",
   "metadata": {},
   "outputs": [],
   "source": [
    "m = leafmap.Map()\n",
    "m"
   ]
  },
  {
   "cell_type": "markdown",
   "id": "798770f2",
   "metadata": {},
   "source": [
    "This demo is based on the ipyleaflet plotting backend. The folium plotting backend does not have the interactive GUI for loading local vector data."
   ]
  },
  {
   "cell_type": "markdown",
   "id": "fb89c20f",
   "metadata": {},
   "source": [
    "![](https://i.imgur.com/hnaTPZa.gif)"
   ]
  },
  {
   "cell_type": "markdown",
   "id": "71f13e2c",
   "metadata": {},
   "source": [
    "Add a GeoJSON to the map."
   ]
  },
  {
   "cell_type": "code",
   "execution_count": null,
   "id": "8b2d4655",
   "metadata": {},
   "outputs": [],
   "source": [
    "m = leafmap.Map(center=[0, 0], zoom=2)\n",
    "\n",
    "in_geojson = 'https://raw.githubusercontent.com/giswqs/leafmap/master/examples/data/cable_geo.geojson'\n",
    "m.add_geojson(in_geojson, layer_name=\"Cable lines\")\n",
    "\n",
    "m"
   ]
  },
  {
   "cell_type": "markdown",
   "id": "21487102",
   "metadata": {},
   "source": [
    "Add a GeoJSON with random filled color to the map."
   ]
  },
  {
   "cell_type": "code",
   "execution_count": null,
   "id": "53ca2e4b",
   "metadata": {},
   "outputs": [],
   "source": [
    "m = leafmap.Map(center=[0, 0], zoom=2)\n",
    "url = \"https://raw.githubusercontent.com/giswqs/leafmap/master/examples/data/countries.geojson\"\n",
    "m.add_geojson(\n",
    "    url, layer_name=\"Countries\", fill_colors=['red', 'yellow', 'green', 'orange']\n",
    ")\n",
    "m"
   ]
  },
  {
   "cell_type": "markdown",
   "id": "2791a398",
   "metadata": {},
   "source": [
    "Use the `style_callback`function for assigning a random color to each polygon."
   ]
  },
  {
   "cell_type": "code",
   "execution_count": null,
   "id": "d9ef389c",
   "metadata": {},
   "outputs": [],
   "source": [
    "import random\n",
    "\n",
    "m = leafmap.Map(center=[0, 0], zoom=2)\n",
    "\n",
    "url = \"https://raw.githubusercontent.com/giswqs/leafmap/master/examples/data/countries.geojson\"\n",
    "\n",
    "\n",
    "def random_color(feature):\n",
    "    return {\n",
    "        'color': 'black',\n",
    "        'fillColor': random.choice(['red', 'yellow', 'green', 'orange']),\n",
    "    }\n",
    "\n",
    "\n",
    "m.add_geojson(url, layer_name=\"Countries\", style_callback=random_color)\n",
    "m"
   ]
  },
  {
   "cell_type": "markdown",
   "id": "8e7a5756",
   "metadata": {},
   "source": [
    "Use custom `style` and `hover_style` functions."
   ]
  },
  {
   "cell_type": "code",
   "execution_count": null,
   "id": "53b256b0",
   "metadata": {},
   "outputs": [],
   "source": [
    "m = leafmap.Map(center=[0, 0], zoom=2)\n",
    "\n",
    "url = \"https://raw.githubusercontent.com/giswqs/leafmap/master/examples/data/countries.geojson\"\n",
    "\n",
    "style = {\n",
    "    \"stroke\": True,\n",
    "    \"color\": \"#0000ff\",\n",
    "    \"weight\": 2,\n",
    "    \"opacity\": 1,\n",
    "    \"fill\": True,\n",
    "    \"fillColor\": \"#0000ff\",\n",
    "    \"fillOpacity\": 0.1,\n",
    "}\n",
    "\n",
    "hover_style = {\"fillOpacity\": 0.7}\n",
    "\n",
    "m.add_geojson(url, layer_name=\"Countries\", style=style, hover_style=hover_style)\n",
    "m"
   ]
  },
  {
   "cell_type": "markdown",
   "id": "9d716382",
   "metadata": {},
   "source": [
    "Add a shapefile to the map."
   ]
  },
  {
   "cell_type": "code",
   "execution_count": null,
   "id": "0a3fb731",
   "metadata": {},
   "outputs": [],
   "source": [
    "m = leafmap.Map(center=[0, 0], zoom=2)\n",
    "\n",
    "in_shp = '../data/countries.shp'\n",
    "m.add_shp(in_shp, layer_name=\"Countries\")\n",
    "\n",
    "m"
   ]
  },
  {
   "cell_type": "markdown",
   "id": "4164295e",
   "metadata": {},
   "source": [
    "Add a KML to the map."
   ]
  },
  {
   "cell_type": "code",
   "execution_count": null,
   "id": "59f4f876",
   "metadata": {},
   "outputs": [],
   "source": [
    "m = leafmap.Map()\n",
    "\n",
    "in_kml = '../data/us_states.kml'\n",
    "m.add_kml(in_kml, layer_name=\"US States KML\")\n",
    "\n",
    "m"
   ]
  },
  {
   "cell_type": "markdown",
   "id": "bf52af7a",
   "metadata": {},
   "source": [
    "The `add_vector` function supports any vector data format supported by GeoPandas."
   ]
  },
  {
   "cell_type": "code",
   "execution_count": null,
   "id": "857da744",
   "metadata": {},
   "outputs": [],
   "source": [
    "m = leafmap.Map(center=[0, 0], zoom=2)\n",
    "url = \"https://raw.githubusercontent.com/giswqs/leafmap/master/examples/data/countries.geojson\"\n",
    "m.add_vector(\n",
    "    url, layer_name=\"Countries\", fill_colors=['red', 'yellow', 'green', 'orange']\n",
    ")\n",
    "m"
   ]
  },
  {
   "cell_type": "code",
   "execution_count": null,
   "id": "df54ba65",
   "metadata": {},
   "outputs": [],
   "source": [
    "m = leafmap.Map()"
   ]
  },
  {
   "cell_type": "code",
   "execution_count": null,
   "id": "3e26adbc",
   "metadata": {},
   "outputs": [],
   "source": [
    "in_shp = '../data/countries.shp'\n",
    "in_geojson = '../data/us_states.json'\n",
    "in_kml = '../data/us_states.kml'"
   ]
  },
  {
   "cell_type": "code",
   "execution_count": null,
   "id": "7fcb43ed",
   "metadata": {},
   "outputs": [],
   "source": [
    "m.add_shp(in_shp, layer_name=\"Shapefile\")"
   ]
  },
  {
   "cell_type": "code",
   "execution_count": null,
   "id": "fde07fd0",
   "metadata": {},
   "outputs": [],
   "source": [
    "m.add_geojson(in_geojson, layer_name=\"GeoJSON\")"
   ]
  },
  {
   "cell_type": "code",
   "execution_count": null,
   "id": "eb2d8a42",
   "metadata": {},
   "outputs": [],
   "source": [
    "m.add_kml(in_kml, layer_name=\"KML\")"
   ]
  },
  {
   "cell_type": "code",
   "execution_count": null,
   "id": "9a0fd2a5",
   "metadata": {},
   "outputs": [],
   "source": [
    "m"
   ]
  }
 ],
 "metadata": {
  "kernelspec": {
   "display_name": "Python (Pyodide)",
   "language": "python",
   "name": "python"
  }
 },
 "nbformat": 4,
 "nbformat_minor": 5
}
