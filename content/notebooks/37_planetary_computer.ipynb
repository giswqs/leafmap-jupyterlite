{
 "cells": [
  {
   "cell_type": "markdown",
   "id": "c50ce875",
   "metadata": {},
   "source": [
    "[![image](https://jupyterlite.rtfd.io/en/latest/_static/badge.svg)](https://demo.leafmap.org/lab/index.html?path=notebooks/37_planetary_computer.ipynb)\n",
    "[![image](https://colab.research.google.com/assets/colab-badge.svg)](https://githubtocolab.com/giswqs/leafmap/blob/master/examples/notebooks/37_planetary_computer.ipynb)\n",
    "[![image](https://mybinder.org/badge_logo.svg)](https://gishub.org/leafmap-binder)"
   ]
  },
  {
   "cell_type": "code",
   "execution_count": null,
   "id": "55ab09de",
   "metadata": {},
   "outputs": [],
   "source": [
    "%pip install -q leafmap"
   ]
  },
  {
   "cell_type": "code",
   "execution_count": null,
   "id": "dcb9df84",
   "metadata": {},
   "outputs": [],
   "source": [
    "import leafmap"
   ]
  },
  {
   "cell_type": "markdown",
   "id": "b16ac822",
   "metadata": {},
   "source": [
    "Add a STAC item via an HTTP URL"
   ]
  },
  {
   "cell_type": "code",
   "execution_count": null,
   "id": "e45e5873",
   "metadata": {},
   "outputs": [],
   "source": [
    "url = 'https://canada-spot-ortho.s3.amazonaws.com/canada_spot_orthoimages/canada_spot5_orthoimages/S5_2007/S5_11055_6057_20070622/S5_11055_6057_20070622.json'"
   ]
  },
  {
   "cell_type": "code",
   "execution_count": null,
   "id": "8b691176",
   "metadata": {},
   "outputs": [],
   "source": [
    "leafmap.stac_assets(url)"
   ]
  },
  {
   "cell_type": "code",
   "execution_count": null,
   "id": "615d1827",
   "metadata": {},
   "outputs": [],
   "source": [
    "leafmap.stac_bounds(url)"
   ]
  },
  {
   "cell_type": "code",
   "execution_count": null,
   "id": "8f01236c",
   "metadata": {},
   "outputs": [],
   "source": [
    "leafmap.stac_center(url)"
   ]
  },
  {
   "cell_type": "code",
   "execution_count": null,
   "id": "1f75241e",
   "metadata": {},
   "outputs": [],
   "source": [
    "# leafmap.stac_info(url)"
   ]
  },
  {
   "cell_type": "code",
   "execution_count": null,
   "id": "ea16136d",
   "metadata": {},
   "outputs": [],
   "source": [
    "# leafmap.stac_stats(url)"
   ]
  },
  {
   "cell_type": "code",
   "execution_count": null,
   "id": "fc57d053",
   "metadata": {},
   "outputs": [],
   "source": [
    "m = leafmap.Map()\n",
    "m.add_stac_layer(url, bands=[\"B3\", \"B2\", \"B1\"])\n",
    "m"
   ]
  },
  {
   "cell_type": "markdown",
   "id": "7c73546d",
   "metadata": {},
   "source": [
    "Add a Microsoft Planetry Computer STAC item. The titiler endpoint can set in one of the ways below:\n",
    "\n",
    "```\n",
    "os.environ[\"TITILER_ENDPOINT\"] = \"planetary-computer\"\n",
    "titiler_endpoint=\"pc\"\n",
    "titiler_endpoint=\"planetary-computer\"\n",
    "```"
   ]
  },
  {
   "cell_type": "code",
   "execution_count": null,
   "id": "d24584a7",
   "metadata": {},
   "outputs": [],
   "source": [
    "# import os\n",
    "# os.environ[\"TITILER_ENDPOINT\"] = \"planetary-computer\""
   ]
  },
  {
   "cell_type": "code",
   "execution_count": null,
   "id": "5a9ce2aa",
   "metadata": {},
   "outputs": [],
   "source": [
    "collection = \"landsat-8-c2-l2\""
   ]
  },
  {
   "cell_type": "code",
   "execution_count": null,
   "id": "7302b8c5",
   "metadata": {},
   "outputs": [],
   "source": [
    "item = \"LC08_L2SP_047027_20201204_02_T1\""
   ]
  },
  {
   "cell_type": "code",
   "execution_count": null,
   "id": "03a195a1",
   "metadata": {},
   "outputs": [],
   "source": [
    "leafmap.stac_assets(collection=collection, item=item, titiler_endpoint=\"pc\")"
   ]
  },
  {
   "cell_type": "code",
   "execution_count": null,
   "id": "1d599bc5",
   "metadata": {},
   "outputs": [],
   "source": [
    "leafmap.stac_bounds(collection=collection, item=item)"
   ]
  },
  {
   "cell_type": "code",
   "execution_count": null,
   "id": "659c10b2",
   "metadata": {},
   "outputs": [],
   "source": [
    "leafmap.stac_info(collection=collection, item=item, assets=\"SR_B7\")"
   ]
  },
  {
   "cell_type": "code",
   "execution_count": null,
   "id": "1014469e",
   "metadata": {},
   "outputs": [],
   "source": [
    "leafmap.stac_stats(collection=collection, item=item, assets=\"SR_B7\")"
   ]
  },
  {
   "cell_type": "markdown",
   "id": "0da98318",
   "metadata": {},
   "source": [
    "Color infrared composite."
   ]
  },
  {
   "cell_type": "code",
   "execution_count": null,
   "id": "71fa8177",
   "metadata": {},
   "outputs": [],
   "source": [
    "m = leafmap.Map()\n",
    "m.add_stac_layer(\n",
    "    collection=collection,\n",
    "    item=item,\n",
    "    assets=[\"SR_B5\", \"SR_B4\", \"SR_B3\"],\n",
    "    name=\"Color infrared\",\n",
    ")\n",
    "m"
   ]
  },
  {
   "cell_type": "markdown",
   "id": "0353d915",
   "metadata": {},
   "source": [
    "False color composite."
   ]
  },
  {
   "cell_type": "code",
   "execution_count": null,
   "id": "bd80a083",
   "metadata": {},
   "outputs": [],
   "source": [
    "m = leafmap.Map()\n",
    "m.add_stac_layer(\n",
    "    collection=collection, item=item, assets=\"SR_B7,SR_B5,SR_B4\", name=\"False color\"\n",
    ")\n",
    "m"
   ]
  },
  {
   "cell_type": "markdown",
   "id": "3ee216dc",
   "metadata": {},
   "source": [
    "Calculate NDVI."
   ]
  },
  {
   "cell_type": "code",
   "execution_count": null,
   "id": "76e186ea",
   "metadata": {},
   "outputs": [],
   "source": [
    "m = leafmap.Map()\n",
    "m.add_stac_layer(\n",
    "    collection=collection,\n",
    "    item=item,\n",
    "    expression=\"(SR_B5-SR_B4)/(SR_B5+SR_B4)\",\n",
    "    rescale=\"-1,1\",\n",
    "    name=\"NDVI\",\n",
    ")\n",
    "m"
   ]
  },
  {
   "cell_type": "markdown",
   "id": "b00740cf",
   "metadata": {},
   "source": [
    "Calculate NDVI and add a colormap. See available colormaps at https://planetarycomputer.microsoft.com/docs/reference/data/"
   ]
  },
  {
   "cell_type": "code",
   "execution_count": null,
   "id": "e8ee9275",
   "metadata": {},
   "outputs": [],
   "source": [
    "m = leafmap.Map()\n",
    "m.add_stac_layer(\n",
    "    collection=collection, item=item, assets=\"SR_B5,SR_B4,SR_B3\", name=\"Color infrared\"\n",
    ")\n",
    "m.add_stac_layer(\n",
    "    collection=collection,\n",
    "    item=item,\n",
    "    expression=\"(SR_B5-SR_B4)/(SR_B5+SR_B4)\",\n",
    "    rescale=\"-1,1\",\n",
    "    colormap_name=\"greens\",\n",
    "    name=\"NDVI Green\",\n",
    ")\n",
    "m"
   ]
  }
 ],
 "metadata": {
  "kernelspec": {
   "display_name": "Python (Pyodide)",
   "language": "python",
   "name": "python3"
  }
 },
 "nbformat": 4,
 "nbformat_minor": 5
}
