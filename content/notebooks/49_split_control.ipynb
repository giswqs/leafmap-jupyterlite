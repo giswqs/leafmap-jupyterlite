{
 "cells": [
  {
   "cell_type": "markdown",
   "id": "57ae834d",
   "metadata": {},
   "source": [
    "[![image](https://jupyterlite.rtfd.io/en/latest/_static/badge.svg)](https://demo.leafmap.org/lab/index.html?path=notebooks/49_split_control.ipynb)\n",
    "[![image](https://colab.research.google.com/assets/colab-badge.svg)](https://githubtocolab.com/giswqs/leafmap/blob/master/examples/notebooks/49_split_control.ipynb)\n",
    "[![image](https://mybinder.org/badge_logo.svg)](https://gishub.org/leafmap-binder)\n",
    "\n",
    "**Creating a split-panel map**\n",
    "\n",
    "This notebook demonstrates how to add a split-panel map with leafmap anf folium. It also supports streamlit. Note that the ipyleaflet SplitControl does not support streamlit."
   ]
  },
  {
   "cell_type": "code",
   "execution_count": null,
   "id": "f83ffd46",
   "metadata": {},
   "outputs": [],
   "source": [
    "%pip install -q leafmap"
   ]
  },
  {
   "cell_type": "code",
   "execution_count": null,
   "id": "a0b1425d",
   "metadata": {},
   "outputs": [],
   "source": [
    "import folium\n",
    "import leafmap.foliumap as leafmap"
   ]
  },
  {
   "cell_type": "markdown",
   "id": "645c6db9",
   "metadata": {},
   "source": [
    "The split-panel map requires two layers: `left_layer` and `right_layer`. The layer instance can be a string representing a basemap, or an HTTP URL to a Cloud Optimized GeoTIFF (COG), or a folium TileLayer instance. \n",
    "\n",
    "**Using basemaps**"
   ]
  },
  {
   "cell_type": "code",
   "execution_count": null,
   "id": "7dd7254e",
   "metadata": {},
   "outputs": [],
   "source": [
    "m = leafmap.Map(height=500)\n",
    "m.split_map(left_layer='TERRAIN', right_layer='OpenTopoMap')\n",
    "m"
   ]
  },
  {
   "cell_type": "markdown",
   "id": "d2ce0df6",
   "metadata": {},
   "source": [
    "Show available basemaps."
   ]
  },
  {
   "cell_type": "code",
   "execution_count": null,
   "id": "f7c4a4a7",
   "metadata": {},
   "outputs": [],
   "source": [
    "# leafmap.basemaps.keys()"
   ]
  },
  {
   "cell_type": "markdown",
   "id": "b024bfb6",
   "metadata": {},
   "source": [
    "**Using COG**"
   ]
  },
  {
   "cell_type": "code",
   "execution_count": null,
   "id": "7758178e",
   "metadata": {},
   "outputs": [],
   "source": [
    "m = leafmap.Map(height=600, center=[39.4948, -108.5492], zoom=12)\n",
    "url = 'https://opendata.digitalglobe.com/events/california-fire-2020/pre-event/2018-02-16/pine-gulch-fire20/1030010076004E00.tif'\n",
    "url2 = 'https://opendata.digitalglobe.com/events/california-fire-2020/post-event/2020-08-14/pine-gulch-fire20/10300100AAC8DD00.tif'\n",
    "m.split_map(url, url2)\n",
    "m"
   ]
  },
  {
   "cell_type": "markdown",
   "id": "3dc59361",
   "metadata": {},
   "source": [
    "**Using folium TileLayer**"
   ]
  },
  {
   "cell_type": "code",
   "execution_count": null,
   "id": "ff0b805b",
   "metadata": {},
   "outputs": [],
   "source": [
    "m = leafmap.Map(center=[40, -100], zoom=4)\n",
    "\n",
    "url1 = 'https://www.mrlc.gov/geoserver/mrlc_display/NLCD_2001_Land_Cover_L48/wms?'\n",
    "url2 = 'https://www.mrlc.gov/geoserver/mrlc_display/NLCD_2019_Land_Cover_L48/wms?'\n",
    "\n",
    "left_layer = folium.WmsTileLayer(\n",
    "    url=url1,\n",
    "    layers='NLCD_2001_Land_Cover_L48',\n",
    "    name='NLCD 2001',\n",
    "    attr='MRLC',\n",
    "    fmt=\"image/png\",\n",
    "    transparent=True,\n",
    ")\n",
    "right_layer = folium.WmsTileLayer(\n",
    "    url=url2,\n",
    "    layers='NLCD_2019_Land_Cover_L48',\n",
    "    name='NLCD 2019',\n",
    "    attr='MRLC',\n",
    "    fmt=\"image/png\",\n",
    "    transparent=True,\n",
    ")\n",
    "\n",
    "m.split_map(left_layer, right_layer)\n",
    "m"
   ]
  }
 ],
 "metadata": {
  "kernelspec": {
   "display_name": "Python (Pyodide)",
   "language": "python",
   "name": "python3"
  }
 },
 "nbformat": 4,
 "nbformat_minor": 5
}
