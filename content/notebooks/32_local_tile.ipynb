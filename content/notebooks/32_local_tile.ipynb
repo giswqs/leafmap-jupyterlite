{
 "cells": [
  {
   "cell_type": "markdown",
   "id": "feb5d076",
   "metadata": {},
   "source": [
    "[![image](https://mybinder.org/badge_logo.svg)](https://gishub.org/leafmap-binder)\n",
    "\n",
    "**Using local raster datasets or remote Cloud Optimized GeoTIFFs (COG) with leafmap**\n",
    "\n",
    "Uncomment the following line to install [leafmap](https://leafmap.org) and [localtileserver](https://github.com/banesullivan/localtileserver) if needed."
   ]
  },
  {
   "cell_type": "code",
   "execution_count": null,
   "id": "5d77a97f",
   "metadata": {},
   "outputs": [],
   "source": [
    "%pip install -q leafmap"
   ]
  },
  {
   "cell_type": "code",
   "execution_count": null,
   "id": "46de534c",
   "metadata": {},
   "outputs": [],
   "source": [
    "# !pip install localtileserver"
   ]
  },
  {
   "cell_type": "code",
   "execution_count": null,
   "id": "29a76d41",
   "metadata": {},
   "outputs": [],
   "source": [
    "import os\n",
    "import leafmap"
   ]
  },
  {
   "cell_type": "markdown",
   "id": "f5c7e921",
   "metadata": {},
   "source": [
    "Specify input raster datasets"
   ]
  },
  {
   "cell_type": "code",
   "execution_count": null,
   "id": "e64c0806",
   "metadata": {},
   "outputs": [],
   "source": [
    "out_dir = os.path.expanduser('~/Downloads')\n",
    "dem = os.path.join(out_dir, 'dem.tif')\n",
    "landsat = os.path.join(out_dir, 'landsat.tif')"
   ]
  },
  {
   "cell_type": "markdown",
   "id": "f1f424cb",
   "metadata": {},
   "source": [
    "Download samples raster datasets."
   ]
  },
  {
   "cell_type": "code",
   "execution_count": null,
   "id": "82b895db",
   "metadata": {},
   "outputs": [],
   "source": [
    "if not os.path.exists(dem):\n",
    "    dem_url = 'https://drive.google.com/file/d/1vRkAWQYsLWCi6vcTMk8vLxoXMFbdMFn8/view?usp=sharing'\n",
    "    leafmap.download_from_gdrive(dem_url, dem, out_dir, unzip=False)"
   ]
  },
  {
   "cell_type": "code",
   "execution_count": null,
   "id": "c25f8b74",
   "metadata": {},
   "outputs": [],
   "source": [
    "if not os.path.exists(landsat):\n",
    "    landsat_url = 'https://github.com/giswqs/leafmap/raw/master/examples/data/cog.tif'\n",
    "    leafmap.download_from_url(landsat_url, landsat, out_dir, unzip=False)"
   ]
  },
  {
   "cell_type": "markdown",
   "id": "35d57659",
   "metadata": {},
   "source": [
    "Create an interactive map."
   ]
  },
  {
   "cell_type": "code",
   "execution_count": null,
   "id": "0ae8d068",
   "metadata": {},
   "outputs": [],
   "source": [
    "m = leafmap.Map()"
   ]
  },
  {
   "cell_type": "markdown",
   "id": "f4ca5ac4",
   "metadata": {},
   "source": [
    "Add local raster datasets to the map. The available palettes can be found at https://jiffyclub.github.io/palettable/"
   ]
  },
  {
   "cell_type": "code",
   "execution_count": null,
   "id": "252eb2cb",
   "metadata": {},
   "outputs": [],
   "source": [
    "m.add_raster(landsat, band=[4, 3, 2], layer_name=\"Landsat\")"
   ]
  },
  {
   "cell_type": "code",
   "execution_count": null,
   "id": "8fa87b60",
   "metadata": {},
   "outputs": [],
   "source": [
    "m.add_raster(dem, palette='viridis', layer_name=\"DEM\")"
   ]
  },
  {
   "cell_type": "code",
   "execution_count": null,
   "id": "a7e27239",
   "metadata": {},
   "outputs": [],
   "source": [
    "m"
   ]
  },
  {
   "cell_type": "markdown",
   "id": "80556e22",
   "metadata": {},
   "source": [
    "Add a remote Cloud Optimized GeoTIFF(COG) to the map."
   ]
  },
  {
   "cell_type": "code",
   "execution_count": null,
   "id": "3cc204bf",
   "metadata": {},
   "outputs": [],
   "source": [
    "m = leafmap.Map()"
   ]
  },
  {
   "cell_type": "code",
   "execution_count": null,
   "id": "cb8031a0",
   "metadata": {},
   "outputs": [],
   "source": [
    "url = 'https://opendata.digitalglobe.com/events/california-fire-2020/pre-event/2018-02-16/pine-gulch-fire20/1030010076004E00.tif'"
   ]
  },
  {
   "cell_type": "code",
   "execution_count": null,
   "id": "88ed8f4b",
   "metadata": {},
   "outputs": [],
   "source": [
    "m.add_cog_layer(url, name=\"CA Fire\")"
   ]
  },
  {
   "cell_type": "code",
   "execution_count": null,
   "id": "7ca3f9d5",
   "metadata": {},
   "outputs": [],
   "source": [
    "m"
   ]
  },
  {
   "cell_type": "markdown",
   "id": "9275e8ca",
   "metadata": {},
   "source": [
    "![](https://i.imgur.com/dy6LSq5.gif)"
   ]
  }
 ],
 "metadata": {
  "kernelspec": {
   "display_name": "Python (Pyodide)",
   "language": "python",
   "name": "python3"
  }
 },
 "nbformat": 4,
 "nbformat_minor": 5
}
