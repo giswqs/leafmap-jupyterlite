{
 "cells": [
  {
   "cell_type": "markdown",
   "id": "c759f7e6",
   "metadata": {},
   "source": [
    "[![image](https://mybinder.org/badge_logo.svg)](https://gishub.org/leafmap-binder)\n",
    "\n",
    "**Using local raster datasets or remote Cloud Optimized GeoTIFFs (COG) with leafmap**\n",
    "\n",
    "Uncomment the following line to install [leafmap](https://leafmap.org) and [localtileserver](https://github.com/banesullivan/localtileserver) if needed."
   ]
  },
  {
   "cell_type": "code",
   "execution_count": null,
   "id": "e64471b1",
   "metadata": {},
   "outputs": [],
   "source": [
    "%pip install -q leafmap"
   ]
  },
  {
   "cell_type": "code",
   "execution_count": null,
   "id": "975655b7",
   "metadata": {},
   "outputs": [],
   "source": [
    "# !pip install localtileserver"
   ]
  },
  {
   "cell_type": "code",
   "execution_count": null,
   "id": "263c99f0",
   "metadata": {},
   "outputs": [],
   "source": [
    "import os\n",
    "import leafmap"
   ]
  },
  {
   "cell_type": "markdown",
   "id": "9bb5f506",
   "metadata": {},
   "source": [
    "Specify input raster datasets"
   ]
  },
  {
   "cell_type": "code",
   "execution_count": null,
   "id": "a1b6627a",
   "metadata": {},
   "outputs": [],
   "source": [
    "out_dir = os.path.expanduser('~/Downloads')\n",
    "dem = os.path.join(out_dir, 'dem.tif')\n",
    "landsat = os.path.join(out_dir, 'landsat.tif')"
   ]
  },
  {
   "cell_type": "markdown",
   "id": "1d238881",
   "metadata": {},
   "source": [
    "Download samples raster datasets."
   ]
  },
  {
   "cell_type": "code",
   "execution_count": null,
   "id": "87d7d71d",
   "metadata": {},
   "outputs": [],
   "source": [
    "if not os.path.exists(dem):\n",
    "    dem_url = 'https://drive.google.com/file/d/1vRkAWQYsLWCi6vcTMk8vLxoXMFbdMFn8/view?usp=sharing'\n",
    "    leafmap.download_from_gdrive(dem_url, dem, out_dir, unzip=False)"
   ]
  },
  {
   "cell_type": "code",
   "execution_count": null,
   "id": "b2a7f395",
   "metadata": {},
   "outputs": [],
   "source": [
    "if not os.path.exists(landsat):\n",
    "    landsat_url = 'https://github.com/giswqs/leafmap/raw/master/examples/data/cog.tif'\n",
    "    leafmap.download_from_url(landsat_url, landsat, out_dir, unzip=False)"
   ]
  },
  {
   "cell_type": "markdown",
   "id": "283d4c42",
   "metadata": {},
   "source": [
    "Create an interactive map."
   ]
  },
  {
   "cell_type": "code",
   "execution_count": null,
   "id": "a6b6155f",
   "metadata": {},
   "outputs": [],
   "source": [
    "m = leafmap.Map()"
   ]
  },
  {
   "cell_type": "markdown",
   "id": "cd713313",
   "metadata": {},
   "source": [
    "Add local raster datasets to the map. The available palettes can be found at https://jiffyclub.github.io/palettable/"
   ]
  },
  {
   "cell_type": "code",
   "execution_count": null,
   "id": "1329f312",
   "metadata": {},
   "outputs": [],
   "source": [
    "m.add_raster(landsat, band=[4, 3, 2], layer_name=\"Landsat\")"
   ]
  },
  {
   "cell_type": "code",
   "execution_count": null,
   "id": "e78edc07",
   "metadata": {},
   "outputs": [],
   "source": [
    "m.add_raster(dem, palette='viridis', layer_name=\"DEM\")"
   ]
  },
  {
   "cell_type": "code",
   "execution_count": null,
   "id": "7019a0e5",
   "metadata": {},
   "outputs": [],
   "source": [
    "m"
   ]
  },
  {
   "cell_type": "markdown",
   "id": "01b4b89e",
   "metadata": {},
   "source": [
    "Add a remote Cloud Optimized GeoTIFF(COG) to the map."
   ]
  },
  {
   "cell_type": "code",
   "execution_count": null,
   "id": "9bf3bb40",
   "metadata": {},
   "outputs": [],
   "source": [
    "m = leafmap.Map()"
   ]
  },
  {
   "cell_type": "code",
   "execution_count": null,
   "id": "8971178f",
   "metadata": {},
   "outputs": [],
   "source": [
    "url = 'https://opendata.digitalglobe.com/events/california-fire-2020/pre-event/2018-02-16/pine-gulch-fire20/1030010076004E00.tif'"
   ]
  },
  {
   "cell_type": "code",
   "execution_count": null,
   "id": "41cadea6",
   "metadata": {},
   "outputs": [],
   "source": [
    "m.add_cog_layer(url, name=\"CA Fire\")"
   ]
  },
  {
   "cell_type": "code",
   "execution_count": null,
   "id": "aac32d12",
   "metadata": {},
   "outputs": [],
   "source": [
    "m"
   ]
  },
  {
   "cell_type": "markdown",
   "id": "103ac35a",
   "metadata": {},
   "source": [
    "![](https://i.imgur.com/dy6LSq5.gif)"
   ]
  }
 ],
 "metadata": {
  "kernelspec": {
   "display_name": "Python 3.9.13 ('geo')",
   "language": "python",
   "name": "python3"
  }
 },
 "nbformat": 4,
 "nbformat_minor": 5
}
