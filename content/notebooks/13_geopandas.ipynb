{
 "cells": [
  {
   "cell_type": "markdown",
   "id": "e17b1e35",
   "metadata": {},
   "source": [
    "[![image](https://jupyterlite.rtfd.io/en/latest/_static/badge.svg)](https://demo.leafmap.org/lab/index.html?path=notebooks/13_geopandas.ipynb)\n",
    "[![image](https://colab.research.google.com/assets/colab-badge.svg)](https://githubtocolab.com/giswqs/leafmap/blob/master/examples/notebooks/13_geopandas.ipynb)\n",
    "[![image](https://mybinder.org/badge_logo.svg)](https://gishub.org/leafmap-binder)\n",
    "\n",
    "**Adding a GeoPandas GeoDataFrame to the map with a single line of code**\n",
    "\n",
    "Uncomment the following line to install [leafmap](https://leafmap.org) if needed. You can also use conda to create a new environment to install geopandas and leafmap.\n",
    "\n",
    "```\n",
    "conda create geo -n python=3.8\n",
    "conda activate geo\n",
    "conda install geopandas\n",
    "conda install mamba -c conda-forge\n",
    "mamba install leafmap -c conda-forge\n",
    "```"
   ]
  },
  {
   "cell_type": "code",
   "execution_count": null,
   "id": "c4e4e2cd",
   "metadata": {},
   "outputs": [],
   "source": [
    "%pip install -q leafmap"
   ]
  },
  {
   "cell_type": "code",
   "execution_count": null,
   "id": "d1cbe298",
   "metadata": {},
   "outputs": [],
   "source": [
    "import piplite\n",
    "await piplite.install(['geopandas', 'shapely', 'pyproj'], deps=False)"
   ]
  },
  {
   "cell_type": "code",
   "execution_count": null,
   "id": "357838c1",
   "metadata": {},
   "outputs": [],
   "source": [
    "import leafmap\n",
    "import geopandas as gpd"
   ]
  },
  {
   "cell_type": "code",
   "execution_count": null,
   "id": "fa3bc3e1",
   "metadata": {},
   "outputs": [],
   "source": []
  },
  {
   "cell_type": "markdown",
   "id": "4f4caf2e",
   "metadata": {},
   "source": [
    "Use GeoPandas to read a GeoJSON from an HTTP URL and return it as a GeoDataFrame.\n",
    "\n",
    "Sample data: https://github.com/giswqs/leafmap/raw/master/examples/data/cable_geo.geojson"
   ]
  },
  {
   "cell_type": "code",
   "execution_count": null,
   "id": "491ad9a3",
   "metadata": {},
   "outputs": [],
   "source": [
    "gdf = gpd.read_file(\n",
    "    \"https://github.com/giswqs/leafmap/raw/master/examples/data/cable_geo.geojson\"\n",
    ")"
   ]
  },
  {
   "cell_type": "markdown",
   "id": "7b6609a8",
   "metadata": {},
   "source": [
    "Add a GeoDataFrame to the map."
   ]
  },
  {
   "cell_type": "code",
   "execution_count": null,
   "id": "dae666e3",
   "metadata": {},
   "outputs": [],
   "source": [
    "m = leafmap.Map()\n",
    "m.add_gdf(gdf, layer_name=\"Cable lines\")\n",
    "m"
   ]
  },
  {
   "cell_type": "markdown",
   "id": "346cdb4c",
   "metadata": {},
   "source": [
    "The following example requires the ipyleaflet plotting backend."
   ]
  },
  {
   "cell_type": "code",
   "execution_count": null,
   "id": "dcc2f644",
   "metadata": {},
   "outputs": [],
   "source": [
    "import leafmap.leafmap as leafmap  # for ipyleaflet only"
   ]
  },
  {
   "cell_type": "markdown",
   "id": "9d49f0e7",
   "metadata": {},
   "source": [
    "Read the GeoPandas sample dataset as a GeoDataFrame."
   ]
  },
  {
   "cell_type": "code",
   "execution_count": null,
   "id": "7a518ea2",
   "metadata": {},
   "outputs": [],
   "source": [
    "path_to_data = gpd.datasets.get_path(\"nybb\")\n",
    "gdf = gpd.read_file(path_to_data)\n",
    "gdf"
   ]
  },
  {
   "cell_type": "markdown",
   "id": "2e3dc6e1",
   "metadata": {},
   "source": [
    "Convert the GeoDataFrame to GeoJSON. Users can then use `add_geojson()` to add the GeoJSON to the map. Alternatively, users can directly use the `add_gdf()` function to add a GeoDataFrame to the map. Note you when hovering the mouse over the layer, an information box is shown at the lower right corner of the map. This feature is only available for the ipyleaflet plotting backend."
   ]
  },
  {
   "cell_type": "code",
   "execution_count": null,
   "id": "c1578632",
   "metadata": {},
   "outputs": [],
   "source": [
    "geojson = leafmap.gdf_to_geojson(gdf, epsg=\"4326\")\n",
    "# geojson"
   ]
  },
  {
   "cell_type": "markdown",
   "id": "d4d389fd",
   "metadata": {},
   "source": [
    "One can provide a list of colors (`fill_colors`) to randomly fill the polygons."
   ]
  },
  {
   "cell_type": "code",
   "execution_count": null,
   "id": "3073f5c6",
   "metadata": {},
   "outputs": [],
   "source": [
    "m = leafmap.Map()\n",
    "m.add_gdf(gdf, layer_name=\"New York boroughs\", fill_colors=[\"red\", \"green\", \"blue\"])\n",
    "m"
   ]
  },
  {
   "cell_type": "markdown",
   "id": "50da78be",
   "metadata": {},
   "source": [
    "![](https://i.imgur.com/lfAkjdt.gif)"
   ]
  }
 ],
 "metadata": {
  "kernelspec": {
   "display_name": "Python (Pyodide)",
   "language": "python",
   "name": "python"
  }
 },
 "nbformat": 4,
 "nbformat_minor": 5
}
