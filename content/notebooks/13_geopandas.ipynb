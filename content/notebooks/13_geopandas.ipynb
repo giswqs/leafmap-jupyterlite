{
 "cells": [
  {
   "cell_type": "markdown",
   "id": "1c4be442",
   "metadata": {},
   "source": [
    "[![image](https://jupyterlite.rtfd.io/en/latest/_static/badge.svg)](https://demo.leafmap.org/lab/index.html?path=notebooks/13_geopandas.ipynb)\n",
    "[![image](https://colab.research.google.com/assets/colab-badge.svg)](https://githubtocolab.com/giswqs/leafmap/blob/master/examples/notebooks/13_geopandas.ipynb)\n",
    "[![image](https://mybinder.org/badge_logo.svg)](https://gishub.org/leafmap-binder)\n",
    "\n",
    "**Adding a GeoPandas GeoDataFrame to the map with a single line of code**\n",
    "\n",
    "Uncomment the following line to install [leafmap](https://leafmap.org) if needed. You can also use conda to create a new environment to install geopandas and leafmap.\n",
    "\n",
    "```\n",
    "conda create geo -n python=3.8\n",
    "conda activate geo\n",
    "conda install geopandas\n",
    "conda install mamba -c conda-forge\n",
    "mamba install leafmap -c conda-forge\n",
    "```"
   ]
  },
  {
   "cell_type": "code",
   "execution_count": null,
   "id": "8ca452da",
   "metadata": {},
   "outputs": [],
   "source": [
    "%pip install -q leafmap"
   ]
  },
  {
   "cell_type": "code",
   "execution_count": null,
   "id": "51779b04",
   "metadata": {},
   "outputs": [],
   "source": [
    "import piplite\n",
    "\n",
    "await piplite.install(['geopandas', 'shapely', 'pyproj'], deps=False)"
   ]
  },
  {
   "cell_type": "code",
   "execution_count": null,
   "id": "aa1102ba",
   "metadata": {},
   "outputs": [],
   "source": [
    "import leafmap\n",
    "import geopandas as gpd"
   ]
  },
  {
   "cell_type": "code",
   "execution_count": null,
   "id": "ed45d13f",
   "metadata": {},
   "outputs": [],
   "source": [
    "# leafmap.update_package()"
   ]
  },
  {
   "cell_type": "markdown",
   "id": "aeb8b6df",
   "metadata": {},
   "source": [
    "Use GeoPandas to read a GeoJSON from an HTTP URL and return it as a GeoDataFrame.\n",
    "\n",
    "Sample data: https://github.com/giswqs/leafmap/raw/master/examples/data/cable_geo.geojson"
   ]
  },
  {
   "cell_type": "code",
   "execution_count": null,
   "id": "e649d621",
   "metadata": {},
   "outputs": [],
   "source": [
    "gdf = gpd.read_file(\n",
    "    \"https://github.com/giswqs/leafmap/raw/master/examples/data/cable_geo.geojson\"\n",
    ")"
   ]
  },
  {
   "cell_type": "markdown",
   "id": "854424c7",
   "metadata": {},
   "source": [
    "Add a GeoDataFrame to the map."
   ]
  },
  {
   "cell_type": "code",
   "execution_count": null,
   "id": "50e635c7",
   "metadata": {},
   "outputs": [],
   "source": [
    "m = leafmap.Map()\n",
    "m.add_gdf(gdf, layer_name=\"Cable lines\")\n",
    "m"
   ]
  },
  {
   "cell_type": "markdown",
   "id": "3cd71bc6",
   "metadata": {},
   "source": [
    "The following example requires the ipyleaflet plotting backend."
   ]
  },
  {
   "cell_type": "code",
   "execution_count": null,
   "id": "2670141c",
   "metadata": {},
   "outputs": [],
   "source": [
    "import leafmap.leafmap as leafmap  # for ipyleaflet only"
   ]
  },
  {
   "cell_type": "markdown",
   "id": "93fa2ef9",
   "metadata": {},
   "source": [
    "Read the GeoPandas sample dataset as a GeoDataFrame."
   ]
  },
  {
   "cell_type": "code",
   "execution_count": null,
   "id": "6ab29fdb",
   "metadata": {},
   "outputs": [],
   "source": [
    "path_to_data = gpd.datasets.get_path(\"nybb\")\n",
    "gdf = gpd.read_file(path_to_data)\n",
    "gdf"
   ]
  },
  {
   "cell_type": "markdown",
   "id": "cbea1178",
   "metadata": {},
   "source": [
    "Convert the GeoDataFrame to GeoJSON. Users can then use `add_geojson()` to add the GeoJSON to the map. Alternatively, users can directly use the `add_gdf()` function to add a GeoDataFrame to the map. Note you when hovering the mouse over the layer, an information box is shown at the lower right corner of the map. This feature is only available for the ipyleaflet plotting backend."
   ]
  },
  {
   "cell_type": "code",
   "execution_count": null,
   "id": "1360f226",
   "metadata": {},
   "outputs": [],
   "source": [
    "geojson = leafmap.gdf_to_geojson(gdf, epsg=\"4326\")\n",
    "# geojson"
   ]
  },
  {
   "cell_type": "markdown",
   "id": "d2ee18f9",
   "metadata": {},
   "source": [
    "One can provide a list of colors (`fill_colors`) to randomly fill the polygons."
   ]
  },
  {
   "cell_type": "code",
   "execution_count": null,
   "id": "fbc10f42",
   "metadata": {},
   "outputs": [],
   "source": [
    "m = leafmap.Map()\n",
    "m.add_gdf(gdf, layer_name=\"New York boroughs\", fill_colors=[\"red\", \"green\", \"blue\"])\n",
    "m"
   ]
  },
  {
   "cell_type": "markdown",
   "id": "a32238d3",
   "metadata": {},
   "source": [
    "![](https://i.imgur.com/lfAkjdt.gif)"
   ]
  }
 ],
 "metadata": {
  "kernelspec": {
   "display_name": "Python 3",
   "language": "python",
   "name": "python3"
  }
 },
 "nbformat": 4,
 "nbformat_minor": 5
}
