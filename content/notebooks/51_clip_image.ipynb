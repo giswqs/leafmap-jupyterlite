{
 "cells": [
  {
   "cell_type": "markdown",
   "id": "08f40268",
   "metadata": {},
   "source": [
    "[![image](https://jupyterlite.rtfd.io/en/latest/_static/badge.svg)](https://demo.leafmap.org/lab/index.html?path=notebooks/51_clip_image.ipynb)\n",
    "[![image](https://colab.research.google.com/assets/colab-badge.svg)](https://githubtocolab.com/giswqs/leafmap/blob/master/examples/notebooks/51_clip_image.ipynb)\n",
    "[![image](https://mybinder.org/badge_logo.svg)](https://gishub.org/leafmap-binder)"
   ]
  },
  {
   "cell_type": "code",
   "execution_count": null,
   "id": "851ea52e",
   "metadata": {},
   "outputs": [],
   "source": [
    "%pip install -q leafmap"
   ]
  },
  {
   "cell_type": "code",
   "execution_count": null,
   "id": "b52fba0e",
   "metadata": {},
   "outputs": [],
   "source": [
    "# !pip install rasterio fiona"
   ]
  },
  {
   "cell_type": "code",
   "execution_count": null,
   "id": "c854f009",
   "metadata": {},
   "outputs": [],
   "source": [
    "import leafmap"
   ]
  },
  {
   "cell_type": "markdown",
   "id": "c03ef55d",
   "metadata": {},
   "source": [
    "Download a sample raster dataset."
   ]
  },
  {
   "cell_type": "code",
   "execution_count": null,
   "id": "61f7a095",
   "metadata": {},
   "outputs": [],
   "source": [
    "url = 'https://github.com/giswqs/data/raw/main/raster/srtm90.tif'\n",
    "dem = 'dem.tif'"
   ]
  },
  {
   "cell_type": "code",
   "execution_count": null,
   "id": "28ce1e28",
   "metadata": {},
   "outputs": [],
   "source": [
    "leafmap.download_file(url, dem, overwrite=True)"
   ]
  },
  {
   "cell_type": "markdown",
   "id": "32c166d0",
   "metadata": {},
   "source": [
    "Create an interactive map."
   ]
  },
  {
   "cell_type": "code",
   "execution_count": null,
   "id": "fe30e6f8",
   "metadata": {},
   "outputs": [],
   "source": [
    "m = leafmap.Map()\n",
    "m.add_raster(dem, palette='terrain', layer_name=\"DEM\")\n",
    "m"
   ]
  },
  {
   "cell_type": "markdown",
   "id": "84668f89",
   "metadata": {},
   "source": [
    "Define a mask to extract the image. The mask can be a string representing a file path to a vector dataset (e.g., geojson, shp), or a list of coordinates (e.g., `[[lon,lat], [lon,lat]]`), or a dictionary representing a feature (e.g., m.user_roi).\n",
    "\n",
    "For example, the mask can be a filepath to a vector dataset."
   ]
  },
  {
   "cell_type": "code",
   "execution_count": null,
   "id": "a4dc7fba",
   "metadata": {},
   "outputs": [],
   "source": [
    "# mask = 'https://raw.githubusercontent.com/giswqs/leafmap/master/examples/data/mask.geojson'"
   ]
  },
  {
   "cell_type": "markdown",
   "id": "cfa3dbe4",
   "metadata": {},
   "source": [
    "Or you can draw a polygon on the map, then use `m.user_roi` as the mask."
   ]
  },
  {
   "cell_type": "code",
   "execution_count": null,
   "id": "cd305e07",
   "metadata": {},
   "outputs": [],
   "source": [
    "# mask = m.user_roi"
   ]
  },
  {
   "cell_type": "markdown",
   "id": "59c1d32c",
   "metadata": {},
   "source": [
    "Or specify a list of coordinates `[lon, lat]` as the mask."
   ]
  },
  {
   "cell_type": "code",
   "execution_count": null,
   "id": "18fafa63",
   "metadata": {},
   "outputs": [],
   "source": [
    "mask = [\n",
    "    [-119.679565, 37.256566],\n",
    "    [-119.679565, 38.061067],\n",
    "    [-118.24585, 38.061067],\n",
    "    [-118.24585, 37.256566],\n",
    "    [-119.679565, 37.256566],\n",
    "]"
   ]
  },
  {
   "cell_type": "markdown",
   "id": "b2e736f6",
   "metadata": {},
   "source": [
    "Specify the output filename."
   ]
  },
  {
   "cell_type": "code",
   "execution_count": null,
   "id": "dbccfe27",
   "metadata": {},
   "outputs": [],
   "source": [
    "output = 'clip.tif'"
   ]
  },
  {
   "cell_type": "markdown",
   "id": "a03108c1",
   "metadata": {},
   "source": [
    "Clip image by mask."
   ]
  },
  {
   "cell_type": "code",
   "execution_count": null,
   "id": "e8ed40c2",
   "metadata": {},
   "outputs": [],
   "source": [
    "leafmap.clip_image(dem, mask, output)"
   ]
  },
  {
   "cell_type": "markdown",
   "id": "bef75d9e",
   "metadata": {},
   "source": [
    "Add the clipped image to the map."
   ]
  },
  {
   "cell_type": "code",
   "execution_count": null,
   "id": "d2f4f429",
   "metadata": {},
   "outputs": [],
   "source": [
    "m.add_raster(output, palette='gist_earth', layer_name=\"Clip Image\")"
   ]
  }
 ],
 "metadata": {
  "kernelspec": {
   "display_name": "Python (Pyodide)",
   "language": "python",
   "name": "python"
  }
 },
 "nbformat": 4,
 "nbformat_minor": 5
}
