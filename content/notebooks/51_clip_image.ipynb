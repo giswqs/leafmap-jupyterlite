{
 "cells": [
  {
   "cell_type": "markdown",
   "id": "0fb501b2",
   "metadata": {},
   "source": [
    "[![image](https://jupyterlite.rtfd.io/en/latest/_static/badge.svg)](https://demo.leafmap.org/lab/index.html?path=notebooks/51_clip_image.ipynb)\n",
    "[![image](https://colab.research.google.com/assets/colab-badge.svg)](https://githubtocolab.com/giswqs/leafmap/blob/master/examples/notebooks/51_clip_image.ipynb)\n",
    "[![image](https://mybinder.org/badge_logo.svg)](https://gishub.org/leafmap-binder)"
   ]
  },
  {
   "cell_type": "code",
   "execution_count": null,
   "id": "9f7f5a19",
   "metadata": {},
   "outputs": [],
   "source": [
    "%pip install -q leafmap"
   ]
  },
  {
   "cell_type": "code",
   "execution_count": null,
   "id": "aa147da9",
   "metadata": {},
   "outputs": [],
   "source": [
    "# !pip install rasterio fiona"
   ]
  },
  {
   "cell_type": "code",
   "execution_count": null,
   "id": "72cf6437",
   "metadata": {},
   "outputs": [],
   "source": [
    "import leafmap"
   ]
  },
  {
   "cell_type": "markdown",
   "id": "630f9f8c",
   "metadata": {},
   "source": [
    "Download a sample raster dataset."
   ]
  },
  {
   "cell_type": "code",
   "execution_count": null,
   "id": "1769f77f",
   "metadata": {},
   "outputs": [],
   "source": [
    "url = 'https://github.com/giswqs/data/raw/main/raster/srtm90.tif'\n",
    "dem = 'dem.tif'"
   ]
  },
  {
   "cell_type": "code",
   "execution_count": null,
   "id": "c61f19a4",
   "metadata": {},
   "outputs": [],
   "source": [
    "leafmap.download_file(url, dem, overwrite=True)"
   ]
  },
  {
   "cell_type": "markdown",
   "id": "fbeb51ee",
   "metadata": {},
   "source": [
    "Create an interactive map."
   ]
  },
  {
   "cell_type": "code",
   "execution_count": null,
   "id": "e4141d94",
   "metadata": {},
   "outputs": [],
   "source": [
    "m = leafmap.Map()\n",
    "m.add_raster(dem, palette='terrain', layer_name=\"DEM\")\n",
    "m"
   ]
  },
  {
   "cell_type": "markdown",
   "id": "05270d86",
   "metadata": {},
   "source": [
    "Define a mask to extract the image. The mask can be a string representing a file path to a vector dataset (e.g., geojson, shp), or a list of coordinates (e.g., `[[lon,lat], [lon,lat]]`), or a dictionary representing a feature (e.g., m.user_roi).\n",
    "\n",
    "For example, the mask can be a filepath to a vector dataset."
   ]
  },
  {
   "cell_type": "code",
   "execution_count": null,
   "id": "9313e157",
   "metadata": {},
   "outputs": [],
   "source": [
    "# mask = 'https://raw.githubusercontent.com/giswqs/leafmap/master/examples/data/mask.geojson'"
   ]
  },
  {
   "cell_type": "markdown",
   "id": "92acbe55",
   "metadata": {},
   "source": [
    "Or you can draw a polygon on the map, then use `m.user_roi` as the mask."
   ]
  },
  {
   "cell_type": "code",
   "execution_count": null,
   "id": "2c3a0068",
   "metadata": {},
   "outputs": [],
   "source": [
    "# mask = m.user_roi"
   ]
  },
  {
   "cell_type": "markdown",
   "id": "e4bec0e3",
   "metadata": {},
   "source": [
    "Or specify a list of coordinates `[lon, lat]` as the mask."
   ]
  },
  {
   "cell_type": "code",
   "execution_count": null,
   "id": "b803a331",
   "metadata": {},
   "outputs": [],
   "source": [
    "mask = [\n",
    "    [-119.679565, 37.256566],\n",
    "    [-119.679565, 38.061067],\n",
    "    [-118.24585, 38.061067],\n",
    "    [-118.24585, 37.256566],\n",
    "    [-119.679565, 37.256566],\n",
    "]"
   ]
  },
  {
   "cell_type": "markdown",
   "id": "73a7ec0e",
   "metadata": {},
   "source": [
    "Specify the output filename."
   ]
  },
  {
   "cell_type": "code",
   "execution_count": null,
   "id": "b72a318c",
   "metadata": {},
   "outputs": [],
   "source": [
    "output = 'clip.tif'"
   ]
  },
  {
   "cell_type": "markdown",
   "id": "83d2bfea",
   "metadata": {},
   "source": [
    "Clip image by mask."
   ]
  },
  {
   "cell_type": "code",
   "execution_count": null,
   "id": "108ea5d1",
   "metadata": {},
   "outputs": [],
   "source": [
    "leafmap.clip_image(dem, mask, output)"
   ]
  },
  {
   "cell_type": "markdown",
   "id": "2237f41c",
   "metadata": {},
   "source": [
    "Add the clipped image to the map."
   ]
  },
  {
   "cell_type": "code",
   "execution_count": null,
   "id": "4621a48c",
   "metadata": {},
   "outputs": [],
   "source": [
    "m.add_raster(output, palette='gist_earth', layer_name=\"Clip Image\")"
   ]
  }
 ],
 "metadata": {
  "kernelspec": {
   "display_name": "Python 3.9.13 ('geo')",
   "language": "python",
   "name": "python3"
  }
 },
 "nbformat": 4,
 "nbformat_minor": 5
}
