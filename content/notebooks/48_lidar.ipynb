{
 "cells": [
  {
   "cell_type": "markdown",
   "id": "b7690922",
   "metadata": {},
   "source": [
    "[![image](https://jupyterlite.rtfd.io/en/latest/_static/badge.svg)](https://demo.leafmap.org/lab/index.html?path=notebooks/48_lidar.ipynb)\n",
    "[![image](https://colab.research.google.com/assets/colab-badge.svg)](https://githubtocolab.com/giswqs/leafmap/blob/master/examples/notebooks/48_lidar.ipynb)\n",
    "[![image](https://mybinder.org/badge_logo.svg)](https://gishub.org/leafmap-binder)\n",
    "\n",
    "**Visualizing LiDAR data in 3D with only one line of code**"
   ]
  },
  {
   "cell_type": "code",
   "execution_count": null,
   "id": "ef24446c",
   "metadata": {},
   "outputs": [],
   "source": [
    "%pip install -q leafmap"
   ]
  },
  {
   "cell_type": "code",
   "execution_count": null,
   "id": "fd0ec5ef",
   "metadata": {},
   "outputs": [],
   "source": [
    "# !pip install leafmap[lidar] open3d"
   ]
  },
  {
   "cell_type": "code",
   "execution_count": null,
   "id": "e99afbb0",
   "metadata": {},
   "outputs": [],
   "source": [
    "import os\n",
    "import leafmap"
   ]
  },
  {
   "cell_type": "markdown",
   "id": "eddd9fab",
   "metadata": {},
   "source": [
    "Download a [sample LiDAR dataset](https://drive.google.com/file/d/1H_X1190vL63BoFYa_cVBDxtIa8rG-Usb/view?usp=sharing) from Google Drive. The zip file is 52.1 MB and the uncompressed LAS file is 109 MB."
   ]
  },
  {
   "cell_type": "code",
   "execution_count": null,
   "id": "91df49d1",
   "metadata": {},
   "outputs": [],
   "source": [
    "url = (\n",
    "    'https://github.com/giswqs/data/raw/main/lidar/madison.zip'\n",
    ")\n",
    "filename = 'madison.las'"
   ]
  },
  {
   "cell_type": "code",
   "execution_count": null,
   "id": "bebd7d4a",
   "metadata": {},
   "outputs": [],
   "source": [
    "if not os.path.exists(filename):\n",
    "    leafmap.download_file(url, 'madison.zip', unzip=True)"
   ]
  },
  {
   "cell_type": "markdown",
   "id": "db9dea1c",
   "metadata": {},
   "source": [
    "Read the LiDAR data"
   ]
  },
  {
   "cell_type": "code",
   "execution_count": null,
   "id": "67376449",
   "metadata": {},
   "outputs": [],
   "source": [
    "las = leafmap.read_lidar(filename)"
   ]
  },
  {
   "cell_type": "markdown",
   "id": "306bb787",
   "metadata": {},
   "source": [
    "The LAS header."
   ]
  },
  {
   "cell_type": "code",
   "execution_count": null,
   "id": "7c37dedc",
   "metadata": {},
   "outputs": [],
   "source": [
    "las.header"
   ]
  },
  {
   "cell_type": "markdown",
   "id": "99393efc",
   "metadata": {},
   "source": [
    "The number of points."
   ]
  },
  {
   "cell_type": "code",
   "execution_count": null,
   "id": "cefb2b93",
   "metadata": {},
   "outputs": [],
   "source": [
    "las.header.point_count"
   ]
  },
  {
   "cell_type": "markdown",
   "id": "63f640b7",
   "metadata": {},
   "source": [
    "The list of features."
   ]
  },
  {
   "cell_type": "code",
   "execution_count": null,
   "id": "370c4244",
   "metadata": {},
   "outputs": [],
   "source": [
    "list(las.point_format.dimension_names)"
   ]
  },
  {
   "cell_type": "markdown",
   "id": "126b835d",
   "metadata": {},
   "source": [
    "Inspect data."
   ]
  },
  {
   "cell_type": "code",
   "execution_count": null,
   "id": "8f3a798e",
   "metadata": {},
   "outputs": [],
   "source": [
    "las.X"
   ]
  },
  {
   "cell_type": "code",
   "execution_count": null,
   "id": "63011fe9",
   "metadata": {},
   "outputs": [],
   "source": [
    "las.Y"
   ]
  },
  {
   "cell_type": "code",
   "execution_count": null,
   "id": "18fc910d",
   "metadata": {},
   "outputs": [],
   "source": [
    "las.Z"
   ]
  },
  {
   "cell_type": "code",
   "execution_count": null,
   "id": "c09410a0",
   "metadata": {},
   "outputs": [],
   "source": [
    "las.intensity"
   ]
  },
  {
   "cell_type": "markdown",
   "id": "d7d9b291",
   "metadata": {},
   "source": [
    "Visualize LiDAR data using the [pyvista](https://github.com/pyvista/pyvista) backend."
   ]
  },
  {
   "cell_type": "code",
   "execution_count": null,
   "id": "2539083f",
   "metadata": {},
   "outputs": [],
   "source": [
    "# leafmap.view_lidar(filename, cmap='terrain', backend='pyvista')"
   ]
  },
  {
   "cell_type": "markdown",
   "id": "84d99210",
   "metadata": {},
   "source": [
    "![](https://i.imgur.com/xezcgMP.gif)"
   ]
  },
  {
   "cell_type": "markdown",
   "id": "d7a26e86",
   "metadata": {},
   "source": [
    "Visualize LiDAR data using the [ipygany](https://github.com/QuantStack/ipygany) backend."
   ]
  },
  {
   "cell_type": "code",
   "execution_count": null,
   "id": "8db9c1aa",
   "metadata": {},
   "outputs": [],
   "source": [
    "# leafmap.view_lidar(filename, backend='ipygany', background='white')"
   ]
  },
  {
   "cell_type": "markdown",
   "id": "333e122d",
   "metadata": {},
   "source": [
    "![](https://i.imgur.com/MyMWW4I.gif)"
   ]
  },
  {
   "cell_type": "markdown",
   "id": "47a07479",
   "metadata": {},
   "source": [
    "Visualize LiDAR data using the [panel](https://github.com/holoviz/panel) backend."
   ]
  },
  {
   "cell_type": "code",
   "execution_count": null,
   "id": "3a142bb3",
   "metadata": {},
   "outputs": [],
   "source": [
    "# leafmap.view_lidar(filename, cmap='terrain', backend='panel', background='white')"
   ]
  },
  {
   "cell_type": "markdown",
   "id": "50324957",
   "metadata": {},
   "source": [
    "![](https://i.imgur.com/XQGWbJk.gif)"
   ]
  },
  {
   "cell_type": "markdown",
   "id": "af808008",
   "metadata": {},
   "source": [
    "Visualize LiDAR data using the [open3d](http://www.open3d.org) backend."
   ]
  },
  {
   "cell_type": "code",
   "execution_count": null,
   "id": "90dcb1cd",
   "metadata": {},
   "outputs": [],
   "source": [
    "# leafmap.view_lidar(filename, backend='open3d')"
   ]
  },
  {
   "cell_type": "markdown",
   "id": "3a2763b3",
   "metadata": {},
   "source": [
    "![](https://i.imgur.com/rL85fbl.gif)"
   ]
  }
 ],
 "metadata": {
  "kernelspec": {
   "display_name": "Python 3",
   "language": "python",
   "name": "python3"
  }
 },
 "nbformat": 4,
 "nbformat_minor": 5
}
