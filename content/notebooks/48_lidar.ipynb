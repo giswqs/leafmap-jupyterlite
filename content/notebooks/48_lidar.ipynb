{
 "cells": [
  {
   "cell_type": "markdown",
   "id": "22d3a1ff",
   "metadata": {},
   "source": [
    "[![image](https://jupyterlite.rtfd.io/en/latest/_static/badge.svg)](https://demo.leafmap.org/lab/index.html?path=notebooks/48_lidar.ipynb)\n",
    "[![image](https://colab.research.google.com/assets/colab-badge.svg)](https://githubtocolab.com/giswqs/leafmap/blob/master/examples/notebooks/48_lidar.ipynb)\n",
    "[![image](https://mybinder.org/badge_logo.svg)](https://gishub.org/leafmap-binder)\n",
    "\n",
    "**Visualizing LiDAR data in 3D with only one line of code**"
   ]
  },
  {
   "cell_type": "code",
   "execution_count": null,
   "id": "918eb7e3",
   "metadata": {},
   "outputs": [],
   "source": [
    "%pip install -q leafmap"
   ]
  },
  {
   "cell_type": "code",
   "execution_count": null,
   "id": "59fa663b",
   "metadata": {},
   "outputs": [],
   "source": [
    "# !pip install leafmap[lidar] open3d"
   ]
  },
  {
   "cell_type": "code",
   "execution_count": null,
   "id": "4823f914",
   "metadata": {},
   "outputs": [],
   "source": [
    "import os\n",
    "import leafmap"
   ]
  },
  {
   "cell_type": "markdown",
   "id": "004072e0",
   "metadata": {},
   "source": [
    "Download a [sample LiDAR dataset](https://drive.google.com/file/d/1H_X1190vL63BoFYa_cVBDxtIa8rG-Usb/view?usp=sharing) from Google Drive. The zip file is 52.1 MB and the uncompressed LAS file is 109 MB."
   ]
  },
  {
   "cell_type": "code",
   "execution_count": null,
   "id": "ad831616",
   "metadata": {},
   "outputs": [],
   "source": [
    "url = (\n",
    "    'https://github.com/giswqs/data/raw/main/lidar/madison.zip'\n",
    ")\n",
    "filename = 'madison.las'"
   ]
  },
  {
   "cell_type": "code",
   "execution_count": null,
   "id": "33f4e55a",
   "metadata": {},
   "outputs": [],
   "source": [
    "if not os.path.exists(filename):\n",
    "    leafmap.download_file(url, 'madison.zip', unzip=True)"
   ]
  },
  {
   "cell_type": "markdown",
   "id": "1bda61df",
   "metadata": {},
   "source": [
    "Read the LiDAR data"
   ]
  },
  {
   "cell_type": "code",
   "execution_count": null,
   "id": "7bf12f47",
   "metadata": {},
   "outputs": [],
   "source": [
    "las = leafmap.read_lidar(filename)"
   ]
  },
  {
   "cell_type": "markdown",
   "id": "df8cf7f4",
   "metadata": {},
   "source": [
    "The LAS header."
   ]
  },
  {
   "cell_type": "code",
   "execution_count": null,
   "id": "6cd8b40a",
   "metadata": {},
   "outputs": [],
   "source": [
    "las.header"
   ]
  },
  {
   "cell_type": "markdown",
   "id": "0980b4e5",
   "metadata": {},
   "source": [
    "The number of points."
   ]
  },
  {
   "cell_type": "code",
   "execution_count": null,
   "id": "b73a98a3",
   "metadata": {},
   "outputs": [],
   "source": [
    "las.header.point_count"
   ]
  },
  {
   "cell_type": "markdown",
   "id": "43817f53",
   "metadata": {},
   "source": [
    "The list of features."
   ]
  },
  {
   "cell_type": "code",
   "execution_count": null,
   "id": "c21f9f45",
   "metadata": {},
   "outputs": [],
   "source": [
    "list(las.point_format.dimension_names)"
   ]
  },
  {
   "cell_type": "markdown",
   "id": "17bd5f07",
   "metadata": {},
   "source": [
    "Inspect data."
   ]
  },
  {
   "cell_type": "code",
   "execution_count": null,
   "id": "69249f7c",
   "metadata": {},
   "outputs": [],
   "source": [
    "las.X"
   ]
  },
  {
   "cell_type": "code",
   "execution_count": null,
   "id": "f05313f7",
   "metadata": {},
   "outputs": [],
   "source": [
    "las.Y"
   ]
  },
  {
   "cell_type": "code",
   "execution_count": null,
   "id": "84301431",
   "metadata": {},
   "outputs": [],
   "source": [
    "las.Z"
   ]
  },
  {
   "cell_type": "code",
   "execution_count": null,
   "id": "4005bd03",
   "metadata": {},
   "outputs": [],
   "source": [
    "las.intensity"
   ]
  },
  {
   "cell_type": "markdown",
   "id": "523901bc",
   "metadata": {},
   "source": [
    "Visualize LiDAR data using the [pyvista](https://github.com/pyvista/pyvista) backend."
   ]
  },
  {
   "cell_type": "code",
   "execution_count": null,
   "id": "6adcb0b9",
   "metadata": {},
   "outputs": [],
   "source": [
    "# leafmap.view_lidar(filename, cmap='terrain', backend='pyvista')"
   ]
  },
  {
   "cell_type": "markdown",
   "id": "fde9cba2",
   "metadata": {},
   "source": [
    "![](https://i.imgur.com/xezcgMP.gif)"
   ]
  },
  {
   "cell_type": "markdown",
   "id": "1c6c8add",
   "metadata": {},
   "source": [
    "Visualize LiDAR data using the [ipygany](https://github.com/QuantStack/ipygany) backend."
   ]
  },
  {
   "cell_type": "code",
   "execution_count": null,
   "id": "c773cd94",
   "metadata": {},
   "outputs": [],
   "source": [
    "# leafmap.view_lidar(filename, backend='ipygany', background='white')"
   ]
  },
  {
   "cell_type": "markdown",
   "id": "d1661619",
   "metadata": {},
   "source": [
    "![](https://i.imgur.com/MyMWW4I.gif)"
   ]
  },
  {
   "cell_type": "markdown",
   "id": "7e240816",
   "metadata": {},
   "source": [
    "Visualize LiDAR data using the [panel](https://github.com/holoviz/panel) backend."
   ]
  },
  {
   "cell_type": "code",
   "execution_count": null,
   "id": "3239e3ca",
   "metadata": {},
   "outputs": [],
   "source": [
    "# leafmap.view_lidar(filename, cmap='terrain', backend='panel', background='white')"
   ]
  },
  {
   "cell_type": "markdown",
   "id": "ad023e3e",
   "metadata": {},
   "source": [
    "![](https://i.imgur.com/XQGWbJk.gif)"
   ]
  },
  {
   "cell_type": "markdown",
   "id": "4ed55a6e",
   "metadata": {},
   "source": [
    "Visualize LiDAR data using the [open3d](http://www.open3d.org) backend."
   ]
  },
  {
   "cell_type": "code",
   "execution_count": null,
   "id": "bf0e1128",
   "metadata": {},
   "outputs": [],
   "source": [
    "# leafmap.view_lidar(filename, backend='open3d')"
   ]
  },
  {
   "cell_type": "markdown",
   "id": "6ada0153",
   "metadata": {},
   "source": [
    "![](https://i.imgur.com/rL85fbl.gif)"
   ]
  }
 ],
 "metadata": {
  "kernelspec": {
   "display_name": "Python (Pyodide)",
   "language": "python",
   "name": "python"
  }
 },
 "nbformat": 4,
 "nbformat_minor": 5
}
