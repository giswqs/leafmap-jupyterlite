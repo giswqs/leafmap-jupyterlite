{
 "cells": [
  {
   "cell_type": "markdown",
   "id": "39e65fd3",
   "metadata": {},
   "source": [
    "[![image](https://jupyterlite.rtfd.io/en/latest/_static/badge.svg)](https://demo.leafmap.org/lab/index.html?path=notebooks/43_search_control.ipynb)\n",
    "[![image](https://colab.research.google.com/assets/colab-badge.svg)](https://githubtocolab.com/giswqs/leafmap/blob/master/examples/notebooks/43_search_control.ipynb)\n",
    "[![image](https://mybinder.org/badge_logo.svg)](https://gishub.org/leafmap-binder)"
   ]
  },
  {
   "cell_type": "code",
   "execution_count": null,
   "id": "77911e3e",
   "metadata": {},
   "outputs": [],
   "source": [
    "%pip install -q leafmap"
   ]
  },
  {
   "cell_type": "code",
   "execution_count": null,
   "id": "a6c0029c",
   "metadata": {},
   "outputs": [],
   "source": [
    "import leafmap"
   ]
  },
  {
   "cell_type": "markdown",
   "id": "a943f157",
   "metadata": {},
   "source": [
    "Add a search control to the map. See the [Nominatim Usage Policy](https://operations.osmfoundation.org/policies/nominatim)."
   ]
  },
  {
   "cell_type": "code",
   "execution_count": null,
   "id": "08185681",
   "metadata": {},
   "outputs": [],
   "source": [
    "m = leafmap.Map(draw_control=False)\n",
    "url = \"https://nominatim.openstreetmap.org/search?format=json&q={s}\"\n",
    "m.add_search_control(url)\n",
    "m"
   ]
  },
  {
   "cell_type": "markdown",
   "id": "3d8fe78f",
   "metadata": {},
   "source": [
    "Search for features in GeoJSON files or any GeoPandas supported vector data."
   ]
  },
  {
   "cell_type": "code",
   "execution_count": null,
   "id": "fb8cdd12",
   "metadata": {},
   "outputs": [],
   "source": [
    "m = leafmap.Map(draw_control=False, layers_control=True)\n",
    "url = \"https://raw.githubusercontent.com/giswqs/leafmap/master/examples/data/countries.geojson\"\n",
    "m.add_geojson(\n",
    "    url,\n",
    "    layer_name=\"Countries\",\n",
    "    fill_colors=['red', 'yellow', 'green', 'orange'],\n",
    "    info_mode=None,\n",
    ")\n",
    "m"
   ]
  },
  {
   "cell_type": "markdown",
   "id": "4cbfc04a",
   "metadata": {},
   "source": [
    "![](https://i.imgur.com/LP0BElT.gif)"
   ]
  }
 ],
 "metadata": {
  "kernelspec": {
   "display_name": "Python (Pyodide)",
   "language": "python",
   "name": "python"
  }
 },
 "nbformat": 4,
 "nbformat_minor": 5
}
