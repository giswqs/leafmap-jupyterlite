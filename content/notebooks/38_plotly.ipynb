{
 "cells": [
  {
   "cell_type": "markdown",
   "id": "28ba4061",
   "metadata": {},
   "source": [
    "[![image](https://jupyterlite.rtfd.io/en/latest/_static/badge.svg)](https://demo.leafmap.org/lab/index.html?path=notebooks/38_plotly.ipynb)\n",
    "[![image](https://colab.research.google.com/assets/colab-badge.svg)](https://githubtocolab.com/giswqs/leafmap/blob/master/examples/notebooks/38_plotly.ipynb)\n",
    "[![image](https://mybinder.org/badge_logo.svg)](https://gishub.org/leafmap-binder)"
   ]
  },
  {
   "cell_type": "code",
   "execution_count": null,
   "id": "abb0fb80",
   "metadata": {},
   "outputs": [],
   "source": [
    "%pip install -q leafmap"
   ]
  },
  {
   "cell_type": "code",
   "execution_count": null,
   "id": "a55c152f",
   "metadata": {},
   "outputs": [],
   "source": [
    "import leafmap.plotlymap as leafmap"
   ]
  },
  {
   "cell_type": "markdown",
   "id": "cbc8f02c",
   "metadata": {},
   "source": [
    "If you run into an error saying \"FigureWidget - 'mapbox._derived' Value Error\" ([source](https://github.com/plotly/plotly.py/issues/2570#issuecomment-738735816)), uncomment the following line and run it."
   ]
  },
  {
   "cell_type": "code",
   "execution_count": null,
   "id": "42c0b5f7",
   "metadata": {},
   "outputs": [],
   "source": [
    "# leafmap.fix_widget_error()"
   ]
  },
  {
   "cell_type": "markdown",
   "id": "600b609a",
   "metadata": {},
   "source": [
    "Create an interactive map using default settings."
   ]
  },
  {
   "cell_type": "code",
   "execution_count": null,
   "id": "0100091e",
   "metadata": {},
   "outputs": [],
   "source": [
    "m = leafmap.Map()\n",
    "m"
   ]
  },
  {
   "cell_type": "markdown",
   "id": "7145f887",
   "metadata": {},
   "source": [
    "Change default setting when creating a map. \n",
    "\n",
    " Can be one of string from \"open-street-map\", \"carto-positron\", \"carto-darkmatter\", \"stamen-terrain\", \"stamen-toner\" or \"stamen-watercolor\" ."
   ]
  },
  {
   "cell_type": "code",
   "execution_count": null,
   "id": "17d09f99",
   "metadata": {},
   "outputs": [],
   "source": [
    "m = leafmap.Map(center=(40, -100), zoom=3, basemap=\"stamen-terrain\", height=500)\n",
    "m"
   ]
  },
  {
   "cell_type": "markdown",
   "id": "4dae62d8",
   "metadata": {},
   "source": [
    "Set map center and zoom level."
   ]
  },
  {
   "cell_type": "code",
   "execution_count": null,
   "id": "7540555d",
   "metadata": {},
   "outputs": [],
   "source": [
    "m = leafmap.Map(basemap=\"stamen-watercolor\")\n",
    "m.set_center(lat=20, lon=0, zoom=2)\n",
    "m"
   ]
  },
  {
   "cell_type": "markdown",
   "id": "97553c2b",
   "metadata": {},
   "source": [
    "Print out available basemaps."
   ]
  },
  {
   "cell_type": "code",
   "execution_count": null,
   "id": "b0771acf",
   "metadata": {},
   "outputs": [],
   "source": [
    "leafmap.basemaps.keys()"
   ]
  },
  {
   "cell_type": "markdown",
   "id": "c836ecbc",
   "metadata": {},
   "source": [
    "Add a basemap."
   ]
  },
  {
   "cell_type": "code",
   "execution_count": null,
   "id": "0421f7fd",
   "metadata": {},
   "outputs": [],
   "source": [
    "m = leafmap.Map()\n",
    "m.add_basemap(\"OpenTopoMap\")\n",
    "m"
   ]
  },
  {
   "cell_type": "markdown",
   "id": "3bb3c371",
   "metadata": {},
   "source": [
    "Add XYZ tile layer."
   ]
  },
  {
   "cell_type": "code",
   "execution_count": null,
   "id": "c4da5531",
   "metadata": {},
   "outputs": [],
   "source": [
    "m = leafmap.Map()\n",
    "tile_url = \"https://mt1.google.com/vt/lyrs=y&x={x}&y={y}&z={z}\"\n",
    "m.add_tile_layer(tile_url, name=\"Google Satellite\", attribution=\"Google\", opacity=1.0)\n",
    "m"
   ]
  },
  {
   "cell_type": "markdown",
   "id": "d6e15ee9",
   "metadata": {},
   "source": [
    "Add a mapbox tile layer. You will need a mapbox token. The map style can be Can be \"basic\", \"streets\", \"outdoors\", \"light\", \"dark\", \"satellite\", or \"satellite-streets\"."
   ]
  },
  {
   "cell_type": "code",
   "execution_count": null,
   "id": "d1bdf530",
   "metadata": {},
   "outputs": [],
   "source": [
    "import os"
   ]
  },
  {
   "cell_type": "code",
   "execution_count": null,
   "id": "0b5f11f8",
   "metadata": {},
   "outputs": [],
   "source": [
    "# os.environ[\"MAPBOX_TOKEN\"] = \"your-mapbox-token\""
   ]
  },
  {
   "cell_type": "code",
   "execution_count": null,
   "id": "e4b5981b",
   "metadata": {},
   "outputs": [],
   "source": [
    "m = leafmap.Map()\n",
    "m.add_mapbox_layer(style=\"streets\")\n",
    "m"
   ]
  },
  {
   "cell_type": "markdown",
   "id": "3325ba52",
   "metadata": {},
   "source": [
    "Remove the modebar in the upper-right corner."
   ]
  },
  {
   "cell_type": "code",
   "execution_count": null,
   "id": "0bf9ee73",
   "metadata": {},
   "outputs": [],
   "source": [
    "m = leafmap.Map(basemap=\"stamen-toner\")\n",
    "m"
   ]
  },
  {
   "cell_type": "code",
   "execution_count": null,
   "id": "64cf04d8",
   "metadata": {},
   "outputs": [],
   "source": [
    "m.clear_controls()"
   ]
  },
  {
   "cell_type": "markdown",
   "id": "0a816269",
   "metadata": {},
   "source": [
    "Add more buttons to the modebar."
   ]
  },
  {
   "cell_type": "code",
   "execution_count": null,
   "id": "680bbdac",
   "metadata": {},
   "outputs": [],
   "source": [
    "m = leafmap.Map(basemap=\"carto-positron\")\n",
    "controls = [\n",
    "    'drawline',\n",
    "    'drawopenpath',\n",
    "    'drawclosedpath',\n",
    "    'drawcircle',\n",
    "    'drawrect',\n",
    "    'eraseshape',\n",
    "]\n",
    "m.add_controls(controls)\n",
    "m"
   ]
  },
  {
   "cell_type": "markdown",
   "id": "c18e7e98",
   "metadata": {},
   "source": [
    "Add Cloud Optimized GeoTIFF."
   ]
  },
  {
   "cell_type": "code",
   "execution_count": null,
   "id": "0e456437",
   "metadata": {},
   "outputs": [],
   "source": [
    "m = leafmap.Map()\n",
    "url = 'https://opendata.digitalglobe.com/events/california-fire-2020/pre-event/2018-02-16/pine-gulch-fire20/1030010076004E00.tif'\n",
    "m.add_cog_layer(url, name=\"Fire (pre-event)\")\n",
    "m"
   ]
  },
  {
   "cell_type": "markdown",
   "id": "cdaf2c4a",
   "metadata": {},
   "source": [
    "Add a STAC item via HTTP URL."
   ]
  },
  {
   "cell_type": "code",
   "execution_count": null,
   "id": "68f1ce81",
   "metadata": {},
   "outputs": [],
   "source": [
    "m = leafmap.Map()\n",
    "url = 'https://canada-spot-ortho.s3.amazonaws.com/canada_spot_orthoimages/canada_spot5_orthoimages/S5_2007/S5_11055_6057_20070622/S5_11055_6057_20070622.json'\n",
    "m.add_stac_layer(url, bands=['B3', 'B2', 'B1'], name='False color')\n",
    "m"
   ]
  },
  {
   "cell_type": "markdown",
   "id": "aa9938ee",
   "metadata": {},
   "source": [
    "Add a STAC item from Microsoft Planetary Computer."
   ]
  },
  {
   "cell_type": "code",
   "execution_count": null,
   "id": "f7d06145",
   "metadata": {},
   "outputs": [],
   "source": [
    "collection = \"landsat-8-c2-l2\"\n",
    "item = \"LC08_L2SP_047027_20201204_02_T1\""
   ]
  },
  {
   "cell_type": "code",
   "execution_count": null,
   "id": "a65cbcdd",
   "metadata": {},
   "outputs": [],
   "source": [
    "m = leafmap.Map()\n",
    "m.add_stac_layer(\n",
    "    collection=collection,\n",
    "    item=item,\n",
    "    bands=[\"SR_B7\", \"SR_B5\", \"SR_B4\"],\n",
    "    titiler_endpoint=\"pc\",\n",
    ")\n",
    "m"
   ]
  },
  {
   "cell_type": "markdown",
   "id": "02326fcf",
   "metadata": {},
   "source": [
    "Add a heat map."
   ]
  },
  {
   "cell_type": "code",
   "execution_count": null,
   "id": "48f9f73d",
   "metadata": {},
   "outputs": [],
   "source": [
    "url = 'https://raw.githubusercontent.com/plotly/datasets/master/earthquakes-23k.csv'"
   ]
  },
  {
   "cell_type": "code",
   "execution_count": null,
   "id": "6043c074",
   "metadata": {},
   "outputs": [],
   "source": [
    "m = leafmap.Map(basemap=\"stamen-terrain\")\n",
    "m.add_heatmap(\n",
    "    url, latitude=\"Latitude\", longitude=\"Longitude\", z=\"Magnitude\", name=\"Earthquake\"\n",
    ")\n",
    "m"
   ]
  },
  {
   "cell_type": "markdown",
   "id": "8f77e5a6",
   "metadata": {},
   "source": [
    "Add a choropleth map."
   ]
  },
  {
   "cell_type": "code",
   "execution_count": null,
   "id": "6db270ff",
   "metadata": {},
   "outputs": [],
   "source": [
    "url = \"https://raw.githubusercontent.com/giswqs/leafmap/master/examples/data/countries.geojson\""
   ]
  },
  {
   "cell_type": "code",
   "execution_count": null,
   "id": "437ca4da",
   "metadata": {},
   "outputs": [],
   "source": [
    "m = leafmap.Map(basemap=\"stamen-terrain\")\n",
    "m.add_choropleth_map(url, name=\"Pop\", z=\"POP_EST\", colorscale=\"Viridis\")\n",
    "m"
   ]
  }
 ],
 "metadata": {
  "kernelspec": {
   "display_name": "Python (Pyodide)",
   "language": "python",
   "name": "python"
  }
 },
 "nbformat": 4,
 "nbformat_minor": 5
}
