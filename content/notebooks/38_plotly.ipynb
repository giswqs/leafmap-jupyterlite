{
 "cells": [
  {
   "cell_type": "markdown",
   "id": "e4bd3265",
   "metadata": {},
   "source": [
    "[![image](https://jupyterlite.rtfd.io/en/latest/_static/badge.svg)](https://demo.leafmap.org/lab/index.html?path=notebooks/38_plotly.ipynb)\n",
    "[![image](https://colab.research.google.com/assets/colab-badge.svg)](https://githubtocolab.com/giswqs/leafmap/blob/master/examples/notebooks/38_plotly.ipynb)\n",
    "[![image](https://mybinder.org/badge_logo.svg)](https://gishub.org/leafmap-binder)"
   ]
  },
  {
   "cell_type": "code",
   "execution_count": null,
   "id": "6f9ba3bd",
   "metadata": {},
   "outputs": [],
   "source": [
    "%pip install -q leafmap"
   ]
  },
  {
   "cell_type": "code",
   "execution_count": null,
   "id": "0fe23750",
   "metadata": {},
   "outputs": [],
   "source": [
    "import leafmap.plotlymap as leafmap"
   ]
  },
  {
   "cell_type": "markdown",
   "id": "2b95ce0b",
   "metadata": {},
   "source": [
    "If you run into an error saying \"FigureWidget - 'mapbox._derived' Value Error\" ([source](https://github.com/plotly/plotly.py/issues/2570#issuecomment-738735816)), uncomment the following line and run it."
   ]
  },
  {
   "cell_type": "code",
   "execution_count": null,
   "id": "c1e38f34",
   "metadata": {},
   "outputs": [],
   "source": [
    "# leafmap.fix_widget_error()"
   ]
  },
  {
   "cell_type": "markdown",
   "id": "12a33235",
   "metadata": {},
   "source": [
    "Create an interactive map using default settings."
   ]
  },
  {
   "cell_type": "code",
   "execution_count": null,
   "id": "f69ca210",
   "metadata": {},
   "outputs": [],
   "source": [
    "m = leafmap.Map()\n",
    "m"
   ]
  },
  {
   "cell_type": "markdown",
   "id": "29034b31",
   "metadata": {},
   "source": [
    "Change default setting when creating a map. \n",
    "\n",
    " Can be one of string from \"open-street-map\", \"carto-positron\", \"carto-darkmatter\", \"stamen-terrain\", \"stamen-toner\" or \"stamen-watercolor\" ."
   ]
  },
  {
   "cell_type": "code",
   "execution_count": null,
   "id": "23e5cae6",
   "metadata": {},
   "outputs": [],
   "source": [
    "m = leafmap.Map(center=(40, -100), zoom=3, basemap=\"stamen-terrain\", height=500)\n",
    "m"
   ]
  },
  {
   "cell_type": "markdown",
   "id": "9a15b356",
   "metadata": {},
   "source": [
    "Set map center and zoom level."
   ]
  },
  {
   "cell_type": "code",
   "execution_count": null,
   "id": "115693bc",
   "metadata": {},
   "outputs": [],
   "source": [
    "m = leafmap.Map(basemap=\"stamen-watercolor\")\n",
    "m.set_center(lat=20, lon=0, zoom=2)\n",
    "m"
   ]
  },
  {
   "cell_type": "markdown",
   "id": "535b086a",
   "metadata": {},
   "source": [
    "Print out available basemaps."
   ]
  },
  {
   "cell_type": "code",
   "execution_count": null,
   "id": "dd5ab7ad",
   "metadata": {},
   "outputs": [],
   "source": [
    "leafmap.basemaps.keys()"
   ]
  },
  {
   "cell_type": "markdown",
   "id": "a1fb8de5",
   "metadata": {},
   "source": [
    "Add a basemap."
   ]
  },
  {
   "cell_type": "code",
   "execution_count": null,
   "id": "b5c8a0d9",
   "metadata": {},
   "outputs": [],
   "source": [
    "m = leafmap.Map()\n",
    "m.add_basemap(\"OpenTopoMap\")\n",
    "m"
   ]
  },
  {
   "cell_type": "markdown",
   "id": "b6e288b9",
   "metadata": {},
   "source": [
    "Add XYZ tile layer."
   ]
  },
  {
   "cell_type": "code",
   "execution_count": null,
   "id": "419f9bfe",
   "metadata": {},
   "outputs": [],
   "source": [
    "m = leafmap.Map()\n",
    "tile_url = \"https://mt1.google.com/vt/lyrs=y&x={x}&y={y}&z={z}\"\n",
    "m.add_tile_layer(tile_url, name=\"Google Satellite\", attribution=\"Google\", opacity=1.0)\n",
    "m"
   ]
  },
  {
   "cell_type": "markdown",
   "id": "8f98bf8a",
   "metadata": {},
   "source": [
    "Add a mapbox tile layer. You will need a mapbox token. The map style can be Can be \"basic\", \"streets\", \"outdoors\", \"light\", \"dark\", \"satellite\", or \"satellite-streets\"."
   ]
  },
  {
   "cell_type": "code",
   "execution_count": null,
   "id": "1840707d",
   "metadata": {},
   "outputs": [],
   "source": [
    "import os"
   ]
  },
  {
   "cell_type": "code",
   "execution_count": null,
   "id": "77afa2e6",
   "metadata": {},
   "outputs": [],
   "source": [
    "# os.environ[\"MAPBOX_TOKEN\"] = \"your-mapbox-token\""
   ]
  },
  {
   "cell_type": "code",
   "execution_count": null,
   "id": "8b754877",
   "metadata": {},
   "outputs": [],
   "source": [
    "m = leafmap.Map()\n",
    "m.add_mapbox_layer(style=\"streets\")\n",
    "m"
   ]
  },
  {
   "cell_type": "markdown",
   "id": "d876b5c2",
   "metadata": {},
   "source": [
    "Remove the modebar in the upper-right corner."
   ]
  },
  {
   "cell_type": "code",
   "execution_count": null,
   "id": "edc91e22",
   "metadata": {},
   "outputs": [],
   "source": [
    "m = leafmap.Map(basemap=\"stamen-toner\")\n",
    "m"
   ]
  },
  {
   "cell_type": "code",
   "execution_count": null,
   "id": "c9d6a482",
   "metadata": {},
   "outputs": [],
   "source": [
    "m.clear_controls()"
   ]
  },
  {
   "cell_type": "markdown",
   "id": "7cba7e1e",
   "metadata": {},
   "source": [
    "Add more buttons to the modebar."
   ]
  },
  {
   "cell_type": "code",
   "execution_count": null,
   "id": "4dd2aab9",
   "metadata": {},
   "outputs": [],
   "source": [
    "m = leafmap.Map(basemap=\"carto-positron\")\n",
    "controls = [\n",
    "    'drawline',\n",
    "    'drawopenpath',\n",
    "    'drawclosedpath',\n",
    "    'drawcircle',\n",
    "    'drawrect',\n",
    "    'eraseshape',\n",
    "]\n",
    "m.add_controls(controls)\n",
    "m"
   ]
  },
  {
   "cell_type": "markdown",
   "id": "4c82be63",
   "metadata": {},
   "source": [
    "Add Cloud Optimized GeoTIFF."
   ]
  },
  {
   "cell_type": "code",
   "execution_count": null,
   "id": "0b437dc7",
   "metadata": {},
   "outputs": [],
   "source": [
    "m = leafmap.Map()\n",
    "url = 'https://opendata.digitalglobe.com/events/california-fire-2020/pre-event/2018-02-16/pine-gulch-fire20/1030010076004E00.tif'\n",
    "m.add_cog_layer(url, name=\"Fire (pre-event)\")\n",
    "m"
   ]
  },
  {
   "cell_type": "markdown",
   "id": "c4fa3c02",
   "metadata": {},
   "source": [
    "Add a STAC item via HTTP URL."
   ]
  },
  {
   "cell_type": "code",
   "execution_count": null,
   "id": "aa6c77a4",
   "metadata": {},
   "outputs": [],
   "source": [
    "m = leafmap.Map()\n",
    "url = 'https://canada-spot-ortho.s3.amazonaws.com/canada_spot_orthoimages/canada_spot5_orthoimages/S5_2007/S5_11055_6057_20070622/S5_11055_6057_20070622.json'\n",
    "m.add_stac_layer(url, bands=['B3', 'B2', 'B1'], name='False color')\n",
    "m"
   ]
  },
  {
   "cell_type": "markdown",
   "id": "cdd57b58",
   "metadata": {},
   "source": [
    "Add a STAC item from Microsoft Planetary Computer."
   ]
  },
  {
   "cell_type": "code",
   "execution_count": null,
   "id": "affc0ee2",
   "metadata": {},
   "outputs": [],
   "source": [
    "collection = \"landsat-8-c2-l2\"\n",
    "item = \"LC08_L2SP_047027_20201204_02_T1\""
   ]
  },
  {
   "cell_type": "code",
   "execution_count": null,
   "id": "ec385474",
   "metadata": {},
   "outputs": [],
   "source": [
    "m = leafmap.Map()\n",
    "m.add_stac_layer(\n",
    "    collection=collection,\n",
    "    item=item,\n",
    "    bands=[\"SR_B7\", \"SR_B5\", \"SR_B4\"],\n",
    "    titiler_endpoint=\"pc\",\n",
    ")\n",
    "m"
   ]
  },
  {
   "cell_type": "markdown",
   "id": "c5ddf6de",
   "metadata": {},
   "source": [
    "Add a heat map."
   ]
  },
  {
   "cell_type": "code",
   "execution_count": null,
   "id": "77cf8075",
   "metadata": {},
   "outputs": [],
   "source": [
    "url = 'https://raw.githubusercontent.com/plotly/datasets/master/earthquakes-23k.csv'"
   ]
  },
  {
   "cell_type": "code",
   "execution_count": null,
   "id": "0e0e2431",
   "metadata": {},
   "outputs": [],
   "source": [
    "m = leafmap.Map(basemap=\"stamen-terrain\")\n",
    "m.add_heatmap(\n",
    "    url, latitude=\"Latitude\", longitude=\"Longitude\", z=\"Magnitude\", name=\"Earthquake\"\n",
    ")\n",
    "m"
   ]
  },
  {
   "cell_type": "markdown",
   "id": "9e7db7f0",
   "metadata": {},
   "source": [
    "Add a choropleth map."
   ]
  },
  {
   "cell_type": "code",
   "execution_count": null,
   "id": "865de96d",
   "metadata": {},
   "outputs": [],
   "source": [
    "url = \"https://raw.githubusercontent.com/giswqs/leafmap/master/examples/data/countries.geojson\""
   ]
  },
  {
   "cell_type": "code",
   "execution_count": null,
   "id": "af849b69",
   "metadata": {},
   "outputs": [],
   "source": [
    "m = leafmap.Map(basemap=\"stamen-terrain\")\n",
    "m.add_choropleth_map(url, name=\"Pop\", z=\"POP_EST\", colorscale=\"Viridis\")\n",
    "m"
   ]
  }
 ],
 "metadata": {
  "kernelspec": {
   "display_name": "Python (Pyodide)",
   "language": "python",
   "name": "python3"
  }
 },
 "nbformat": 4,
 "nbformat_minor": 5
}
