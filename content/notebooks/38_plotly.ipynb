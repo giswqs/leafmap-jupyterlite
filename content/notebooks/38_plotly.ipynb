{
 "cells": [
  {
   "cell_type": "markdown",
   "id": "36f3b629",
   "metadata": {},
   "source": [
    "[![image](https://jupyterlite.rtfd.io/en/latest/_static/badge.svg)](https://demo.leafmap.org/lab/index.html?path=notebooks/38_plotly.ipynb)\n",
    "[![image](https://colab.research.google.com/assets/colab-badge.svg)](https://githubtocolab.com/giswqs/leafmap/blob/master/examples/notebooks/38_plotly.ipynb)\n",
    "[![image](https://mybinder.org/badge_logo.svg)](https://gishub.org/leafmap-binder)"
   ]
  },
  {
   "cell_type": "code",
   "execution_count": null,
   "id": "7a10a6aa",
   "metadata": {},
   "outputs": [],
   "source": [
    "%pip install -q leafmap"
   ]
  },
  {
   "cell_type": "code",
   "execution_count": null,
   "id": "e4049449",
   "metadata": {},
   "outputs": [],
   "source": [
    "import leafmap.plotlymap as leafmap"
   ]
  },
  {
   "cell_type": "markdown",
   "id": "ace736f9",
   "metadata": {},
   "source": [
    "If you run into an error saying \"FigureWidget - 'mapbox._derived' Value Error\" ([source](https://github.com/plotly/plotly.py/issues/2570#issuecomment-738735816)), uncomment the following line and run it."
   ]
  },
  {
   "cell_type": "code",
   "execution_count": null,
   "id": "98f0cfa9",
   "metadata": {},
   "outputs": [],
   "source": [
    "# leafmap.fix_widget_error()"
   ]
  },
  {
   "cell_type": "markdown",
   "id": "b48b4388",
   "metadata": {},
   "source": [
    "Create an interactive map using default settings."
   ]
  },
  {
   "cell_type": "code",
   "execution_count": null,
   "id": "e4e9c591",
   "metadata": {},
   "outputs": [],
   "source": [
    "m = leafmap.Map()\n",
    "m"
   ]
  },
  {
   "cell_type": "markdown",
   "id": "a9ec678a",
   "metadata": {},
   "source": [
    "Change default setting when creating a map. \n",
    "\n",
    " Can be one of string from \"open-street-map\", \"carto-positron\", \"carto-darkmatter\", \"stamen-terrain\", \"stamen-toner\" or \"stamen-watercolor\" ."
   ]
  },
  {
   "cell_type": "code",
   "execution_count": null,
   "id": "75a13e2e",
   "metadata": {},
   "outputs": [],
   "source": [
    "m = leafmap.Map(center=(40, -100), zoom=3, basemap=\"stamen-terrain\", height=500)\n",
    "m"
   ]
  },
  {
   "cell_type": "markdown",
   "id": "9925045a",
   "metadata": {},
   "source": [
    "Set map center and zoom level."
   ]
  },
  {
   "cell_type": "code",
   "execution_count": null,
   "id": "3c60165e",
   "metadata": {},
   "outputs": [],
   "source": [
    "m = leafmap.Map(basemap=\"stamen-watercolor\")\n",
    "m.set_center(lat=20, lon=0, zoom=2)\n",
    "m"
   ]
  },
  {
   "cell_type": "markdown",
   "id": "6bbac979",
   "metadata": {},
   "source": [
    "Print out available basemaps."
   ]
  },
  {
   "cell_type": "code",
   "execution_count": null,
   "id": "dd9ac4ef",
   "metadata": {},
   "outputs": [],
   "source": [
    "leafmap.basemaps.keys()"
   ]
  },
  {
   "cell_type": "markdown",
   "id": "fb6836eb",
   "metadata": {},
   "source": [
    "Add a basemap."
   ]
  },
  {
   "cell_type": "code",
   "execution_count": null,
   "id": "8e942a72",
   "metadata": {},
   "outputs": [],
   "source": [
    "m = leafmap.Map()\n",
    "m.add_basemap(\"OpenTopoMap\")\n",
    "m"
   ]
  },
  {
   "cell_type": "markdown",
   "id": "1d2d11ee",
   "metadata": {},
   "source": [
    "Add XYZ tile layer."
   ]
  },
  {
   "cell_type": "code",
   "execution_count": null,
   "id": "77c16a9f",
   "metadata": {},
   "outputs": [],
   "source": [
    "m = leafmap.Map()\n",
    "tile_url = \"https://mt1.google.com/vt/lyrs=y&x={x}&y={y}&z={z}\"\n",
    "m.add_tile_layer(tile_url, name=\"Google Satellite\", attribution=\"Google\", opacity=1.0)\n",
    "m"
   ]
  },
  {
   "cell_type": "markdown",
   "id": "c6ef47c6",
   "metadata": {},
   "source": [
    "Add a mapbox tile layer. You will need a mapbox token. The map style can be Can be \"basic\", \"streets\", \"outdoors\", \"light\", \"dark\", \"satellite\", or \"satellite-streets\"."
   ]
  },
  {
   "cell_type": "code",
   "execution_count": null,
   "id": "39ca4235",
   "metadata": {},
   "outputs": [],
   "source": [
    "import os"
   ]
  },
  {
   "cell_type": "code",
   "execution_count": null,
   "id": "184fc87b",
   "metadata": {},
   "outputs": [],
   "source": [
    "# os.environ[\"MAPBOX_TOKEN\"] = \"your-mapbox-token\""
   ]
  },
  {
   "cell_type": "code",
   "execution_count": null,
   "id": "94aeee96",
   "metadata": {},
   "outputs": [],
   "source": [
    "m = leafmap.Map()\n",
    "m.add_mapbox_layer(style=\"streets\")\n",
    "m"
   ]
  },
  {
   "cell_type": "markdown",
   "id": "ee4ae608",
   "metadata": {},
   "source": [
    "Remove the modebar in the upper-right corner."
   ]
  },
  {
   "cell_type": "code",
   "execution_count": null,
   "id": "b3a22465",
   "metadata": {},
   "outputs": [],
   "source": [
    "m = leafmap.Map(basemap=\"stamen-toner\")\n",
    "m"
   ]
  },
  {
   "cell_type": "code",
   "execution_count": null,
   "id": "6f19984c",
   "metadata": {},
   "outputs": [],
   "source": [
    "m.clear_controls()"
   ]
  },
  {
   "cell_type": "markdown",
   "id": "a4a5f9fb",
   "metadata": {},
   "source": [
    "Add more buttons to the modebar."
   ]
  },
  {
   "cell_type": "code",
   "execution_count": null,
   "id": "6c74c501",
   "metadata": {},
   "outputs": [],
   "source": [
    "m = leafmap.Map(basemap=\"carto-positron\")\n",
    "controls = [\n",
    "    'drawline',\n",
    "    'drawopenpath',\n",
    "    'drawclosedpath',\n",
    "    'drawcircle',\n",
    "    'drawrect',\n",
    "    'eraseshape',\n",
    "]\n",
    "m.add_controls(controls)\n",
    "m"
   ]
  },
  {
   "cell_type": "markdown",
   "id": "885fb5fa",
   "metadata": {},
   "source": [
    "Add Cloud Optimized GeoTIFF."
   ]
  },
  {
   "cell_type": "code",
   "execution_count": null,
   "id": "f4705122",
   "metadata": {},
   "outputs": [],
   "source": [
    "m = leafmap.Map()\n",
    "url = 'https://opendata.digitalglobe.com/events/california-fire-2020/pre-event/2018-02-16/pine-gulch-fire20/1030010076004E00.tif'\n",
    "m.add_cog_layer(url, name=\"Fire (pre-event)\")\n",
    "m"
   ]
  },
  {
   "cell_type": "markdown",
   "id": "04fafc05",
   "metadata": {},
   "source": [
    "Add a STAC item via HTTP URL."
   ]
  },
  {
   "cell_type": "code",
   "execution_count": null,
   "id": "1bbe4738",
   "metadata": {},
   "outputs": [],
   "source": [
    "m = leafmap.Map()\n",
    "url = 'https://canada-spot-ortho.s3.amazonaws.com/canada_spot_orthoimages/canada_spot5_orthoimages/S5_2007/S5_11055_6057_20070622/S5_11055_6057_20070622.json'\n",
    "m.add_stac_layer(url, bands=['B3', 'B2', 'B1'], name='False color')\n",
    "m"
   ]
  },
  {
   "cell_type": "markdown",
   "id": "b9c74377",
   "metadata": {},
   "source": [
    "Add a STAC item from Microsoft Planetary Computer."
   ]
  },
  {
   "cell_type": "code",
   "execution_count": null,
   "id": "79d54f48",
   "metadata": {},
   "outputs": [],
   "source": [
    "collection = \"landsat-8-c2-l2\"\n",
    "item = \"LC08_L2SP_047027_20201204_02_T1\""
   ]
  },
  {
   "cell_type": "code",
   "execution_count": null,
   "id": "a8212a40",
   "metadata": {},
   "outputs": [],
   "source": [
    "m = leafmap.Map()\n",
    "m.add_stac_layer(\n",
    "    collection=collection,\n",
    "    item=item,\n",
    "    bands=[\"SR_B7\", \"SR_B5\", \"SR_B4\"],\n",
    "    titiler_endpoint=\"pc\",\n",
    ")\n",
    "m"
   ]
  },
  {
   "cell_type": "markdown",
   "id": "a4856105",
   "metadata": {},
   "source": [
    "Add a heat map."
   ]
  },
  {
   "cell_type": "code",
   "execution_count": null,
   "id": "3fae8c42",
   "metadata": {},
   "outputs": [],
   "source": [
    "url = 'https://raw.githubusercontent.com/plotly/datasets/master/earthquakes-23k.csv'"
   ]
  },
  {
   "cell_type": "code",
   "execution_count": null,
   "id": "5d4bca6b",
   "metadata": {},
   "outputs": [],
   "source": [
    "m = leafmap.Map(basemap=\"stamen-terrain\")\n",
    "m.add_heatmap(\n",
    "    url, latitude=\"Latitude\", longitude=\"Longitude\", z=\"Magnitude\", name=\"Earthquake\"\n",
    ")\n",
    "m"
   ]
  },
  {
   "cell_type": "markdown",
   "id": "b164dab7",
   "metadata": {},
   "source": [
    "Add a choropleth map."
   ]
  },
  {
   "cell_type": "code",
   "execution_count": null,
   "id": "f5d6244f",
   "metadata": {},
   "outputs": [],
   "source": [
    "url = \"https://raw.githubusercontent.com/giswqs/leafmap/master/examples/data/countries.geojson\""
   ]
  },
  {
   "cell_type": "code",
   "execution_count": null,
   "id": "ced5b365",
   "metadata": {},
   "outputs": [],
   "source": [
    "m = leafmap.Map(basemap=\"stamen-terrain\")\n",
    "m.add_choropleth_map(url, name=\"Pop\", z=\"POP_EST\", colorscale=\"Viridis\")\n",
    "m"
   ]
  }
 ],
 "metadata": {
  "kernelspec": {
   "display_name": "Python 3",
   "language": "python",
   "name": "python3"
  }
 },
 "nbformat": 4,
 "nbformat_minor": 5
}
