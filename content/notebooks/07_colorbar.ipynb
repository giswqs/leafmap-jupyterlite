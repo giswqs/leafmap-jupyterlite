{
 "cells": [
  {
   "cell_type": "markdown",
   "id": "8a9bebba",
   "metadata": {},
   "source": [
    "[![image](https://jupyterlite.rtfd.io/en/latest/_static/badge.svg)](https://demo.leafmap.org/lab/index.html?path=notebooks/07_colorbar.ipynb)\n",
    "[![image](https://colab.research.google.com/assets/colab-badge.svg)](https://githubtocolab.com/giswqs/leafmap/blob/master/examples/notebooks/07_colorbar.ipynb)\n",
    "[![image](https://mybinder.org/badge_logo.svg)](https://gishub.org/leafmap-binder)\n",
    "\n",
    "**Adding custom colorbars to the map**"
   ]
  },
  {
   "cell_type": "code",
   "execution_count": null,
   "id": "45e65700",
   "metadata": {},
   "outputs": [],
   "source": [
    "%pip install -q leafmap"
   ]
  },
  {
   "cell_type": "markdown",
   "id": "125fa661",
   "metadata": {},
   "source": [
    "**Continuous colorbar**"
   ]
  },
  {
   "cell_type": "code",
   "execution_count": null,
   "id": "00424a95",
   "metadata": {},
   "outputs": [],
   "source": [
    "import leafmap"
   ]
  },
  {
   "cell_type": "markdown",
   "id": "30e0ce3f",
   "metadata": {},
   "source": [
    "Add a WMS layer to the map"
   ]
  },
  {
   "cell_type": "code",
   "execution_count": null,
   "id": "44e9ce30",
   "metadata": {},
   "outputs": [],
   "source": [
    "Map = leafmap.Map()\n",
    "\n",
    "url = \"https://elevation.nationalmap.gov/arcgis/services/3DEPElevation/ImageServer/WMSServer?\"\n",
    "Map.add_wms_layer(\n",
    "    url,\n",
    "    layers=\"3DEPElevation:Hillshade Elevation Tinted\",\n",
    "    name=\"USGS 3DEP Elevation\",\n",
    "    format=\"image/png\",\n",
    "    transparent=True,\n",
    ")"
   ]
  },
  {
   "cell_type": "markdown",
   "id": "194991f3",
   "metadata": {},
   "source": [
    "Add a continuous colorbar with a custom palette to the map."
   ]
  },
  {
   "cell_type": "code",
   "execution_count": null,
   "id": "dbaffd8a",
   "metadata": {},
   "outputs": [],
   "source": [
    "colors = ['006633', 'E5FFCC', '662A00', 'D8D8D8', 'F5F5F5']\n",
    "vmin = 0\n",
    "vmax = 4000\n",
    "\n",
    "Map.add_colorbar(colors=colors, vmin=vmin, vmax=vmax)\n",
    "\n",
    "Map"
   ]
  },
  {
   "cell_type": "markdown",
   "id": "70bb4577",
   "metadata": {},
   "source": [
    "**Categorical colorbar**\n",
    "\n",
    "Add a WMS layer to the map"
   ]
  },
  {
   "cell_type": "code",
   "execution_count": null,
   "id": "dae4a86e",
   "metadata": {},
   "outputs": [],
   "source": [
    "Map = leafmap.Map()\n",
    "\n",
    "url = \"https://elevation.nationalmap.gov/arcgis/services/3DEPElevation/ImageServer/WMSServer?\"\n",
    "Map.add_wms_layer(\n",
    "    url,\n",
    "    layers=\"3DEPElevation:Hillshade Elevation Tinted\",\n",
    "    name=\"USGS 3DEP Elevation\",\n",
    "    format=\"image/png\",\n",
    "    transparent=True,\n",
    ")"
   ]
  },
  {
   "cell_type": "markdown",
   "id": "59bc9b05",
   "metadata": {},
   "source": [
    "Add a categorical colorbar with a custom palette to the map."
   ]
  },
  {
   "cell_type": "code",
   "execution_count": null,
   "id": "48f214a4",
   "metadata": {},
   "outputs": [],
   "source": [
    "colors = ['006633', 'E5FFCC', '662A00', 'D8D8D8', 'F5F5F5']\n",
    "vmin = 0\n",
    "vmax = 4000\n",
    "\n",
    "Map.add_colorbar(colors=colors, vmin=vmin, vmax=vmax, categorical=True, step=4)\n",
    "Map"
   ]
  }
 ],
 "metadata": {
  "kernelspec": {
   "display_name": "Python (Pyodide)",
   "language": "python",
   "name": "python3"
  }
 },
 "nbformat": 4,
 "nbformat_minor": 5
}
