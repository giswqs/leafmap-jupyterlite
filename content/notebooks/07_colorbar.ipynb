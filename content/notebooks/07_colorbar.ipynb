{
 "cells": [
  {
   "cell_type": "markdown",
   "id": "877773bf",
   "metadata": {},
   "source": [
    "[![image](https://jupyterlite.rtfd.io/en/latest/_static/badge.svg)](https://demo.leafmap.org/lab/index.html?path=notebooks/07_colorbar.ipynb)\n",
    "[![image](https://colab.research.google.com/assets/colab-badge.svg)](https://githubtocolab.com/giswqs/leafmap/blob/master/examples/notebooks/07_colorbar.ipynb)\n",
    "[![image](https://mybinder.org/badge_logo.svg)](https://gishub.org/leafmap-binder)\n",
    "\n",
    "**Adding custom colorbars to the map**"
   ]
  },
  {
   "cell_type": "code",
   "execution_count": null,
   "id": "e9395f35",
   "metadata": {},
   "outputs": [],
   "source": [
    "%pip install -q leafmap"
   ]
  },
  {
   "cell_type": "markdown",
   "id": "6d73cbfa",
   "metadata": {},
   "source": [
    "**Continuous colorbar**"
   ]
  },
  {
   "cell_type": "code",
   "execution_count": null,
   "id": "a4ccfb79",
   "metadata": {},
   "outputs": [],
   "source": [
    "import leafmap"
   ]
  },
  {
   "cell_type": "markdown",
   "id": "b7b35039",
   "metadata": {},
   "source": [
    "Add a WMS layer to the map"
   ]
  },
  {
   "cell_type": "code",
   "execution_count": null,
   "id": "5d251f97",
   "metadata": {},
   "outputs": [],
   "source": [
    "Map = leafmap.Map()\n",
    "\n",
    "url = \"https://elevation.nationalmap.gov/arcgis/services/3DEPElevation/ImageServer/WMSServer?\"\n",
    "Map.add_wms_layer(\n",
    "    url,\n",
    "    layers=\"3DEPElevation:Hillshade Elevation Tinted\",\n",
    "    name=\"USGS 3DEP Elevation\",\n",
    "    format=\"image/png\",\n",
    "    transparent=True,\n",
    ")"
   ]
  },
  {
   "cell_type": "markdown",
   "id": "422928e7",
   "metadata": {},
   "source": [
    "Add a continuous colorbar with a custom palette to the map."
   ]
  },
  {
   "cell_type": "code",
   "execution_count": null,
   "id": "b3a34622",
   "metadata": {},
   "outputs": [],
   "source": [
    "colors = ['006633', 'E5FFCC', '662A00', 'D8D8D8', 'F5F5F5']\n",
    "vmin = 0\n",
    "vmax = 4000\n",
    "\n",
    "Map.add_colorbar(colors=colors, vmin=vmin, vmax=vmax)\n",
    "\n",
    "Map"
   ]
  },
  {
   "cell_type": "markdown",
   "id": "073a7eaf",
   "metadata": {},
   "source": [
    "**Categorical colorbar**\n",
    "\n",
    "Add a WMS layer to the map"
   ]
  },
  {
   "cell_type": "code",
   "execution_count": null,
   "id": "cfe6742f",
   "metadata": {},
   "outputs": [],
   "source": [
    "Map = leafmap.Map()\n",
    "\n",
    "url = \"https://elevation.nationalmap.gov/arcgis/services/3DEPElevation/ImageServer/WMSServer?\"\n",
    "Map.add_wms_layer(\n",
    "    url,\n",
    "    layers=\"3DEPElevation:Hillshade Elevation Tinted\",\n",
    "    name=\"USGS 3DEP Elevation\",\n",
    "    format=\"image/png\",\n",
    "    transparent=True,\n",
    ")"
   ]
  },
  {
   "cell_type": "markdown",
   "id": "ba19c0d9",
   "metadata": {},
   "source": [
    "Add a categorical colorbar with a custom palette to the map."
   ]
  },
  {
   "cell_type": "code",
   "execution_count": null,
   "id": "1762a193",
   "metadata": {},
   "outputs": [],
   "source": [
    "colors = ['006633', 'E5FFCC', '662A00', 'D8D8D8', 'F5F5F5']\n",
    "vmin = 0\n",
    "vmax = 4000\n",
    "\n",
    "Map.add_colorbar(colors=colors, vmin=vmin, vmax=vmax, categorical=True, step=4)\n",
    "Map"
   ]
  }
 ],
 "metadata": {
  "kernelspec": {
   "display_name": "Python 3",
   "language": "python",
   "name": "python3"
  }
 },
 "nbformat": 4,
 "nbformat_minor": 5
}
