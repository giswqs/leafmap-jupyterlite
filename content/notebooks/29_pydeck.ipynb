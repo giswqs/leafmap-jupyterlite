{
 "cells": [
  {
   "cell_type": "markdown",
   "id": "22bb30b8",
   "metadata": {},
   "source": [
    "[![image](https://jupyterlite.rtfd.io/en/latest/_static/badge.svg)](https://demo.leafmap.org/lab/index.html?path=notebooks/29_pydeck.ipynb)\n",
    "[![image](https://colab.research.google.com/assets/colab-badge.svg)](https://githubtocolab.com/giswqs/leafmap/blob/master/examples/notebooks/29_pydeck.ipynb)\n",
    "[![image](https://mybinder.org/badge_logo.svg)](https://gishub.org/leafmap-binder)"
   ]
  },
  {
   "cell_type": "code",
   "execution_count": null,
   "id": "7c765de4",
   "metadata": {},
   "outputs": [],
   "source": [
    "%pip install -q leafmap"
   ]
  },
  {
   "cell_type": "code",
   "execution_count": null,
   "id": "f1c86a94",
   "metadata": {},
   "outputs": [],
   "source": [
    "import leafmap.deck as leafmap"
   ]
  },
  {
   "cell_type": "markdown",
   "id": "27ef1d82",
   "metadata": {},
   "source": [
    "Create an interactive map."
   ]
  },
  {
   "cell_type": "code",
   "execution_count": null,
   "id": "b9f45d21",
   "metadata": {},
   "outputs": [],
   "source": [
    "m = leafmap.Map(center=(40, -100), zoom=3)\n",
    "m"
   ]
  },
  {
   "cell_type": "markdown",
   "id": "df93adb9",
   "metadata": {},
   "source": [
    "Add basemap."
   ]
  },
  {
   "cell_type": "code",
   "execution_count": null,
   "id": "44e7dc6c",
   "metadata": {},
   "outputs": [],
   "source": [
    "m = leafmap.Map()\n",
    "m.add_basemap(\"HYBRID\")\n",
    "m"
   ]
  },
  {
   "cell_type": "markdown",
   "id": "633582ee",
   "metadata": {},
   "source": [
    "Add vector data to the map. It supports any GeoPandas supported format, such as GeoJSON, shapefile, KML."
   ]
  },
  {
   "cell_type": "code",
   "execution_count": null,
   "id": "6bde6d8a",
   "metadata": {},
   "outputs": [],
   "source": [
    "m = leafmap.Map()\n",
    "filename = (\n",
    "    \"https://github.com/giswqs/streamlit-geospatial/raw/master/data/us_states.geojson\"\n",
    ")\n",
    "m.add_vector(filename, random_color_column=\"STATEFP\")\n",
    "m"
   ]
  },
  {
   "cell_type": "markdown",
   "id": "d4884433",
   "metadata": {},
   "source": [
    "Add a GeoPandas GeoDataFrame to the map."
   ]
  },
  {
   "cell_type": "code",
   "execution_count": null,
   "id": "62cc9459",
   "metadata": {},
   "outputs": [],
   "source": [
    "import geopandas as gpd"
   ]
  },
  {
   "cell_type": "code",
   "execution_count": null,
   "id": "d8eea9b4",
   "metadata": {},
   "outputs": [],
   "source": [
    "url = (\n",
    "    \"https://github.com/giswqs/streamlit-geospatial/raw/master/data/us_counties.geojson\"\n",
    ")\n",
    "gdf = gpd.read_file(url)"
   ]
  },
  {
   "cell_type": "code",
   "execution_count": null,
   "id": "e4471d31",
   "metadata": {},
   "outputs": [],
   "source": [
    "m = leafmap.Map()\n",
    "m.add_gdf(gdf, random_color_column=\"STATEFP\")\n",
    "m"
   ]
  },
  {
   "cell_type": "markdown",
   "id": "56be0efa",
   "metadata": {},
   "source": [
    "Create a 3D view of the map. **Press Ctrl and hold down the left mouse button to rotate the 3D view.**"
   ]
  },
  {
   "cell_type": "code",
   "execution_count": null,
   "id": "4da4823a",
   "metadata": {},
   "outputs": [],
   "source": [
    "initial_view_state = {\n",
    "    \"latitude\": 40,\n",
    "    \"longitude\": -100,\n",
    "    \"zoom\": 3,\n",
    "    \"pitch\": 45,\n",
    "    \"bearing\": 10,\n",
    "}\n",
    "m = leafmap.Map(initial_view_state=initial_view_state)\n",
    "filename = (\n",
    "    \"https://github.com/giswqs/streamlit-geospatial/raw/master/data/us_states.geojson\"\n",
    ")\n",
    "m.add_vector(\n",
    "    filename,\n",
    "    random_color_column=\"STATEFP\",\n",
    "    extruded=True,\n",
    "    get_elevation=\"ALAND\",\n",
    "    elevation_scale=0.000001,\n",
    ")\n",
    "m"
   ]
  },
  {
   "cell_type": "markdown",
   "id": "49e0c0a5",
   "metadata": {},
   "source": [
    "![](https://i.imgur.com/LbCKhcM.gif)"
   ]
  }
 ],
 "metadata": {
  "kernelspec": {
   "display_name": "Python 3",
   "language": "python",
   "name": "python3"
  }
 },
 "nbformat": 4,
 "nbformat_minor": 5
}
