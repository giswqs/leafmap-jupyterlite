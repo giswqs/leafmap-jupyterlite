{
 "cells": [
  {
   "cell_type": "markdown",
   "id": "2127659d",
   "metadata": {},
   "source": [
    "[![image](https://jupyterlite.rtfd.io/en/latest/_static/badge.svg)](https://demo.leafmap.org/lab/index.html?path=notebooks/30_census_data.ipynb)\n",
    "[![image](https://colab.research.google.com/assets/colab-badge.svg)](https://githubtocolab.com/giswqs/leafmap/blob/master/examples/notebooks/30_census_data.ipynb)\n",
    "[![image](https://mybinder.org/badge_logo.svg)](https://gishub.org/leafmap-binder)"
   ]
  },
  {
   "cell_type": "code",
   "execution_count": null,
   "id": "a00dd20c",
   "metadata": {},
   "outputs": [],
   "source": [
    "%pip install -q leafmap"
   ]
  },
  {
   "cell_type": "code",
   "execution_count": null,
   "id": "8cbea6bf",
   "metadata": {},
   "outputs": [],
   "source": [
    "import leafmap"
   ]
  },
  {
   "cell_type": "markdown",
   "id": "ff14e73c",
   "metadata": {},
   "source": [
    "Get the Census data WMS tiles as a dictionary. More info can be found at https://tigerweb.geo.census.gov/tigerwebmain/TIGERweb_wms.html"
   ]
  },
  {
   "cell_type": "code",
   "execution_count": null,
   "id": "3e2af58b",
   "metadata": {},
   "outputs": [],
   "source": [
    "census_data_dict = leafmap.get_census_dict()"
   ]
  },
  {
   "cell_type": "markdown",
   "id": "2b835e13",
   "metadata": {},
   "source": [
    "Print out the list of US Census WMS."
   ]
  },
  {
   "cell_type": "code",
   "execution_count": null,
   "id": "1dac79c1",
   "metadata": {},
   "outputs": [],
   "source": [
    "for key in census_data_dict:\n",
    "    print(key)"
   ]
  },
  {
   "cell_type": "markdown",
   "id": "3c281a40",
   "metadata": {},
   "source": [
    "Get the list of layers for a WMS."
   ]
  },
  {
   "cell_type": "code",
   "execution_count": null,
   "id": "74bf5d00",
   "metadata": {},
   "outputs": [],
   "source": [
    "census_data_dict['Census 2020']['layers']"
   ]
  },
  {
   "cell_type": "markdown",
   "id": "fb5c00d1",
   "metadata": {},
   "source": [
    "Create an interactive map and add Census data layer to it. You might need to zoom in to see the data layer"
   ]
  },
  {
   "cell_type": "code",
   "execution_count": null,
   "id": "3f44e5a7",
   "metadata": {},
   "outputs": [],
   "source": [
    "m = leafmap.Map()\n",
    "m.add_census_data(wms=\"Census 2020\", layer=\"States\")\n",
    "m.add_census_data(wms=\"Census 2020\", layer=\"States_Labels49388\")\n",
    "m"
   ]
  },
  {
   "cell_type": "markdown",
   "id": "7a1f3de3",
   "metadata": {},
   "source": [
    "Alternatively, you can use the toolbar to load Census data interactively without coding.\n",
    "\n",
    "![](https://i.imgur.com/nww2R1l.gif)"
   ]
  }
 ],
 "metadata": {
  "kernelspec": {
   "display_name": "Python 3",
   "language": "python",
   "name": "python3"
  }
 },
 "nbformat": 4,
 "nbformat_minor": 5
}
