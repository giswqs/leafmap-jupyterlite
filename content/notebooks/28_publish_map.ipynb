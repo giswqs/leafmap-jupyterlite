{
 "cells": [
  {
   "cell_type": "markdown",
   "id": "7d3a958e",
   "metadata": {},
   "source": [
    "[![image](https://jupyterlite.rtfd.io/en/latest/_static/badge.svg)](https://demo.leafmap.org/lab/index.html?path=notebooks/28_publish_map.ipynb)\n",
    "[![image](https://colab.research.google.com/assets/colab-badge.svg)](https://githubtocolab.com/giswqs/leafmap/blob/master/examples/notebooks/28_publish_map.ipynb)\n",
    "[![image](https://mybinder.org/badge_logo.svg)](https://gishub.org/leafmap-binder)"
   ]
  },
  {
   "cell_type": "code",
   "execution_count": null,
   "id": "3c3cd417",
   "metadata": {},
   "outputs": [],
   "source": [
    "%pip install -q leafmap"
   ]
  },
  {
   "cell_type": "markdown",
   "id": "cf9b3fec",
   "metadata": {},
   "source": [
    "To follow this tutorial, you will need to [sign up](https://datapane.com/accounts/signup/) for an account with <https://datapane.com>, then install and authenticate the `datapane` Python package. More information can be found [here](https://docs.datapane.com/tutorials/tut-getting-started). \n",
    "\n",
    "- `pip install datapane`\n",
    "- `datapane login`\n",
    "- `datapane ping`"
   ]
  },
  {
   "cell_type": "code",
   "execution_count": null,
   "id": "bbedb2e1",
   "metadata": {},
   "outputs": [],
   "source": [
    "import leafmap.foliumap as leafmap"
   ]
  },
  {
   "cell_type": "markdown",
   "id": "dcb691d5",
   "metadata": {},
   "source": [
    "Create an elevation map of North America."
   ]
  },
  {
   "cell_type": "code",
   "execution_count": null,
   "id": "838f4ab0",
   "metadata": {},
   "outputs": [],
   "source": [
    "m = leafmap.Map()\n",
    "m.add_basemap('USGS 3DEP Elevation')\n",
    "colors = ['006633', 'E5FFCC', '662A00', 'D8D8D8', 'F5F5F5']\n",
    "vmin = 0\n",
    "vmax = 4000\n",
    "m.add_colorbar(colors=colors, vmin=vmin, vmax=vmax)\n",
    "m"
   ]
  },
  {
   "cell_type": "markdown",
   "id": "2f664037",
   "metadata": {},
   "source": [
    "Publish the map to [datapane.com](https://datapane.com)"
   ]
  },
  {
   "cell_type": "code",
   "execution_count": null,
   "id": "82b50cdf",
   "metadata": {},
   "outputs": [],
   "source": [
    "m.publish(name=\"Elevation Map of North America\")"
   ]
  },
  {
   "cell_type": "markdown",
   "id": "1cfb5247",
   "metadata": {},
   "source": [
    "Create a land use and land cover map."
   ]
  },
  {
   "cell_type": "code",
   "execution_count": null,
   "id": "1d127692",
   "metadata": {},
   "outputs": [],
   "source": [
    "m = leafmap.Map()\n",
    "m.add_basemap(\"NLCD 2016 CONUS Land Cover\")\n",
    "m.add_legend(builtin_legend='NLCD')\n",
    "m"
   ]
  },
  {
   "cell_type": "markdown",
   "id": "090618b5",
   "metadata": {},
   "source": [
    "Publish the map to [datapane.com](https://datapane.com)."
   ]
  },
  {
   "cell_type": "code",
   "execution_count": null,
   "id": "c52f7fa8",
   "metadata": {},
   "outputs": [],
   "source": [
    "m.publish(name=\"National Land Cover Database (NLCD) 2016\")"
   ]
  },
  {
   "cell_type": "markdown",
   "id": "2e2a5fda",
   "metadata": {},
   "source": [
    "Create a world population heat map."
   ]
  },
  {
   "cell_type": "code",
   "execution_count": null,
   "id": "3c848f52",
   "metadata": {},
   "outputs": [],
   "source": [
    "m = leafmap.Map()\n",
    "in_csv = \"https://raw.githubusercontent.com/giswqs/leafmap/master/examples/data/world_cities.csv\"\n",
    "m.add_heatmap(\n",
    "    in_csv,\n",
    "    latitude=\"latitude\",\n",
    "    longitude='longitude',\n",
    "    value=\"pop_max\",\n",
    "    name=\"Heat map\",\n",
    "    radius=20,\n",
    ")"
   ]
  },
  {
   "cell_type": "code",
   "execution_count": null,
   "id": "2ef8dfda",
   "metadata": {},
   "outputs": [],
   "source": [
    "colors = ['blue', 'lime', 'red']\n",
    "vmin = 0\n",
    "vmax = 10000\n",
    "m.add_colorbar(colors=colors, vmin=vmin, vmax=vmax)\n",
    "m"
   ]
  },
  {
   "cell_type": "markdown",
   "id": "37a4bf6d",
   "metadata": {},
   "source": [
    "Publish the map to [datapane.com](https://datapane.com)."
   ]
  },
  {
   "cell_type": "code",
   "execution_count": null,
   "id": "82b3b01c",
   "metadata": {},
   "outputs": [],
   "source": [
    "m.publish(name=\"World Population Heat Map\")"
   ]
  }
 ],
 "metadata": {
  "kernelspec": {
   "display_name": "Python (Pyodide)",
   "language": "python",
   "name": "python"
  }
 },
 "nbformat": 4,
 "nbformat_minor": 5
}
