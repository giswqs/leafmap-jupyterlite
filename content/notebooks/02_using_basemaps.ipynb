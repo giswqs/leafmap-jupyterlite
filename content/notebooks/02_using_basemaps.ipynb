{
 "cells": [
  {
   "cell_type": "markdown",
   "id": "b1faf20e",
   "metadata": {},
   "source": [
    "[![image](https://jupyterlite.rtfd.io/en/latest/_static/badge.svg)](https://demo.leafmap.org/lab/index.html?path=notebooks/02_using_basemaps.ipynb)\n",
    "[![image](https://colab.research.google.com/assets/colab-badge.svg)](https://githubtocolab.com/giswqs/leafmap/blob/master/examples/notebooks/02_using_basemaps.ipynb)\n",
    "[![image](https://mybinder.org/badge_logo.svg)](https://gishub.org/leafmap-binder)\n",
    "\n",
    "**Using basemaps in leafmap**"
   ]
  },
  {
   "cell_type": "code",
   "execution_count": null,
   "id": "2b7f2438",
   "metadata": {},
   "outputs": [],
   "source": [
    "%pip install -q leafmap"
   ]
  },
  {
   "cell_type": "code",
   "execution_count": null,
   "id": "b55f51c8",
   "metadata": {},
   "outputs": [],
   "source": [
    "import leafmap"
   ]
  },
  {
   "cell_type": "markdown",
   "id": "6ba28d5e",
   "metadata": {},
   "source": [
    "Create an interactive map."
   ]
  },
  {
   "cell_type": "code",
   "execution_count": null,
   "id": "a1a45d7f",
   "metadata": {},
   "outputs": [],
   "source": [
    "m = leafmap.Map()\n",
    "m"
   ]
  },
  {
   "cell_type": "markdown",
   "id": "07d70870",
   "metadata": {},
   "source": [
    "Specify a Google basemap to use, can be one of [\"ROADMAP\", \"TERRAIN\", \"SATELLITE\", \"HYBRID\"]."
   ]
  },
  {
   "cell_type": "code",
   "execution_count": null,
   "id": "9e9de42c",
   "metadata": {},
   "outputs": [],
   "source": [
    "m = leafmap.Map(google_map=\"HYBRID\")\n",
    "m"
   ]
  },
  {
   "cell_type": "code",
   "execution_count": null,
   "id": "a2d8a805",
   "metadata": {},
   "outputs": [],
   "source": [
    "m = leafmap.Map(google_map=\"TERRAIN\")\n",
    "m"
   ]
  },
  {
   "cell_type": "markdown",
   "id": "64d14742",
   "metadata": {},
   "source": [
    "Add a basemap using the `add_basemap()` function."
   ]
  },
  {
   "cell_type": "code",
   "execution_count": null,
   "id": "7e48b69b",
   "metadata": {},
   "outputs": [],
   "source": [
    "m = leafmap.Map()\n",
    "m.add_basemap(\"HYBRID\")\n",
    "m.add_basemap(\"Esri.NatGeoWorldMap\")\n",
    "m"
   ]
  },
  {
   "cell_type": "markdown",
   "id": "a2587ebf",
   "metadata": {},
   "source": [
    "Add an XYZ tile layer."
   ]
  },
  {
   "cell_type": "code",
   "execution_count": null,
   "id": "4daff1e3",
   "metadata": {},
   "outputs": [],
   "source": [
    "m = leafmap.Map()\n",
    "m.add_tile_layer(\n",
    "    url=\"https://mt1.google.com/vt/lyrs=y&x={x}&y={y}&z={z}\",\n",
    "    name=\"Google Satellite\",\n",
    "    attribution=\"Google\",\n",
    ")\n",
    "m"
   ]
  },
  {
   "cell_type": "markdown",
   "id": "fb5d60d0",
   "metadata": {},
   "source": [
    "Add a WMS tile layer."
   ]
  },
  {
   "cell_type": "code",
   "execution_count": null,
   "id": "67f7f75a",
   "metadata": {},
   "outputs": [],
   "source": [
    "m = leafmap.Map()\n",
    "naip_url = 'https://services.nationalmap.gov/arcgis/services/USGSNAIPImagery/ImageServer/WMSServer?'\n",
    "m.add_wms_layer(\n",
    "    url=naip_url, layers='0', name='NAIP Imagery', format='image/png', shown=True\n",
    ")\n",
    "m"
   ]
  },
  {
   "cell_type": "markdown",
   "id": "0c577020",
   "metadata": {},
   "source": [
    "Add a legend to the map."
   ]
  },
  {
   "cell_type": "code",
   "execution_count": null,
   "id": "c7ee9f20",
   "metadata": {},
   "outputs": [],
   "source": [
    "m = leafmap.Map(google_map=\"HYBRID\")\n",
    "\n",
    "url1 = \"https://www.fws.gov/wetlands/arcgis/services/Wetlands/MapServer/WMSServer?\"\n",
    "m.add_wms_layer(\n",
    "    url1, layers=\"1\", format='image/png', transparent=True, name=\"NWI Wetlands Vector\"\n",
    ")\n",
    "\n",
    "url2 = \"https://www.fws.gov/wetlands/arcgis/services/Wetlands_Raster/ImageServer/WMSServer?\"\n",
    "m.add_wms_layer(\n",
    "    url2, layers=\"0\", format='image/png', transparent=True, name=\"NWI Wetlands Raster\"\n",
    ")\n",
    "\n",
    "m.add_legend(builtin_legend=\"NWI\")\n",
    "m"
   ]
  },
  {
   "cell_type": "markdown",
   "id": "a8a9d938",
   "metadata": {},
   "source": [
    "Add a layer from [xyzservices](https://github.com/geopandas/xyzservices) provider object"
   ]
  },
  {
   "cell_type": "code",
   "execution_count": null,
   "id": "4ee83b52",
   "metadata": {},
   "outputs": [],
   "source": [
    "import os\n",
    "import xyzservices.providers as xyz"
   ]
  },
  {
   "cell_type": "code",
   "execution_count": null,
   "id": "fb8ed6b6",
   "metadata": {},
   "outputs": [],
   "source": [
    "basemap = xyz.HEREv3.basicMap\n",
    "basemap"
   ]
  },
  {
   "cell_type": "markdown",
   "id": "be62c4da",
   "metadata": {},
   "source": [
    "Pass the api key to the xyzservices provider object or set it as an environment variable."
   ]
  },
  {
   "cell_type": "code",
   "execution_count": null,
   "id": "c5e2a72b",
   "metadata": {},
   "outputs": [],
   "source": [
    "basemap['apiKey'] = os.environ[\"HEREMAPS_API_KEY\"]"
   ]
  },
  {
   "cell_type": "markdown",
   "id": "37ad320c",
   "metadata": {},
   "source": [
    "Add the xyzservices provider object as a layer to the map."
   ]
  },
  {
   "cell_type": "code",
   "execution_count": null,
   "id": "546d7344",
   "metadata": {},
   "outputs": [],
   "source": [
    "m = leafmap.Map()\n",
    "m.add_basemap(basemap)\n",
    "m"
   ]
  }
 ],
 "metadata": {
  "kernelspec": {
   "display_name": "Python (Pyodide)",
   "language": "python",
   "name": "python3"
  }
 },
 "nbformat": 4,
 "nbformat_minor": 5
}
