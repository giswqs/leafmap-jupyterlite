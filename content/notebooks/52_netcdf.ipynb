{
 "cells": [
  {
   "cell_type": "markdown",
   "id": "f225a962",
   "metadata": {},
   "source": [
    "[![image](https://jupyterlite.rtfd.io/en/latest/_static/badge.svg)](https://demo.leafmap.org/lab/index.html?path=notebooks/52_netcdf.ipynb)\n",
    "[![image](https://colab.research.google.com/assets/colab-badge.svg)](https://githubtocolab.com/giswqs/leafmap/blob/master/examples/notebooks/52_netcdf.ipynb)\n",
    "[![image](https://mybinder.org/badge_logo.svg)](https://gishub.org/leafmap-binder)\n",
    "\n",
    "**Visualizing NetCDF data**"
   ]
  },
  {
   "cell_type": "code",
   "execution_count": null,
   "id": "10a4b262",
   "metadata": {},
   "outputs": [],
   "source": [
    "%pip install -q leafmap"
   ]
  },
  {
   "cell_type": "code",
   "execution_count": null,
   "id": "03d11eb0",
   "metadata": {},
   "outputs": [],
   "source": [
    "# !pip install xarray rioxarray netcdf4 localtileserver"
   ]
  },
  {
   "cell_type": "code",
   "execution_count": null,
   "id": "e3abb2e3",
   "metadata": {},
   "outputs": [],
   "source": [
    "import leafmap"
   ]
  },
  {
   "cell_type": "markdown",
   "id": "3b17861e",
   "metadata": {},
   "source": [
    "Download a sample NetCDF dataset."
   ]
  },
  {
   "cell_type": "code",
   "execution_count": null,
   "id": "198af994",
   "metadata": {},
   "outputs": [],
   "source": [
    "url = 'https://github.com/giswqs/leafmap/raw/master/examples/data/wind_global.nc'\n",
    "filename = 'wind_global.nc'"
   ]
  },
  {
   "cell_type": "code",
   "execution_count": null,
   "id": "69d99561",
   "metadata": {},
   "outputs": [],
   "source": [
    "leafmap.download_file(url, output=filename)"
   ]
  },
  {
   "cell_type": "markdown",
   "id": "6e6ed5f6",
   "metadata": {},
   "source": [
    "Read the NetCDF dataset."
   ]
  },
  {
   "cell_type": "code",
   "execution_count": null,
   "id": "25f2c2e7",
   "metadata": {},
   "outputs": [],
   "source": [
    "data = leafmap.read_netcdf(filename)\n",
    "data"
   ]
  },
  {
   "cell_type": "markdown",
   "id": "86374d6d",
   "metadata": {},
   "source": [
    "Convert the NetCDF dataset to GeoTIFF. Note that the longitude range of the NetCDF dataset is `[0, 360]`. We need to convert it to `[-180, 180]` by setting `shift_lon=True` so that it can be displayed on the map."
   ]
  },
  {
   "cell_type": "code",
   "execution_count": null,
   "id": "ee1ecdfc",
   "metadata": {},
   "outputs": [],
   "source": [
    "tif = 'wind_global.tif'\n",
    "leafmap.netcdf_to_tif(filename, tif, variables=['u_wind', 'v_wind'], shift_lon=True)"
   ]
  },
  {
   "cell_type": "markdown",
   "id": "d8e8f599",
   "metadata": {},
   "source": [
    "Add the GeoTIFF to the map. We can also overlay the country boundary on the map."
   ]
  },
  {
   "cell_type": "code",
   "execution_count": null,
   "id": "4de66996",
   "metadata": {},
   "outputs": [],
   "source": [
    "geojson = 'https://github.com/giswqs/leafmap/raw/master/examples/data/countries.geojson'"
   ]
  },
  {
   "cell_type": "code",
   "execution_count": null,
   "id": "61a14acc",
   "metadata": {},
   "outputs": [],
   "source": [
    "m = leafmap.Map(layers_control=True)\n",
    "m.add_raster(tif, band=[1], palette='coolwarm', layer_name='u_wind')\n",
    "m.add_geojson(geojson, layer_name='Countries')\n",
    "m"
   ]
  },
  {
   "cell_type": "markdown",
   "id": "c5574fd6",
   "metadata": {},
   "source": [
    "You can also use the `add_netcdf()` function to add the NetCDF dataset to the map without having to convert it to GeoTIFF explicitly."
   ]
  },
  {
   "cell_type": "code",
   "execution_count": null,
   "id": "4427b997",
   "metadata": {},
   "outputs": [],
   "source": [
    "m = leafmap.Map(layers_control=True)\n",
    "m.add_netcdf(\n",
    "    filename,\n",
    "    variables=['v_wind'],\n",
    "    palette='coolwarm',\n",
    "    shift_lon=True,\n",
    "    layer_name='v_wind',\n",
    ")\n",
    "m.add_geojson(geojson, layer_name='Countries')\n",
    "m"
   ]
  },
  {
   "cell_type": "markdown",
   "id": "5100f388",
   "metadata": {},
   "source": [
    "Visualizing wind velocity."
   ]
  },
  {
   "cell_type": "code",
   "execution_count": null,
   "id": "81e10f6e",
   "metadata": {},
   "outputs": [],
   "source": [
    "m = leafmap.Map(layers_control=True)\n",
    "m.add_basemap('CartoDB.DarkMatter')\n",
    "m.add_velocity(filename, zonal_speed='u_wind', meridional_speed='v_wind')\n",
    "m"
   ]
  },
  {
   "cell_type": "markdown",
   "id": "b0b42519",
   "metadata": {},
   "source": [
    "![](https://i.imgur.com/oL5Mgeu.gif)"
   ]
  }
 ],
 "metadata": {
  "kernelspec": {
   "display_name": "Python 3",
   "language": "python",
   "name": "python3"
  }
 },
 "nbformat": 4,
 "nbformat_minor": 5
}
