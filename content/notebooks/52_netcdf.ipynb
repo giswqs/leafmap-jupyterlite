{
 "cells": [
  {
   "cell_type": "markdown",
   "id": "930ccb96",
   "metadata": {},
   "source": [
    "[![image](https://jupyterlite.rtfd.io/en/latest/_static/badge.svg)](https://demo.leafmap.org/lab/index.html?path=notebooks/52_netcdf.ipynb)\n",
    "[![image](https://colab.research.google.com/assets/colab-badge.svg)](https://githubtocolab.com/giswqs/leafmap/blob/master/examples/notebooks/52_netcdf.ipynb)\n",
    "[![image](https://mybinder.org/badge_logo.svg)](https://gishub.org/leafmap-binder)\n",
    "\n",
    "**Visualizing NetCDF data**"
   ]
  },
  {
   "cell_type": "code",
   "execution_count": null,
   "id": "c1dbfc7a",
   "metadata": {},
   "outputs": [],
   "source": [
    "%pip install -q leafmap"
   ]
  },
  {
   "cell_type": "code",
   "execution_count": null,
   "id": "2fbdb491",
   "metadata": {},
   "outputs": [],
   "source": [
    "# !pip install xarray rioxarray netcdf4 localtileserver"
   ]
  },
  {
   "cell_type": "code",
   "execution_count": null,
   "id": "ee18a4e8",
   "metadata": {},
   "outputs": [],
   "source": [
    "import leafmap"
   ]
  },
  {
   "cell_type": "markdown",
   "id": "e3738555",
   "metadata": {},
   "source": [
    "Download a sample NetCDF dataset."
   ]
  },
  {
   "cell_type": "code",
   "execution_count": null,
   "id": "72aabf38",
   "metadata": {},
   "outputs": [],
   "source": [
    "url = 'https://github.com/giswqs/leafmap/raw/master/examples/data/wind_global.nc'\n",
    "filename = 'wind_global.nc'"
   ]
  },
  {
   "cell_type": "code",
   "execution_count": null,
   "id": "aa2beb86",
   "metadata": {},
   "outputs": [],
   "source": [
    "leafmap.download_file(url, output=filename)"
   ]
  },
  {
   "cell_type": "markdown",
   "id": "f1b5cd7d",
   "metadata": {},
   "source": [
    "Read the NetCDF dataset."
   ]
  },
  {
   "cell_type": "code",
   "execution_count": null,
   "id": "17f9cb01",
   "metadata": {},
   "outputs": [],
   "source": [
    "data = leafmap.read_netcdf(filename)\n",
    "data"
   ]
  },
  {
   "cell_type": "markdown",
   "id": "aeba512f",
   "metadata": {},
   "source": [
    "Convert the NetCDF dataset to GeoTIFF. Note that the longitude range of the NetCDF dataset is `[0, 360]`. We need to convert it to `[-180, 180]` by setting `shift_lon=True` so that it can be displayed on the map."
   ]
  },
  {
   "cell_type": "code",
   "execution_count": null,
   "id": "44e89cba",
   "metadata": {},
   "outputs": [],
   "source": [
    "tif = 'wind_global.tif'\n",
    "leafmap.netcdf_to_tif(filename, tif, variables=['u_wind', 'v_wind'], shift_lon=True)"
   ]
  },
  {
   "cell_type": "markdown",
   "id": "7369b57a",
   "metadata": {},
   "source": [
    "Add the GeoTIFF to the map. We can also overlay the country boundary on the map."
   ]
  },
  {
   "cell_type": "code",
   "execution_count": null,
   "id": "208832e4",
   "metadata": {},
   "outputs": [],
   "source": [
    "geojson = 'https://github.com/giswqs/leafmap/raw/master/examples/data/countries.geojson'"
   ]
  },
  {
   "cell_type": "code",
   "execution_count": null,
   "id": "9178b7bf",
   "metadata": {},
   "outputs": [],
   "source": [
    "m = leafmap.Map(layers_control=True)\n",
    "m.add_raster(tif, band=[1], palette='coolwarm', layer_name='u_wind')\n",
    "m.add_geojson(geojson, layer_name='Countries')\n",
    "m"
   ]
  },
  {
   "cell_type": "markdown",
   "id": "3bb5b40b",
   "metadata": {},
   "source": [
    "You can also use the `add_netcdf()` function to add the NetCDF dataset to the map without having to convert it to GeoTIFF explicitly."
   ]
  },
  {
   "cell_type": "code",
   "execution_count": null,
   "id": "dbf074e6",
   "metadata": {},
   "outputs": [],
   "source": [
    "m = leafmap.Map(layers_control=True)\n",
    "m.add_netcdf(\n",
    "    filename,\n",
    "    variables=['v_wind'],\n",
    "    palette='coolwarm',\n",
    "    shift_lon=True,\n",
    "    layer_name='v_wind',\n",
    ")\n",
    "m.add_geojson(geojson, layer_name='Countries')\n",
    "m"
   ]
  },
  {
   "cell_type": "markdown",
   "id": "916854df",
   "metadata": {},
   "source": [
    "Visualizing wind velocity."
   ]
  },
  {
   "cell_type": "code",
   "execution_count": null,
   "id": "38432e89",
   "metadata": {},
   "outputs": [],
   "source": [
    "m = leafmap.Map(layers_control=True)\n",
    "m.add_basemap('CartoDB.DarkMatter')\n",
    "m.add_velocity(filename, zonal_speed='u_wind', meridional_speed='v_wind')\n",
    "m"
   ]
  },
  {
   "cell_type": "markdown",
   "id": "796feaff",
   "metadata": {},
   "source": [
    "![](https://i.imgur.com/oL5Mgeu.gif)"
   ]
  }
 ],
 "metadata": {
  "kernelspec": {
   "display_name": "Python (Pyodide)",
   "language": "python",
   "name": "python"
  }
 },
 "nbformat": 4,
 "nbformat_minor": 5
}
