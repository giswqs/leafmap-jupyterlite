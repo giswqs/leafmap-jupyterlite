{
 "cells": [
  {
   "cell_type": "markdown",
   "id": "7ed08f51",
   "metadata": {},
   "source": [
    "[![image](https://mybinder.org/badge_logo.svg)](https://gishub.org/leafmap-binder)\n",
    "\n",
    "**Loading local raster datasets with leafmap**"
   ]
  },
  {
   "cell_type": "code",
   "execution_count": null,
   "id": "9bbe6def",
   "metadata": {},
   "outputs": [],
   "source": [
    "%pip install -q leafmap"
   ]
  },
  {
   "cell_type": "markdown",
   "id": "179060ec",
   "metadata": {},
   "source": [
    "To follow this tutorial, you need to install the [leafmap](https://leafmap.org) and [xarray_leaflet](https://github.com/davidbrochart/xarray_leaflet) Python packages. Use the following conda commands to create a conda env and install packages. Note that `xarray_leaflet` does not work properly on Windows ([source](https://github.com/davidbrochart/xarray_leaflet/issues/30)). Also, the `add_raster` function is only available for the ipyleaflet plotting backend. Therefore, Google Colab is not supported. Use the binder link above instead.  \n",
    "\n",
    "- `conda create -n gee python`\n",
    "- `conda activate gee`\n",
    "- `conda install mamba -c conda-forge`\n",
    "- `mamba install leafmap xarray_leaflet -c conda-forge`"
   ]
  },
  {
   "cell_type": "markdown",
   "id": "2277025c",
   "metadata": {},
   "source": [
    "Use the ipyleaflet plotting backend. The folium plotting backend does not support the `add_raster` function."
   ]
  },
  {
   "cell_type": "code",
   "execution_count": null,
   "id": "bb90abe4",
   "metadata": {},
   "outputs": [],
   "source": [
    "import os\n",
    "import leafmap.leafmap as leafmap"
   ]
  },
  {
   "cell_type": "markdown",
   "id": "2cec76c6",
   "metadata": {},
   "source": [
    "Specify input raster datasets"
   ]
  },
  {
   "cell_type": "code",
   "execution_count": null,
   "id": "71910dc7",
   "metadata": {},
   "outputs": [],
   "source": [
    "out_dir = os.path.expanduser('~/Downloads')\n",
    "\n",
    "if not os.path.exists(out_dir):\n",
    "    os.makedirs(out_dir)\n",
    "\n",
    "landsat = os.path.join(out_dir, 'landsat.tif')\n",
    "dem = os.path.join(out_dir, 'dem.tif')"
   ]
  },
  {
   "cell_type": "markdown",
   "id": "fe9e8559",
   "metadata": {},
   "source": [
    "Download samples raster datasets\n",
    "\n",
    "More datasets can be downloaded from https://viewer.nationalmap.gov/basic/"
   ]
  },
  {
   "cell_type": "code",
   "execution_count": null,
   "id": "5ad820f7",
   "metadata": {},
   "outputs": [],
   "source": [
    "if not os.path.exists(landsat):\n",
    "    landsat_url = 'https://drive.google.com/file/d/1EV38RjNxdwEozjc9m0FcO3LFgAoAX1Uw/view?usp=sharing'\n",
    "    leafmap.download_from_gdrive(landsat_url, 'landsat.tif', out_dir, unzip=False)"
   ]
  },
  {
   "cell_type": "code",
   "execution_count": null,
   "id": "c7fb2a62",
   "metadata": {},
   "outputs": [],
   "source": [
    "if not os.path.exists(dem):\n",
    "    dem_url = 'https://drive.google.com/file/d/1vRkAWQYsLWCi6vcTMk8vLxoXMFbdMFn8/view?usp=sharing'\n",
    "    leafmap.download_from_gdrive(dem_url, 'dem.tif', out_dir, unzip=False)"
   ]
  },
  {
   "cell_type": "markdown",
   "id": "21947e7c",
   "metadata": {},
   "source": [
    "Create an interactive map"
   ]
  },
  {
   "cell_type": "code",
   "execution_count": null,
   "id": "df7e6e1d",
   "metadata": {},
   "outputs": [],
   "source": [
    "Map = leafmap.Map()"
   ]
  },
  {
   "cell_type": "markdown",
   "id": "db990502",
   "metadata": {},
   "source": [
    "Add local raster datasets to the map\n",
    "\n",
    "More colormap can be found at https://matplotlib.org/3.1.0/tutorials/colors/colormaps.html"
   ]
  },
  {
   "cell_type": "code",
   "execution_count": null,
   "id": "fcb9f062",
   "metadata": {},
   "outputs": [],
   "source": [
    "Map.add_raster(dem, colormap='terrain', layer_name='DEM')"
   ]
  },
  {
   "cell_type": "code",
   "execution_count": null,
   "id": "7a34e8e0",
   "metadata": {},
   "outputs": [],
   "source": [
    "Map.add_raster(landsat, bands=[5, 4, 3], layer_name='Landsat')"
   ]
  },
  {
   "cell_type": "markdown",
   "id": "40a4cc48",
   "metadata": {},
   "source": [
    "Display the map"
   ]
  },
  {
   "cell_type": "code",
   "execution_count": null,
   "id": "48cb085f",
   "metadata": {},
   "outputs": [],
   "source": [
    "Map"
   ]
  }
 ],
 "metadata": {
  "kernelspec": {
   "display_name": "Python 3",
   "language": "python",
   "name": "python3"
  }
 },
 "nbformat": 4,
 "nbformat_minor": 5
}
