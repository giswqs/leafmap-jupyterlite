{
 "cells": [
  {
   "cell_type": "markdown",
   "id": "8d1f2073",
   "metadata": {},
   "source": [
    "[![image](https://mybinder.org/badge_logo.svg)](https://gishub.org/leafmap-binder)\n",
    "\n",
    "**Loading local raster datasets with leafmap**"
   ]
  },
  {
   "cell_type": "code",
   "execution_count": null,
   "id": "9399b3a4",
   "metadata": {},
   "outputs": [],
   "source": [
    "%pip install -q leafmap"
   ]
  },
  {
   "cell_type": "markdown",
   "id": "7b34fb32",
   "metadata": {},
   "source": [
    "To follow this tutorial, you need to install the [leafmap](https://leafmap.org) and [xarray_leaflet](https://github.com/davidbrochart/xarray_leaflet) Python packages. Use the following conda commands to create a conda env and install packages. Note that `xarray_leaflet` does not work properly on Windows ([source](https://github.com/davidbrochart/xarray_leaflet/issues/30)). Also, the `add_raster` function is only available for the ipyleaflet plotting backend. Therefore, Google Colab is not supported. Use the binder link above instead.  \n",
    "\n",
    "- `conda create -n gee python`\n",
    "- `conda activate gee`\n",
    "- `conda install mamba -c conda-forge`\n",
    "- `mamba install leafmap xarray_leaflet -c conda-forge`"
   ]
  },
  {
   "cell_type": "markdown",
   "id": "ec7680b0",
   "metadata": {},
   "source": [
    "Use the ipyleaflet plotting backend. The folium plotting backend does not support the `add_raster` function."
   ]
  },
  {
   "cell_type": "code",
   "execution_count": null,
   "id": "240ba380",
   "metadata": {},
   "outputs": [],
   "source": [
    "import os\n",
    "import leafmap.leafmap as leafmap"
   ]
  },
  {
   "cell_type": "markdown",
   "id": "61bb2822",
   "metadata": {},
   "source": [
    "Specify input raster datasets"
   ]
  },
  {
   "cell_type": "code",
   "execution_count": null,
   "id": "1a8f43d9",
   "metadata": {},
   "outputs": [],
   "source": [
    "out_dir = os.path.expanduser('~/Downloads')\n",
    "\n",
    "if not os.path.exists(out_dir):\n",
    "    os.makedirs(out_dir)\n",
    "\n",
    "landsat = os.path.join(out_dir, 'landsat.tif')\n",
    "dem = os.path.join(out_dir, 'dem.tif')"
   ]
  },
  {
   "cell_type": "markdown",
   "id": "337c23a5",
   "metadata": {},
   "source": [
    "Download samples raster datasets\n",
    "\n",
    "More datasets can be downloaded from https://viewer.nationalmap.gov/basic/"
   ]
  },
  {
   "cell_type": "code",
   "execution_count": null,
   "id": "30f4a34f",
   "metadata": {},
   "outputs": [],
   "source": [
    "if not os.path.exists(landsat):\n",
    "    landsat_url = 'https://drive.google.com/file/d/1EV38RjNxdwEozjc9m0FcO3LFgAoAX1Uw/view?usp=sharing'\n",
    "    leafmap.download_from_gdrive(landsat_url, 'landsat.tif', out_dir, unzip=False)"
   ]
  },
  {
   "cell_type": "code",
   "execution_count": null,
   "id": "b9f0ee24",
   "metadata": {},
   "outputs": [],
   "source": [
    "if not os.path.exists(dem):\n",
    "    dem_url = 'https://drive.google.com/file/d/1vRkAWQYsLWCi6vcTMk8vLxoXMFbdMFn8/view?usp=sharing'\n",
    "    leafmap.download_from_gdrive(dem_url, 'dem.tif', out_dir, unzip=False)"
   ]
  },
  {
   "cell_type": "markdown",
   "id": "129b52bb",
   "metadata": {},
   "source": [
    "Create an interactive map"
   ]
  },
  {
   "cell_type": "code",
   "execution_count": null,
   "id": "d9975c65",
   "metadata": {},
   "outputs": [],
   "source": [
    "Map = leafmap.Map()"
   ]
  },
  {
   "cell_type": "markdown",
   "id": "4e2e5c19",
   "metadata": {},
   "source": [
    "Add local raster datasets to the map\n",
    "\n",
    "More colormap can be found at https://matplotlib.org/3.1.0/tutorials/colors/colormaps.html"
   ]
  },
  {
   "cell_type": "code",
   "execution_count": null,
   "id": "215899de",
   "metadata": {},
   "outputs": [],
   "source": [
    "Map.add_raster(dem, colormap='terrain', layer_name='DEM')"
   ]
  },
  {
   "cell_type": "code",
   "execution_count": null,
   "id": "9438a361",
   "metadata": {},
   "outputs": [],
   "source": [
    "Map.add_raster(landsat, bands=[5, 4, 3], layer_name='Landsat')"
   ]
  },
  {
   "cell_type": "markdown",
   "id": "7b00ab66",
   "metadata": {},
   "source": [
    "Display the map"
   ]
  },
  {
   "cell_type": "code",
   "execution_count": null,
   "id": "b400afbc",
   "metadata": {},
   "outputs": [],
   "source": [
    "Map"
   ]
  }
 ],
 "metadata": {
  "kernelspec": {
   "display_name": "Python (Pyodide)",
   "language": "python",
   "name": "python"
  }
 },
 "nbformat": 4,
 "nbformat_minor": 5
}
