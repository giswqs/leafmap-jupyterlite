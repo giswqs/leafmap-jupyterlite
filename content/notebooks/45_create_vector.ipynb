{
 "cells": [
  {
   "cell_type": "markdown",
   "id": "7a095419",
   "metadata": {},
   "source": [
    "[![image](https://jupyterlite.rtfd.io/en/latest/_static/badge.svg)](https://demo.leafmap.org/lab/index.html?path=notebooks/45_create_vector.ipynb)\n",
    "[![image](https://colab.research.google.com/assets/colab-badge.svg)](https://githubtocolab.com/giswqs/leafmap/blob/master/examples/notebooks/45_create_vector.ipynb)\n",
    "[![image](https://mybinder.org/badge_logo.svg)](https://gishub.org/leafmap-binder)"
   ]
  },
  {
   "cell_type": "code",
   "execution_count": null,
   "id": "a75976a8",
   "metadata": {},
   "outputs": [],
   "source": [
    "%pip install -q leafmap"
   ]
  },
  {
   "cell_type": "code",
   "execution_count": null,
   "id": "573fbc62",
   "metadata": {},
   "outputs": [],
   "source": [
    "import leafmap"
   ]
  },
  {
   "cell_type": "markdown",
   "id": "03302113",
   "metadata": {},
   "source": [
    "Create an interactive map and use the drawing tool to draw shapes on the map."
   ]
  },
  {
   "cell_type": "code",
   "execution_count": null,
   "id": "37b3fff1",
   "metadata": {},
   "outputs": [],
   "source": [
    "m = leafmap.Map()\n",
    "m"
   ]
  },
  {
   "cell_type": "markdown",
   "id": "f07ad7fb",
   "metadata": {},
   "source": [
    "Save the draw features as GeoJSON, Shapefile, or GeoPackage."
   ]
  },
  {
   "cell_type": "code",
   "execution_count": null,
   "id": "3e1efcd6",
   "metadata": {},
   "outputs": [],
   "source": [
    "m.save_draw_features(\"data.geojson\")"
   ]
  },
  {
   "cell_type": "markdown",
   "id": "2ccf0c74",
   "metadata": {},
   "source": [
    "![](https://i.imgur.com/b9RbEqb.gif)"
   ]
  }
 ],
 "metadata": {
  "kernelspec": {
   "display_name": "Python 3",
   "language": "python",
   "name": "python3"
  }
 },
 "nbformat": 4,
 "nbformat_minor": 5
}
