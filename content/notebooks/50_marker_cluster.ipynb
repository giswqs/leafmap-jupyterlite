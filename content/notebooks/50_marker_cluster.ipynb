{
 "cells": [
  {
   "cell_type": "markdown",
   "id": "cca639a0",
   "metadata": {},
   "source": [
    "[![image](https://jupyterlite.rtfd.io/en/latest/_static/badge.svg)](https://demo.leafmap.org/lab/index.html?path=notebooks/50_marker_cluster.ipynb)\n",
    "[![image](https://colab.research.google.com/assets/colab-badge.svg)](https://githubtocolab.com/giswqs/leafmap/blob/master/examples/notebooks/50_marker_cluster.ipynb)\n",
    "[![image](https://mybinder.org/badge_logo.svg)](https://gishub.org/leafmap-binder)\n",
    "\n",
    "**Creating a marker cluster with custom icons**"
   ]
  },
  {
   "cell_type": "code",
   "execution_count": null,
   "id": "24dc3dbd",
   "metadata": {},
   "outputs": [],
   "source": [
    "%pip install -q leafmap"
   ]
  },
  {
   "cell_type": "code",
   "execution_count": null,
   "id": "21f0d711",
   "metadata": {},
   "outputs": [],
   "source": [
    "import leafmap"
   ]
  },
  {
   "cell_type": "markdown",
   "id": "c4201ca9",
   "metadata": {},
   "source": [
    "Create an interactive map."
   ]
  },
  {
   "cell_type": "code",
   "execution_count": null,
   "id": "02acf531",
   "metadata": {},
   "outputs": [],
   "source": [
    "m = leafmap.Map(center=[40, -100], zoom=4)"
   ]
  },
  {
   "cell_type": "markdown",
   "id": "7c39deda",
   "metadata": {},
   "source": [
    "Use sample datasets."
   ]
  },
  {
   "cell_type": "code",
   "execution_count": null,
   "id": "bd922d28",
   "metadata": {},
   "outputs": [],
   "source": [
    "cities = 'https://raw.githubusercontent.com/giswqs/leafmap/master/examples/data/us_cities.csv'\n",
    "regions = 'https://raw.githubusercontent.com/giswqs/leafmap/master/examples/data/us_regions.geojson'"
   ]
  },
  {
   "cell_type": "markdown",
   "id": "338acfc3",
   "metadata": {},
   "source": [
    "Add a GeoJSON to the map."
   ]
  },
  {
   "cell_type": "code",
   "execution_count": null,
   "id": "2219e3c6",
   "metadata": {},
   "outputs": [],
   "source": [
    "m.add_geojson(regions, layer_name='US Regions')"
   ]
  },
  {
   "cell_type": "markdown",
   "id": "15f72ba9",
   "metadata": {},
   "source": [
    "Add a marker cluster to the map. The input can either be a string (representing file path or HTTP URL to a csv file) or a Pandas DataFrame.\n",
    "\n",
    "The list of available icon names can be found at <https://fontawesome.com/v4/icons>.\n",
    "\n",
    "Please note that the `spin` parameter only supports the ipyleaflet backend. The folium backend does not support this."
   ]
  },
  {
   "cell_type": "code",
   "execution_count": null,
   "id": "faa28367",
   "metadata": {},
   "outputs": [],
   "source": [
    "m.add_points_from_xy(\n",
    "    cities,\n",
    "    x=\"longitude\",\n",
    "    y=\"latitude\",\n",
    "    color_column='region',\n",
    "    icon_names=['gear', 'map', 'leaf', 'globe'],\n",
    "    spin=True,\n",
    "    add_legend=True,\n",
    ")"
   ]
  },
  {
   "cell_type": "markdown",
   "id": "56bba612",
   "metadata": {},
   "source": [
    "Display the map."
   ]
  },
  {
   "cell_type": "code",
   "execution_count": null,
   "id": "5b798485",
   "metadata": {},
   "outputs": [],
   "source": [
    "m"
   ]
  },
  {
   "cell_type": "markdown",
   "id": "6634cc9a",
   "metadata": {},
   "source": [
    "![](https://i.imgur.com/63LDhOx.gif)"
   ]
  }
 ],
 "metadata": {
  "kernelspec": {
   "display_name": "Python 3",
   "language": "python",
   "name": "python3"
  }
 },
 "nbformat": 4,
 "nbformat_minor": 5
}
