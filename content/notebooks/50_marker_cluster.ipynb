{
 "cells": [
  {
   "cell_type": "markdown",
   "id": "da5c5a67",
   "metadata": {},
   "source": [
    "[![image](https://jupyterlite.rtfd.io/en/latest/_static/badge.svg)](https://demo.leafmap.org/lab/index.html?path=notebooks/50_marker_cluster.ipynb)\n",
    "[![image](https://colab.research.google.com/assets/colab-badge.svg)](https://githubtocolab.com/giswqs/leafmap/blob/master/examples/notebooks/50_marker_cluster.ipynb)\n",
    "[![image](https://mybinder.org/badge_logo.svg)](https://gishub.org/leafmap-binder)\n",
    "\n",
    "**Creating a marker cluster with custom icons**"
   ]
  },
  {
   "cell_type": "code",
   "execution_count": null,
   "id": "9823a21d",
   "metadata": {},
   "outputs": [],
   "source": [
    "%pip install -q leafmap"
   ]
  },
  {
   "cell_type": "code",
   "execution_count": null,
   "id": "cc634558",
   "metadata": {},
   "outputs": [],
   "source": [
    "import leafmap"
   ]
  },
  {
   "cell_type": "markdown",
   "id": "94a72deb",
   "metadata": {},
   "source": [
    "Create an interactive map."
   ]
  },
  {
   "cell_type": "code",
   "execution_count": null,
   "id": "d34025ba",
   "metadata": {},
   "outputs": [],
   "source": [
    "m = leafmap.Map(center=[40, -100], zoom=4)"
   ]
  },
  {
   "cell_type": "markdown",
   "id": "fe245135",
   "metadata": {},
   "source": [
    "Use sample datasets."
   ]
  },
  {
   "cell_type": "code",
   "execution_count": null,
   "id": "53c618d3",
   "metadata": {},
   "outputs": [],
   "source": [
    "cities = 'https://raw.githubusercontent.com/giswqs/leafmap/master/examples/data/us_cities.csv'\n",
    "regions = 'https://raw.githubusercontent.com/giswqs/leafmap/master/examples/data/us_regions.geojson'"
   ]
  },
  {
   "cell_type": "markdown",
   "id": "fe75a472",
   "metadata": {},
   "source": [
    "Add a GeoJSON to the map."
   ]
  },
  {
   "cell_type": "code",
   "execution_count": null,
   "id": "60d1c114",
   "metadata": {},
   "outputs": [],
   "source": [
    "m.add_geojson(regions, layer_name='US Regions')"
   ]
  },
  {
   "cell_type": "markdown",
   "id": "0a271969",
   "metadata": {},
   "source": [
    "Add a marker cluster to the map. The input can either be a string (representing file path or HTTP URL to a csv file) or a Pandas DataFrame.\n",
    "\n",
    "The list of available icon names can be found at <https://fontawesome.com/v4/icons>.\n",
    "\n",
    "Please note that the `spin` parameter only supports the ipyleaflet backend. The folium backend does not support this."
   ]
  },
  {
   "cell_type": "code",
   "execution_count": null,
   "id": "ba6dc811",
   "metadata": {},
   "outputs": [],
   "source": [
    "m.add_points_from_xy(\n",
    "    cities,\n",
    "    x=\"longitude\",\n",
    "    y=\"latitude\",\n",
    "    color_column='region',\n",
    "    icon_names=['gear', 'map', 'leaf', 'globe'],\n",
    "    spin=True,\n",
    "    add_legend=True,\n",
    ")"
   ]
  },
  {
   "cell_type": "markdown",
   "id": "9bb12222",
   "metadata": {},
   "source": [
    "Display the map."
   ]
  },
  {
   "cell_type": "code",
   "execution_count": null,
   "id": "ba3ec2cf",
   "metadata": {},
   "outputs": [],
   "source": [
    "m"
   ]
  },
  {
   "cell_type": "markdown",
   "id": "90e0358e",
   "metadata": {},
   "source": [
    "![](https://i.imgur.com/63LDhOx.gif)"
   ]
  }
 ],
 "metadata": {
  "kernelspec": {
   "display_name": "Python (Pyodide)",
   "language": "python",
   "name": "python3"
  }
 },
 "nbformat": 4,
 "nbformat_minor": 5
}
