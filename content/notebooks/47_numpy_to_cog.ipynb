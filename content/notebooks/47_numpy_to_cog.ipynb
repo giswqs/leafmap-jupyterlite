{
 "cells": [
  {
   "cell_type": "markdown",
   "id": "12b4e493",
   "metadata": {},
   "source": [
    "[![image](https://jupyterlite.rtfd.io/en/latest/_static/badge.svg)](https://demo.leafmap.org/lab/index.html?path=notebooks/47_numpy_to_cog.ipynb)\n",
    "[![image](https://colab.research.google.com/assets/colab-badge.svg)](https://githubtocolab.com/giswqs/leafmap/blob/master/examples/notebooks/47_numpy_to_cog.ipynb)\n",
    "[![image](https://mybinder.org/badge_logo.svg)](https://gishub.org/leafmap-binder)\n",
    "\n",
    "Create a fresh conda env to run this example if needed.\n",
    "\n",
    "```\n",
    "conda create -n cog python=3.9\n",
    "conda install mamba -c conda-forge\n",
    "mamba install leafmap rio-cogeo -c conda-forge\n",
    "```"
   ]
  },
  {
   "cell_type": "code",
   "execution_count": null,
   "id": "951c5c6e",
   "metadata": {},
   "outputs": [],
   "source": [
    "%pip install -q leafmap"
   ]
  },
  {
   "cell_type": "code",
   "execution_count": null,
   "id": "3e1fc306",
   "metadata": {},
   "outputs": [],
   "source": [
    "# !pip install rio-cogeo"
   ]
  },
  {
   "cell_type": "code",
   "execution_count": null,
   "id": "59e38ba0",
   "metadata": {},
   "outputs": [],
   "source": [
    "import leafmap"
   ]
  },
  {
   "cell_type": "code",
   "execution_count": null,
   "id": "fdcd6f5a",
   "metadata": {},
   "outputs": [],
   "source": [
    "url = 'https://github.com/giswqs/leafmap/raw/master/examples/data/cog.tif'\n",
    "in_cog = 'cog.tif'\n",
    "out_cog = \"ndvi.tif\""
   ]
  },
  {
   "cell_type": "markdown",
   "id": "f0afb32e",
   "metadata": {},
   "source": [
    "Download a sample dataset."
   ]
  },
  {
   "cell_type": "code",
   "execution_count": null,
   "id": "cd0bfcba",
   "metadata": {},
   "outputs": [],
   "source": [
    "leafmap.download_from_url(url, in_cog)"
   ]
  },
  {
   "cell_type": "markdown",
   "id": "381a08d2",
   "metadata": {},
   "source": [
    "Convert image to numpy array."
   ]
  },
  {
   "cell_type": "code",
   "execution_count": null,
   "id": "a506cebc",
   "metadata": {},
   "outputs": [],
   "source": [
    "arr = leafmap.image_to_numpy(in_cog)"
   ]
  },
  {
   "cell_type": "code",
   "execution_count": null,
   "id": "abfd545c",
   "metadata": {},
   "outputs": [],
   "source": [
    "arr.shape"
   ]
  },
  {
   "cell_type": "markdown",
   "id": "ef92267a",
   "metadata": {},
   "source": [
    "Computer NDVI."
   ]
  },
  {
   "cell_type": "code",
   "execution_count": null,
   "id": "337b9dcb",
   "metadata": {},
   "outputs": [],
   "source": [
    "ndvi = (arr[3] - arr[0]) / (arr[3] + arr[0])"
   ]
  },
  {
   "cell_type": "code",
   "execution_count": null,
   "id": "df8cf73f",
   "metadata": {},
   "outputs": [],
   "source": [
    "ndvi.shape"
   ]
  },
  {
   "cell_type": "markdown",
   "id": "3e329a54",
   "metadata": {},
   "source": [
    "Convert numpy array to COG."
   ]
  },
  {
   "cell_type": "code",
   "execution_count": null,
   "id": "dddef625",
   "metadata": {},
   "outputs": [],
   "source": [
    "leafmap.numpy_to_cog(ndvi, out_cog, profile=in_cog)"
   ]
  },
  {
   "cell_type": "code",
   "execution_count": null,
   "id": "d81d804d",
   "metadata": {},
   "outputs": [],
   "source": [
    "m = leafmap.Map()\n",
    "m.add_raster(in_cog, band=[4, 1, 2], layer_name=\"Color infrared\")\n",
    "m.add_raster(out_cog, palette=\"Greens\", layer_name=\"NDVI\")\n",
    "m"
   ]
  },
  {
   "cell_type": "markdown",
   "id": "400ec143",
   "metadata": {},
   "source": [
    "![](https://i.imgur.com/OVaTyP3.gif)"
   ]
  }
 ],
 "metadata": {
  "kernelspec": {
   "display_name": "Python (Pyodide)",
   "language": "python",
   "name": "python"
  }
 },
 "nbformat": 4,
 "nbformat_minor": 5
}
