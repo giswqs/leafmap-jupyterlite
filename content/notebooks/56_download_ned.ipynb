{
 "cells": [
  {
   "cell_type": "markdown",
   "id": "6d73fc76",
   "metadata": {},
   "source": [
    "[![image](https://jupyterlite.rtfd.io/en/latest/_static/badge.svg)](https://demo.leafmap.org/lab/index.html?path=notebooks/56_download_ned.ipynb)\n",
    "[![image](https://colab.research.google.com/assets/colab-badge.svg)](https://githubtocolab.com/giswqs/leafmap/blob/master/examples/notebooks/56_download_ned.ipynb)\n",
    "[![image](https://mybinder.org/badge_logo.svg)](https://gishub.org/leafmap-binder)\n",
    "\n",
    "**Downloading 10-m National Elevation Dataset (NED) with only one line of code**"
   ]
  },
  {
   "cell_type": "code",
   "execution_count": null,
   "id": "6bc891b0",
   "metadata": {},
   "outputs": [],
   "source": [
    "%pip install -q leafmap"
   ]
  },
  {
   "cell_type": "code",
   "execution_count": null,
   "id": "f3d8fee0",
   "metadata": {},
   "outputs": [],
   "source": [
    "# !pip install geopandas rasterio"
   ]
  },
  {
   "cell_type": "code",
   "execution_count": null,
   "id": "fb695c1f",
   "metadata": {},
   "outputs": [],
   "source": [
    "import os\n",
    "import leafmap\n",
    "import shutil\n",
    "import sys"
   ]
  },
  {
   "cell_type": "code",
   "execution_count": null,
   "id": "801f1c46",
   "metadata": {},
   "outputs": [],
   "source": [
    "m = leafmap.Map(center=[40, -100], zoom=4)\n",
    "m"
   ]
  },
  {
   "cell_type": "code",
   "execution_count": null,
   "id": "8657810f",
   "metadata": {},
   "outputs": [],
   "source": [
    "region = m.user_roi_bounds()\n",
    "if region is None:\n",
    "    region = [-115.9689, 35.9758, -115.3619, 36.4721]\n",
    "print(region)"
   ]
  },
  {
   "cell_type": "code",
   "execution_count": null,
   "id": "3a7f8380",
   "metadata": {},
   "outputs": [],
   "source": [
    "leafmap.download_ned(region, return_url=True)"
   ]
  },
  {
   "cell_type": "code",
   "execution_count": null,
   "id": "a61e885a",
   "metadata": {},
   "outputs": [],
   "source": [
    "out_dir = \"data\"\n",
    "os.makedirs(out_dir, exist_ok=True)"
   ]
  },
  {
   "cell_type": "code",
   "execution_count": null,
   "id": "e40fc04b",
   "metadata": {},
   "outputs": [],
   "source": [
    "if \"google.colab\" in sys.modules:\n",
    "    leafmap.download_ned(region, out_dir)"
   ]
  },
  {
   "cell_type": "code",
   "execution_count": null,
   "id": "bda2efe2",
   "metadata": {},
   "outputs": [],
   "source": [
    "if \"google.colab\" in sys.modules:\n",
    "    mosaic = \"mosaic.tif\"\n",
    "    leafmap.mosaic(images=out_dir, output=mosaic)"
   ]
  },
  {
   "cell_type": "code",
   "execution_count": null,
   "id": "e9359a03",
   "metadata": {},
   "outputs": [],
   "source": [
    "if \"google.colab\" in sys.modules and (m.user_roi is not None):\n",
    "    image = 'dem.tif'\n",
    "    leafmap.clip_image(mosaic, mask=m.user_roi, output=image)"
   ]
  },
  {
   "cell_type": "code",
   "execution_count": null,
   "id": "897e79df",
   "metadata": {},
   "outputs": [],
   "source": [
    "out_dir = '/content/drive/MyDrive/Data'\n",
    "if os.path.exists(out_dir) and os.path.exists(image):\n",
    "    shutil.copyfile(image, os.path.join(out_dir, image))"
   ]
  }
 ],
 "metadata": {
  "kernelspec": {
   "display_name": "Python 3",
   "language": "python",
   "name": "python3"
  }
 },
 "nbformat": 4,
 "nbformat_minor": 5
}
