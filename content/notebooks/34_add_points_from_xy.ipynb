{
 "cells": [
  {
   "cell_type": "markdown",
   "id": "1fd6166b",
   "metadata": {},
   "source": [
    "[![image](https://jupyterlite.rtfd.io/en/latest/_static/badge.svg)](https://demo.leafmap.org/lab/index.html?path=notebooks/34_add_points_from_xy.ipynb)\n",
    "<a href=\"https://githubtocolab.com/giswqs/leafmap/blob/master/examples/notebooks/34_add_points_from_xy.ipynb\" target=\"_parent\"><img src=\"https://colab.research.google.com/assets/colab-badge.svg\" alt=\"Open in Colab\"/></a>"
   ]
  },
  {
   "cell_type": "code",
   "execution_count": null,
   "id": "776b1378",
   "metadata": {},
   "outputs": [],
   "source": [
    "%pip install -q leafmap"
   ]
  },
  {
   "cell_type": "code",
   "execution_count": null,
   "id": "2606e07a",
   "metadata": {},
   "outputs": [],
   "source": [
    "import leafmap\n",
    "import pandas as pd"
   ]
  },
  {
   "cell_type": "code",
   "execution_count": null,
   "id": "a3cc474e",
   "metadata": {},
   "outputs": [],
   "source": []
  },
  {
   "cell_type": "markdown",
   "id": "e631b2fb",
   "metadata": {},
   "source": [
    "Using a CSV file containing xy coordinates"
   ]
  },
  {
   "cell_type": "code",
   "execution_count": null,
   "id": "2e13e645",
   "metadata": {},
   "outputs": [],
   "source": [
    "m = leafmap.Map()\n",
    "data = 'https://raw.githubusercontent.com/giswqs/leafmap/master/examples/data/us_cities.csv'\n",
    "m.add_points_from_xy(data, x=\"longitude\", y=\"latitude\")\n",
    "m"
   ]
  },
  {
   "cell_type": "markdown",
   "id": "00c70f61",
   "metadata": {},
   "source": [
    "Using a Pandas DataFrame containing xy coordinates."
   ]
  },
  {
   "cell_type": "code",
   "execution_count": null,
   "id": "42edb91d",
   "metadata": {},
   "outputs": [],
   "source": [
    "m = leafmap.Map()\n",
    "data = 'https://raw.githubusercontent.com/giswqs/leafmap/master/examples/data/us_cities.csv'\n",
    "df = pd.read_csv(data)\n",
    "m.add_points_from_xy(df, x=\"longitude\", y=\"latitude\")\n",
    "m"
   ]
  },
  {
   "cell_type": "code",
   "execution_count": null,
   "id": "5b2fe0fd",
   "metadata": {},
   "outputs": [],
   "source": []
  }
 ],
 "metadata": {
  "kernelspec": {
   "display_name": "Python (Pyodide)",
   "language": "python",
   "name": "python3"
  }
 },
 "nbformat": 4,
 "nbformat_minor": 5
}
