{
 "cells": [
  {
   "cell_type": "markdown",
   "id": "845d24f8",
   "metadata": {},
   "source": [
    "[![image](https://jupyterlite.rtfd.io/en/latest/_static/badge.svg)](https://demo.leafmap.org/lab/index.html?path=notebooks/19_map_to_html.ipynb)\n",
    "[![image](https://colab.research.google.com/assets/colab-badge.svg)](https://githubtocolab.com/giswqs/leafmap/blob/master/examples/notebooks/19_map_to_html.ipynb)\n",
    "[![image](https://mybinder.org/badge_logo.svg)](https://gishub.org/leafmap-binder)\n",
    "\n",
    "**Saving maps as a html file**"
   ]
  },
  {
   "cell_type": "code",
   "execution_count": null,
   "id": "1c4c086a",
   "metadata": {},
   "outputs": [],
   "source": [
    "%pip install -q leafmap"
   ]
  },
  {
   "cell_type": "code",
   "execution_count": null,
   "id": "4a9557c2",
   "metadata": {},
   "outputs": [],
   "source": [
    "import leafmap.foliumap as leafmap"
   ]
  },
  {
   "cell_type": "markdown",
   "id": "4e9d87fb",
   "metadata": {},
   "source": [
    "Create an interactive map."
   ]
  },
  {
   "cell_type": "code",
   "execution_count": null,
   "id": "3b845846",
   "metadata": {},
   "outputs": [],
   "source": [
    "m = leafmap.Map()\n",
    "m.add_basemap(\"HYBRID\")\n",
    "m"
   ]
  },
  {
   "cell_type": "markdown",
   "id": "421cdf3a",
   "metadata": {},
   "source": [
    "Specify the output HTML file name to save the map as a web page."
   ]
  },
  {
   "cell_type": "code",
   "execution_count": null,
   "id": "41f2a755",
   "metadata": {},
   "outputs": [],
   "source": [
    "m.to_html(\"mymap.html\")"
   ]
  },
  {
   "cell_type": "markdown",
   "id": "be952a52",
   "metadata": {},
   "source": [
    "If the output HTML file name is not provided, the function will return a string containing contain the source code of the HTML file."
   ]
  },
  {
   "cell_type": "code",
   "execution_count": null,
   "id": "a0f312ad",
   "metadata": {},
   "outputs": [],
   "source": [
    "html = m.to_html()"
   ]
  },
  {
   "cell_type": "code",
   "execution_count": null,
   "id": "3b00544b",
   "metadata": {},
   "outputs": [],
   "source": [
    "# print(html)"
   ]
  }
 ],
 "metadata": {
  "kernelspec": {
   "display_name": "Python (Pyodide)",
   "language": "python",
   "name": "python"
  }
 },
 "nbformat": 4,
 "nbformat_minor": 5
}
