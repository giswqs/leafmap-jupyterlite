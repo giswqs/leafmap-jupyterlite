{
 "cells": [
  {
   "cell_type": "markdown",
   "id": "c4862da2",
   "metadata": {},
   "source": [
    "[![image](https://jupyterlite.rtfd.io/en/latest/_static/badge.svg)](https://demo.leafmap.org/lab/index.html?path=notebooks/57_national_map.ipynb)\n",
    "[![image](https://colab.research.google.com/assets/colab-badge.svg)](https://githubtocolab.com/giswqs/leafmap/blob/master/examples/notebooks/57_national_map.ipynb)\n",
    "[![image](https://mybinder.org/badge_logo.svg)](https://gishub.org/leafmap-binder)\n",
    "\n",
    "### Downloading various shapes from the National Map\n",
    "\n",
    "The national map (TNM) is a catalog of *topological* datasources maintained by the USGS. \n",
    "\n",
    "- It contains a wide range of dataformats (such as GeoTiff, LAZ, ...) and datasets.\n",
    "- It provides an endpoint that can be used to search for published datasets and files.\n",
    "- This API supports a wide range of searchable parameters (bounding box, polygon, dates, keyword, ...)\n",
    "- It returns detailed information regarding the properties of datasets, file,\n",
    "- as well as various download links (file, thumbnail, xml descriptions, ...).\n",
    "\n",
    "We've created a thin wrapper to expose this treasure trove. \n",
    "\n",
    "- For more details about TNM, see https://apps.nationalmap.gov/tnmaccess/#/\n",
    "- The same data is also downloable using https://apps.nationalmap.gov/downloader/"
   ]
  },
  {
   "cell_type": "code",
   "execution_count": null,
   "id": "da9c92de",
   "metadata": {},
   "outputs": [],
   "source": [
    "%pip install -q leafmap"
   ]
  },
  {
   "cell_type": "code",
   "execution_count": null,
   "id": "22879c75",
   "metadata": {},
   "outputs": [],
   "source": [
    "import leafmap"
   ]
  },
  {
   "cell_type": "markdown",
   "id": "d0f6df56",
   "metadata": {},
   "source": [
    "### Usage\n",
    "\n",
    "A class groups the functionalities together."
   ]
  },
  {
   "cell_type": "code",
   "execution_count": null,
   "id": "4c828acd",
   "metadata": {},
   "outputs": [],
   "source": [
    "TNM = leafmap.The_national_map_USGS()"
   ]
  },
  {
   "cell_type": "markdown",
   "id": "9a973f4f",
   "metadata": {},
   "source": [
    "### Datasets"
   ]
  },
  {
   "cell_type": "code",
   "execution_count": null,
   "id": "00695ffd",
   "metadata": {},
   "outputs": [],
   "source": [
    "TNM.datasets"
   ]
  },
  {
   "cell_type": "markdown",
   "id": "b8b51512",
   "metadata": {},
   "source": [
    "### Formats\n",
    "\n",
    "Note that any format (f.e. 'All') is specific to one or more datasets."
   ]
  },
  {
   "cell_type": "code",
   "execution_count": null,
   "id": "450869df",
   "metadata": {},
   "outputs": [],
   "source": [
    "TNM.prodFormats"
   ]
  },
  {
   "cell_type": "markdown",
   "id": "6af9c7ce",
   "metadata": {},
   "source": [
    "### Looking for files"
   ]
  },
  {
   "cell_type": "code",
   "execution_count": null,
   "id": "cd91ae7f",
   "metadata": {},
   "outputs": [],
   "source": [
    "TNM.find_details().keys(), TNM.find_details()['total']"
   ]
  },
  {
   "cell_type": "markdown",
   "id": "87899c44",
   "metadata": {},
   "source": [
    "### A detail"
   ]
  },
  {
   "cell_type": "code",
   "execution_count": null,
   "id": "e4b936dd",
   "metadata": {},
   "outputs": [],
   "source": [
    "TNM.find_details()['items'][0]"
   ]
  },
  {
   "cell_type": "markdown",
   "id": "a3a6fd5c",
   "metadata": {},
   "source": [
    "### Using parameters"
   ]
  },
  {
   "cell_type": "code",
   "execution_count": null,
   "id": "1e3974a1",
   "metadata": {},
   "outputs": [],
   "source": [
    "params = {\n",
    "    'q': 'National Elevation Dataset (NED) 1/3 arc-second',\n",
    "    'polyCode': '01010002',\n",
    "    'polyType': 'huc8',\n",
    "}\n",
    "\n",
    "TNM.find_details(**params)['total']"
   ]
  },
  {
   "cell_type": "code",
   "execution_count": null,
   "id": "e664fa5a",
   "metadata": {},
   "outputs": [],
   "source": [
    "params = {\n",
    "    'prodFormats': 'LAS,LAZ',\n",
    "    'datasets': 'Lidar Point Cloud (LPC)',\n",
    "    'polygon': [\n",
    "        (-104.94262695312236, 41.52867510196275),\n",
    "        (-102.83325195312291, 40.45065268246805),\n",
    "        (-104.94262695312236, 40.45065268246805),\n",
    "        (-104.94262695312236, 41.52867510196275),\n",
    "    ],\n",
    "}\n",
    "\n",
    "TNM.find_details(**params)['total']"
   ]
  },
  {
   "cell_type": "markdown",
   "id": "c307fb27",
   "metadata": {},
   "source": [
    "Available parameters"
   ]
  },
  {
   "cell_type": "code",
   "execution_count": null,
   "id": "cca36eb2",
   "metadata": {},
   "outputs": [],
   "source": [
    "help(TNM.find_details)"
   ]
  },
  {
   "cell_type": "markdown",
   "id": "fa6a3ae5",
   "metadata": {},
   "source": [
    "### Max items\n",
    "\n",
    "Defaults to about 50. You only retrieve about 1000 items in one call."
   ]
  },
  {
   "cell_type": "code",
   "execution_count": null,
   "id": "e17bbf82",
   "metadata": {},
   "outputs": [],
   "source": [
    "len(TNM.find_details()['items'])"
   ]
  },
  {
   "cell_type": "code",
   "execution_count": null,
   "id": "07cfb477",
   "metadata": {},
   "outputs": [],
   "source": [
    "len(TNM.find_details(max=1000000)['items'])"
   ]
  },
  {
   "cell_type": "markdown",
   "id": "be2cab20",
   "metadata": {},
   "source": [
    "Use offset to retrieve more batches."
   ]
  },
  {
   "cell_type": "code",
   "execution_count": null,
   "id": "0bd76a46",
   "metadata": {},
   "outputs": [],
   "source": [
    "params = {\n",
    "    'q': 'National Elevation Dataset (NED) 1/3 arc-second',\n",
    "    'polyCode': '01010002',\n",
    "    'polyType': 'huc8',\n",
    "    'max': 2,\n",
    "}\n",
    "\n",
    "TNM.find_details(**params, offset=0)['items'][0] == TNM.find_details(\n",
    "    **params, offset=1\n",
    ")['items'][0]"
   ]
  },
  {
   "cell_type": "markdown",
   "id": "7723f8a7",
   "metadata": {},
   "source": [
    "### Select a region from leafmap"
   ]
  },
  {
   "cell_type": "code",
   "execution_count": null,
   "id": "faf15d2c",
   "metadata": {},
   "outputs": [],
   "source": [
    "m = leafmap.Map(center=[40, -100], zoom=4)\n",
    "m"
   ]
  },
  {
   "cell_type": "code",
   "execution_count": null,
   "id": "f05da072",
   "metadata": {},
   "outputs": [],
   "source": [
    "region = m.user_roi_bounds()\n",
    "if region is None:\n",
    "    region = [-115.9689, 35.9758, -115.3619, 36.4721]"
   ]
  },
  {
   "cell_type": "code",
   "execution_count": null,
   "id": "f43f8854",
   "metadata": {},
   "outputs": [],
   "source": [
    "TNM.find_details(q='LAZ', bbox=region)['total']"
   ]
  },
  {
   "cell_type": "markdown",
   "id": "cf0fac38",
   "metadata": {},
   "source": [
    "### Error handling"
   ]
  },
  {
   "cell_type": "code",
   "execution_count": null,
   "id": "7fcbd04c",
   "metadata": {},
   "outputs": [],
   "source": [
    "bool(TNM.find_details(start=\"01-01-2010\", q=\"NED\", bbox=region))"
   ]
  },
  {
   "cell_type": "code",
   "execution_count": null,
   "id": "2e68930a",
   "metadata": {},
   "outputs": [],
   "source": [
    "bool(TNM.find_details(start='2021-12-01', end='2020-01-01', q='NED', bbox=region))"
   ]
  },
  {
   "cell_type": "code",
   "execution_count": null,
   "id": "3f739e4a",
   "metadata": {},
   "outputs": [],
   "source": [
    "bool(TNM.find_details(start='2021-12-01', end='2022-01-01', q='NED', bbox=region))"
   ]
  },
  {
   "cell_type": "code",
   "execution_count": null,
   "id": "ff49f59b",
   "metadata": {},
   "outputs": [],
   "source": [
    "bool(\n",
    "    TNM.find_details(\n",
    "        start='2020-12-01',\n",
    "        end='2022-01-01',\n",
    "        q='NED',\n",
    "        dateType='dateCreated',\n",
    "        bbox=region,\n",
    "    )\n",
    ")"
   ]
  },
  {
   "cell_type": "markdown",
   "id": "426e3215",
   "metadata": {},
   "source": [
    "### Downloading files"
   ]
  },
  {
   "cell_type": "code",
   "execution_count": null,
   "id": "49c6f0ea",
   "metadata": {},
   "outputs": [],
   "source": [
    "help(TNM.download_tiles)"
   ]
  },
  {
   "cell_type": "code",
   "execution_count": null,
   "id": "bc042e6a",
   "metadata": {},
   "outputs": [],
   "source": [
    "params = {\n",
    "    'q': 'National Elevation Dataset (NED) 1/3 arc-second',\n",
    "    'polyCode': '01010002',\n",
    "    'polyType': 'huc8',\n",
    "    'max': 0,\n",
    "}\n",
    "\n",
    "TNM.download_tiles(API=params)"
   ]
  },
  {
   "cell_type": "markdown",
   "id": "ef37b97e",
   "metadata": {},
   "source": [
    "It can also be accessed without invoking the class."
   ]
  },
  {
   "cell_type": "code",
   "execution_count": null,
   "id": "53e851fa",
   "metadata": {},
   "outputs": [],
   "source": [
    "params = {\n",
    "    'q': 'National Elevation Dataset (NED) 1/3 arc-second',\n",
    "    'polyCode': '01010002',\n",
    "    'polyType': 'huc8',\n",
    "    'max': 0,\n",
    "}\n",
    "\n",
    "leafmap.download_tnm(API=params)"
   ]
  },
  {
   "cell_type": "code",
   "execution_count": null,
   "id": "67a96480",
   "metadata": {},
   "outputs": [],
   "source": [
    "region = [-115.9689, 35.9758, -115.3619, 36.4721]\n",
    "\n",
    "leafmap.download_ned(region=region, return_url=True) == leafmap.download_tnm(\n",
    "    region=region, return_url=True, API={'q': 'NED'}\n",
    ")"
   ]
  },
  {
   "cell_type": "markdown",
   "id": "d1804a63",
   "metadata": {},
   "source": [
    "### List of files"
   ]
  },
  {
   "cell_type": "code",
   "execution_count": null,
   "id": "215a40aa",
   "metadata": {},
   "outputs": [],
   "source": [
    "TNM.find_tiles(API=params)"
   ]
  },
  {
   "cell_type": "markdown",
   "id": "73dffca0",
   "metadata": {},
   "source": [
    "### Dataset metadata"
   ]
  },
  {
   "cell_type": "code",
   "execution_count": null,
   "id": "da8b1a7b",
   "metadata": {},
   "outputs": [],
   "source": [
    "TNM.datasets_full[0]"
   ]
  },
  {
   "cell_type": "markdown",
   "id": "0c2d6f4b",
   "metadata": {},
   "source": [
    "### Read the docs"
   ]
  },
  {
   "cell_type": "code",
   "execution_count": null,
   "id": "cece3cd8",
   "metadata": {},
   "outputs": [],
   "source": [
    "help(TNM)"
   ]
  }
 ],
 "metadata": {
  "kernelspec": {
   "display_name": "Python (Pyodide)",
   "language": "python",
   "name": "python3"
  }
 },
 "nbformat": 4,
 "nbformat_minor": 5
}
