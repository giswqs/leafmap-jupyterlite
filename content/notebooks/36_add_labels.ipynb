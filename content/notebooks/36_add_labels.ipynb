{
 "cells": [
  {
   "cell_type": "markdown",
   "id": "8478e4d3",
   "metadata": {},
   "source": [
    "[![image](https://jupyterlite.rtfd.io/en/latest/_static/badge.svg)](https://demo.leafmap.org/lab/index.html?path=notebooks/36_add_labels.ipynb)\n",
    "<a href=\"https://githubtocolab.com/giswqs/leafmap/blob/master/examples/notebooks/36_add_labels.ipynb\" target=\"_parent\"><img src=\"https://colab.research.google.com/assets/colab-badge.svg\" alt=\"Open in Colab\"/></a>"
   ]
  },
  {
   "cell_type": "code",
   "execution_count": null,
   "id": "8b79de85",
   "metadata": {},
   "outputs": [],
   "source": [
    "%pip install -q leafmap"
   ]
  },
  {
   "cell_type": "code",
   "execution_count": null,
   "id": "24b20208",
   "metadata": {},
   "outputs": [],
   "source": [
    "import leafmap"
   ]
  },
  {
   "cell_type": "markdown",
   "id": "7e89ae95",
   "metadata": {},
   "source": [
    "Update the package if needed."
   ]
  },
  {
   "cell_type": "code",
   "execution_count": null,
   "id": "e54e8853",
   "metadata": {},
   "outputs": [],
   "source": []
  },
  {
   "cell_type": "markdown",
   "id": "06cbc874",
   "metadata": {},
   "source": [
    "Create an interactive map."
   ]
  },
  {
   "cell_type": "code",
   "execution_count": null,
   "id": "68cf0c06",
   "metadata": {},
   "outputs": [],
   "source": [
    "data = \"https://raw.githubusercontent.com/giswqs/leafmap/master/examples/data/us_states.json\""
   ]
  },
  {
   "cell_type": "code",
   "execution_count": null,
   "id": "88d5ab7e",
   "metadata": {},
   "outputs": [],
   "source": [
    "Map = leafmap.Map(center=[40, -100], zoom=4, add_google_map=False, layers_control=True)"
   ]
  },
  {
   "cell_type": "markdown",
   "id": "29948325",
   "metadata": {},
   "source": [
    "Labeling data."
   ]
  },
  {
   "cell_type": "code",
   "execution_count": null,
   "id": "48fcff3b",
   "metadata": {},
   "outputs": [],
   "source": [
    "Map.add_labels(\n",
    "    data,\n",
    "    \"id\",\n",
    "    font_size=\"12pt\",\n",
    "    font_color=\"blue\",\n",
    "    font_family=\"arial\",\n",
    "    font_weight=\"bold\",\n",
    ")\n",
    "Map"
   ]
  },
  {
   "cell_type": "markdown",
   "id": "af271bed",
   "metadata": {},
   "source": [
    "Remove labels"
   ]
  },
  {
   "cell_type": "code",
   "execution_count": null,
   "id": "df28f2b5",
   "metadata": {},
   "outputs": [],
   "source": [
    "Map.remove_labels()"
   ]
  },
  {
   "cell_type": "markdown",
   "id": "a9e520ef",
   "metadata": {},
   "source": [
    "![](https://i.imgur.com/lELtitr.gif)"
   ]
  }
 ],
 "metadata": {
  "kernelspec": {
   "display_name": "Python (Pyodide)",
   "language": "python",
   "name": "python3"
  }
 },
 "nbformat": 4,
 "nbformat_minor": 5
}
