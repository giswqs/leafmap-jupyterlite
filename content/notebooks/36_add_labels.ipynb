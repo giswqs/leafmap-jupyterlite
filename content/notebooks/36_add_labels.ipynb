{
 "cells": [
  {
   "cell_type": "markdown",
   "id": "36fbdc54",
   "metadata": {},
   "source": [
    "[![image](https://jupyterlite.rtfd.io/en/latest/_static/badge.svg)](https://demo.leafmap.org/lab/index.html?path=notebooks/36_add_labels.ipynb)\n",
    "<a href=\"https://githubtocolab.com/giswqs/leafmap/blob/master/examples/notebooks/36_add_labels.ipynb\" target=\"_parent\"><img src=\"https://colab.research.google.com/assets/colab-badge.svg\" alt=\"Open in Colab\"/></a>"
   ]
  },
  {
   "cell_type": "code",
   "execution_count": null,
   "id": "64cf5ddc",
   "metadata": {},
   "outputs": [],
   "source": [
    "%pip install -q leafmap"
   ]
  },
  {
   "cell_type": "code",
   "execution_count": null,
   "id": "dbdfa371",
   "metadata": {},
   "outputs": [],
   "source": [
    "import leafmap"
   ]
  },
  {
   "cell_type": "markdown",
   "id": "19141e48",
   "metadata": {},
   "source": [
    "Update the package if needed."
   ]
  },
  {
   "cell_type": "code",
   "execution_count": null,
   "id": "4364d219",
   "metadata": {},
   "outputs": [],
   "source": [
    "# leafmap.update_package()"
   ]
  },
  {
   "cell_type": "markdown",
   "id": "c9f14607",
   "metadata": {},
   "source": [
    "Create an interactive map."
   ]
  },
  {
   "cell_type": "code",
   "execution_count": null,
   "id": "5ca1d72b",
   "metadata": {},
   "outputs": [],
   "source": [
    "data = \"https://raw.githubusercontent.com/giswqs/leafmap/master/examples/data/us_states.json\""
   ]
  },
  {
   "cell_type": "code",
   "execution_count": null,
   "id": "8c4375dd",
   "metadata": {},
   "outputs": [],
   "source": [
    "Map = leafmap.Map(center=[40, -100], zoom=4, add_google_map=False, layers_control=True)"
   ]
  },
  {
   "cell_type": "markdown",
   "id": "ce4eb481",
   "metadata": {},
   "source": [
    "Labeling data."
   ]
  },
  {
   "cell_type": "code",
   "execution_count": null,
   "id": "1491e26c",
   "metadata": {},
   "outputs": [],
   "source": [
    "Map.add_labels(\n",
    "    data,\n",
    "    \"id\",\n",
    "    font_size=\"12pt\",\n",
    "    font_color=\"blue\",\n",
    "    font_family=\"arial\",\n",
    "    font_weight=\"bold\",\n",
    ")\n",
    "Map"
   ]
  },
  {
   "cell_type": "markdown",
   "id": "6c2e49cd",
   "metadata": {},
   "source": [
    "Remove labels"
   ]
  },
  {
   "cell_type": "code",
   "execution_count": null,
   "id": "2327216a",
   "metadata": {},
   "outputs": [],
   "source": [
    "Map.remove_labels()"
   ]
  },
  {
   "cell_type": "markdown",
   "id": "904adf85",
   "metadata": {},
   "source": [
    "![](https://i.imgur.com/lELtitr.gif)"
   ]
  }
 ],
 "metadata": {
  "kernelspec": {
   "display_name": "Python 3",
   "language": "python",
   "name": "python3"
  }
 },
 "nbformat": 4,
 "nbformat_minor": 5
}
