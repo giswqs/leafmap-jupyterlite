{
 "cells": [
  {
   "cell_type": "markdown",
   "id": "4c3a67a6",
   "metadata": {},
   "source": [
    "[![image](https://mybinder.org/badge_logo.svg)](https://gishub.org/leafmap-binder)"
   ]
  },
  {
   "cell_type": "code",
   "execution_count": null,
   "id": "207dd093",
   "metadata": {},
   "outputs": [],
   "source": [
    "%pip install -q leafmap"
   ]
  },
  {
   "cell_type": "code",
   "execution_count": null,
   "id": "2be4be87",
   "metadata": {},
   "outputs": [],
   "source": [
    "import leafmap.kepler as leafmap"
   ]
  },
  {
   "cell_type": "markdown",
   "id": "8218b6a4",
   "metadata": {},
   "source": [
    "Create an interactive map. You can specify various parameters to initialize the map, such as `center`, `zoom`, `height`, and `widescreen`."
   ]
  },
  {
   "cell_type": "code",
   "execution_count": null,
   "id": "8d4340d3",
   "metadata": {},
   "outputs": [],
   "source": [
    "m = leafmap.Map(center=[40, -100], zoom=2, height=600, widescreen=False)\n",
    "m"
   ]
  },
  {
   "cell_type": "markdown",
   "id": "fc0b228a",
   "metadata": {},
   "source": [
    "Save the map to an interactive html. To hide the side panel and disable map customization. Set `read_only=False`"
   ]
  },
  {
   "cell_type": "code",
   "execution_count": null,
   "id": "d2ad2f28",
   "metadata": {},
   "outputs": [],
   "source": [
    "m.to_html(outfile=\"../html/kepler.html\", read_only=False)"
   ]
  },
  {
   "cell_type": "markdown",
   "id": "a7814d9d",
   "metadata": {},
   "source": [
    "Display the interactive map in a notebook cell."
   ]
  },
  {
   "cell_type": "code",
   "execution_count": null,
   "id": "62315c87",
   "metadata": {},
   "outputs": [],
   "source": [
    "# m.static_map(width=950, height=600, read_only=True)"
   ]
  },
  {
   "cell_type": "markdown",
   "id": "09232a52",
   "metadata": {},
   "source": [
    "Add a CSV to the map. If you have a map config file, you can directly apply config to the map."
   ]
  },
  {
   "cell_type": "code",
   "execution_count": null,
   "id": "d778e064",
   "metadata": {},
   "outputs": [],
   "source": [
    "m = leafmap.Map(center=[37.7621, -122.4143], zoom=12)\n",
    "in_csv = (\n",
    "    'https://raw.githubusercontent.com/giswqs/leafmap/master/examples/data/hex_data.csv'\n",
    ")\n",
    "config = 'https://raw.githubusercontent.com/giswqs/leafmap/master/examples/data/hex_config.json'\n",
    "m.add_csv(in_csv, layer_name=\"hex_data\", config=config)\n",
    "m"
   ]
  },
  {
   "cell_type": "markdown",
   "id": "e6a47741",
   "metadata": {},
   "source": [
    "Save the map configuration as a JSON file."
   ]
  },
  {
   "cell_type": "code",
   "execution_count": null,
   "id": "ec5c3778",
   "metadata": {},
   "outputs": [],
   "source": [
    "m.save_config(\"cache/config.json\")"
   ]
  },
  {
   "cell_type": "markdown",
   "id": "ea7088fe",
   "metadata": {},
   "source": [
    "Save the map to an interactive html."
   ]
  },
  {
   "cell_type": "code",
   "execution_count": null,
   "id": "db4102ae",
   "metadata": {},
   "outputs": [],
   "source": [
    "m.to_html(outfile=\"../html/kepler_hex.html\")"
   ]
  },
  {
   "cell_type": "markdown",
   "id": "5df014ac",
   "metadata": {},
   "source": [
    "Add a GeoJSON to the map."
   ]
  },
  {
   "cell_type": "code",
   "execution_count": null,
   "id": "ac65c6a8",
   "metadata": {},
   "outputs": [],
   "source": [
    "m = leafmap.Map(center=[20, 0], zoom=1)\n",
    "lines = 'https://raw.githubusercontent.com/giswqs/leafmap/master/examples/data/cable_geo.geojson'\n",
    "m.add_geojson(lines, layer_name=\"Cable lines\")\n",
    "m"
   ]
  },
  {
   "cell_type": "code",
   "execution_count": null,
   "id": "d6d6e2bf",
   "metadata": {},
   "outputs": [],
   "source": [
    "m.to_html(\"../html/kepler_lines.html\")"
   ]
  },
  {
   "cell_type": "markdown",
   "id": "4df4d56b",
   "metadata": {},
   "source": [
    "Add a GeoJSON with US state boundaries to the map."
   ]
  },
  {
   "cell_type": "code",
   "execution_count": null,
   "id": "85c40fa7",
   "metadata": {},
   "outputs": [],
   "source": [
    "m = leafmap.Map(center=[50, -110], zoom=2)\n",
    "polygons = 'https://raw.githubusercontent.com/giswqs/leafmap/master/examples/data/us_states.json'\n",
    "m.add_geojson(polygons, layer_name=\"Countries\")\n",
    "m"
   ]
  },
  {
   "cell_type": "code",
   "execution_count": null,
   "id": "3422f400",
   "metadata": {},
   "outputs": [],
   "source": [
    "m.to_html(\"../html/kepler_states.html\")"
   ]
  },
  {
   "cell_type": "markdown",
   "id": "252b77b1",
   "metadata": {},
   "source": [
    "Add a shapefile to the map."
   ]
  },
  {
   "cell_type": "code",
   "execution_count": null,
   "id": "2ac9c3ce",
   "metadata": {},
   "outputs": [],
   "source": [
    "m = leafmap.Map(center=[20, 0], zoom=1)\n",
    "in_shp = \"https://github.com/giswqs/leafmap/raw/master/examples/data/countries.zip\"\n",
    "m.add_shp(in_shp, \"Countries\")\n",
    "m"
   ]
  },
  {
   "cell_type": "code",
   "execution_count": null,
   "id": "3237ad22",
   "metadata": {},
   "outputs": [],
   "source": [
    "m.to_html(\"../html/kepler_countries.html\")"
   ]
  },
  {
   "cell_type": "markdown",
   "id": "7df7bfbb",
   "metadata": {},
   "source": [
    "Add a GeoPandas GeoDataFrame to the map."
   ]
  },
  {
   "cell_type": "code",
   "execution_count": null,
   "id": "681f5696",
   "metadata": {},
   "outputs": [],
   "source": [
    "import geopandas as gpd"
   ]
  },
  {
   "cell_type": "code",
   "execution_count": null,
   "id": "65e3fef1",
   "metadata": {},
   "outputs": [],
   "source": [
    "gdf = gpd.read_file(\n",
    "    \"https://raw.githubusercontent.com/giswqs/leafmap/master/examples/data/world_cities.geojson\"\n",
    ")"
   ]
  },
  {
   "cell_type": "code",
   "execution_count": null,
   "id": "6520078d",
   "metadata": {},
   "outputs": [],
   "source": [
    "gdf"
   ]
  },
  {
   "cell_type": "code",
   "execution_count": null,
   "id": "fc60b807",
   "metadata": {},
   "outputs": [],
   "source": [
    "m = leafmap.Map(center=[20, 0], zoom=1)\n",
    "m.add_gdf(gdf, \"World cities\")\n",
    "m"
   ]
  },
  {
   "cell_type": "code",
   "execution_count": null,
   "id": "c2158c44",
   "metadata": {},
   "outputs": [],
   "source": [
    "m.to_html(\"../html/kepler_cities.html\")"
   ]
  }
 ],
 "metadata": {
  "kernelspec": {
   "display_name": "Python (Pyodide)",
   "language": "python",
   "name": "python3"
  }
 },
 "nbformat": 4,
 "nbformat_minor": 5
}
