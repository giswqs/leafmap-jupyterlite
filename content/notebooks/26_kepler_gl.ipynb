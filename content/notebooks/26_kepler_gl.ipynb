{
 "cells": [
  {
   "cell_type": "markdown",
   "id": "055b4a7f",
   "metadata": {},
   "source": [
    "[![image](https://mybinder.org/badge_logo.svg)](https://gishub.org/leafmap-binder)"
   ]
  },
  {
   "cell_type": "code",
   "execution_count": null,
   "id": "438eb407",
   "metadata": {},
   "outputs": [],
   "source": [
    "%pip install -q leafmap"
   ]
  },
  {
   "cell_type": "code",
   "execution_count": null,
   "id": "32add784",
   "metadata": {},
   "outputs": [],
   "source": [
    "import leafmap.kepler as leafmap"
   ]
  },
  {
   "cell_type": "markdown",
   "id": "57f16636",
   "metadata": {},
   "source": [
    "Create an interactive map. You can specify various parameters to initialize the map, such as `center`, `zoom`, `height`, and `widescreen`."
   ]
  },
  {
   "cell_type": "code",
   "execution_count": null,
   "id": "5f4e3f1e",
   "metadata": {},
   "outputs": [],
   "source": [
    "m = leafmap.Map(center=[40, -100], zoom=2, height=600, widescreen=False)\n",
    "m"
   ]
  },
  {
   "cell_type": "markdown",
   "id": "60878e2a",
   "metadata": {},
   "source": [
    "Save the map to an interactive html. To hide the side panel and disable map customization. Set `read_only=False`"
   ]
  },
  {
   "cell_type": "code",
   "execution_count": null,
   "id": "597a4768",
   "metadata": {},
   "outputs": [],
   "source": [
    "m.to_html(outfile=\"../html/kepler.html\", read_only=False)"
   ]
  },
  {
   "cell_type": "markdown",
   "id": "57fd6790",
   "metadata": {},
   "source": [
    "Display the interactive map in a notebook cell."
   ]
  },
  {
   "cell_type": "code",
   "execution_count": null,
   "id": "f778644d",
   "metadata": {},
   "outputs": [],
   "source": [
    "# m.static_map(width=950, height=600, read_only=True)"
   ]
  },
  {
   "cell_type": "markdown",
   "id": "f9a644c6",
   "metadata": {},
   "source": [
    "Add a CSV to the map. If you have a map config file, you can directly apply config to the map."
   ]
  },
  {
   "cell_type": "code",
   "execution_count": null,
   "id": "efae65e8",
   "metadata": {},
   "outputs": [],
   "source": [
    "m = leafmap.Map(center=[37.7621, -122.4143], zoom=12)\n",
    "in_csv = (\n",
    "    'https://raw.githubusercontent.com/giswqs/leafmap/master/examples/data/hex_data.csv'\n",
    ")\n",
    "config = 'https://raw.githubusercontent.com/giswqs/leafmap/master/examples/data/hex_config.json'\n",
    "m.add_csv(in_csv, layer_name=\"hex_data\", config=config)\n",
    "m"
   ]
  },
  {
   "cell_type": "markdown",
   "id": "28b83599",
   "metadata": {},
   "source": [
    "Save the map configuration as a JSON file."
   ]
  },
  {
   "cell_type": "code",
   "execution_count": null,
   "id": "c140d87f",
   "metadata": {},
   "outputs": [],
   "source": [
    "m.save_config(\"cache/config.json\")"
   ]
  },
  {
   "cell_type": "markdown",
   "id": "9c58628b",
   "metadata": {},
   "source": [
    "Save the map to an interactive html."
   ]
  },
  {
   "cell_type": "code",
   "execution_count": null,
   "id": "37530691",
   "metadata": {},
   "outputs": [],
   "source": [
    "m.to_html(outfile=\"../html/kepler_hex.html\")"
   ]
  },
  {
   "cell_type": "markdown",
   "id": "1ee60b9e",
   "metadata": {},
   "source": [
    "Add a GeoJSON to the map."
   ]
  },
  {
   "cell_type": "code",
   "execution_count": null,
   "id": "dd20ca2c",
   "metadata": {},
   "outputs": [],
   "source": [
    "m = leafmap.Map(center=[20, 0], zoom=1)\n",
    "lines = 'https://raw.githubusercontent.com/giswqs/leafmap/master/examples/data/cable_geo.geojson'\n",
    "m.add_geojson(lines, layer_name=\"Cable lines\")\n",
    "m"
   ]
  },
  {
   "cell_type": "code",
   "execution_count": null,
   "id": "bcf7103e",
   "metadata": {},
   "outputs": [],
   "source": [
    "m.to_html(\"../html/kepler_lines.html\")"
   ]
  },
  {
   "cell_type": "markdown",
   "id": "87468b14",
   "metadata": {},
   "source": [
    "Add a GeoJSON with US state boundaries to the map."
   ]
  },
  {
   "cell_type": "code",
   "execution_count": null,
   "id": "c9dd10f1",
   "metadata": {},
   "outputs": [],
   "source": [
    "m = leafmap.Map(center=[50, -110], zoom=2)\n",
    "polygons = 'https://raw.githubusercontent.com/giswqs/leafmap/master/examples/data/us_states.json'\n",
    "m.add_geojson(polygons, layer_name=\"Countries\")\n",
    "m"
   ]
  },
  {
   "cell_type": "code",
   "execution_count": null,
   "id": "7ad1c546",
   "metadata": {},
   "outputs": [],
   "source": [
    "m.to_html(\"../html/kepler_states.html\")"
   ]
  },
  {
   "cell_type": "markdown",
   "id": "d8405045",
   "metadata": {},
   "source": [
    "Add a shapefile to the map."
   ]
  },
  {
   "cell_type": "code",
   "execution_count": null,
   "id": "7dd2587e",
   "metadata": {},
   "outputs": [],
   "source": [
    "m = leafmap.Map(center=[20, 0], zoom=1)\n",
    "in_shp = \"https://github.com/giswqs/leafmap/raw/master/examples/data/countries.zip\"\n",
    "m.add_shp(in_shp, \"Countries\")\n",
    "m"
   ]
  },
  {
   "cell_type": "code",
   "execution_count": null,
   "id": "790f40db",
   "metadata": {},
   "outputs": [],
   "source": [
    "m.to_html(\"../html/kepler_countries.html\")"
   ]
  },
  {
   "cell_type": "markdown",
   "id": "bf1f9819",
   "metadata": {},
   "source": [
    "Add a GeoPandas GeoDataFrame to the map."
   ]
  },
  {
   "cell_type": "code",
   "execution_count": null,
   "id": "c3b2cf71",
   "metadata": {},
   "outputs": [],
   "source": [
    "import geopandas as gpd"
   ]
  },
  {
   "cell_type": "code",
   "execution_count": null,
   "id": "0420e2fd",
   "metadata": {},
   "outputs": [],
   "source": [
    "gdf = gpd.read_file(\n",
    "    \"https://raw.githubusercontent.com/giswqs/leafmap/master/examples/data/world_cities.geojson\"\n",
    ")"
   ]
  },
  {
   "cell_type": "code",
   "execution_count": null,
   "id": "1c638ff6",
   "metadata": {},
   "outputs": [],
   "source": [
    "gdf"
   ]
  },
  {
   "cell_type": "code",
   "execution_count": null,
   "id": "474e0e97",
   "metadata": {},
   "outputs": [],
   "source": [
    "m = leafmap.Map(center=[20, 0], zoom=1)\n",
    "m.add_gdf(gdf, \"World cities\")\n",
    "m"
   ]
  },
  {
   "cell_type": "code",
   "execution_count": null,
   "id": "8ed37dab",
   "metadata": {},
   "outputs": [],
   "source": [
    "m.to_html(\"../html/kepler_cities.html\")"
   ]
  }
 ],
 "metadata": {
  "kernelspec": {
   "display_name": "Python (Pyodide)",
   "language": "python",
   "name": "python"
  }
 },
 "nbformat": 4,
 "nbformat_minor": 5
}
