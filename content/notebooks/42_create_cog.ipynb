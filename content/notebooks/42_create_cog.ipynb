{
 "cells": [
  {
   "cell_type": "markdown",
   "id": "f7479ccc",
   "metadata": {},
   "source": [
    "[![image](https://jupyterlite.rtfd.io/en/latest/_static/badge.svg)](https://demo.leafmap.org/lab/index.html?path=notebooks/42_create_cog.ipynb)\n",
    "[![image](https://colab.research.google.com/assets/colab-badge.svg)](https://githubtocolab.com/giswqs/leafmap/blob/master/examples/notebooks/42_create_cog.ipynb)\n",
    "[![image](https://mybinder.org/badge_logo.svg)](https://gishub.org/leafmap-binder)"
   ]
  },
  {
   "cell_type": "code",
   "execution_count": null,
   "id": "91e8329c",
   "metadata": {},
   "outputs": [],
   "source": [
    "%pip install -q leafmap"
   ]
  },
  {
   "cell_type": "code",
   "execution_count": null,
   "id": "9bbc3c7c",
   "metadata": {},
   "outputs": [],
   "source": [
    "import leafmap"
   ]
  },
  {
   "cell_type": "markdown",
   "id": "92e23c92",
   "metadata": {},
   "source": [
    "Provide a dataset path or URL."
   ]
  },
  {
   "cell_type": "code",
   "execution_count": null,
   "id": "2c93dd6a",
   "metadata": {},
   "outputs": [],
   "source": [
    "url = \"https://github.com/giswqs/data/raw/main/raster/srtm90.tif\""
   ]
  },
  {
   "cell_type": "markdown",
   "id": "56db94aa",
   "metadata": {},
   "source": [
    "Validate COG."
   ]
  },
  {
   "cell_type": "code",
   "execution_count": null,
   "id": "f7151de2",
   "metadata": {},
   "outputs": [],
   "source": [
    "leafmap.cog_validate(url)"
   ]
  },
  {
   "cell_type": "code",
   "execution_count": null,
   "id": "15107951",
   "metadata": {},
   "outputs": [],
   "source": [
    "leafmap.cog_validate(url, verbose=True)"
   ]
  },
  {
   "cell_type": "markdown",
   "id": "fd66e15e",
   "metadata": {},
   "source": [
    "Convert the image to tiled COG."
   ]
  },
  {
   "cell_type": "code",
   "execution_count": null,
   "id": "1480f151",
   "metadata": {},
   "outputs": [],
   "source": [
    "out_cog = \"cog.tif\"\n",
    "leafmap.image_to_cog(url, out_cog)"
   ]
  },
  {
   "cell_type": "markdown",
   "id": "6e34c8d9",
   "metadata": {},
   "source": [
    "Validate COG."
   ]
  },
  {
   "cell_type": "code",
   "execution_count": null,
   "id": "154e66af",
   "metadata": {},
   "outputs": [],
   "source": [
    "leafmap.cog_validate(out_cog)"
   ]
  },
  {
   "cell_type": "code",
   "execution_count": null,
   "id": "4f625255",
   "metadata": {},
   "outputs": [],
   "source": [
    "leafmap.cog_validate(out_cog, verbose=True)"
   ]
  },
  {
   "cell_type": "markdown",
   "id": "090d14a2",
   "metadata": {},
   "source": [
    "Add COG to map."
   ]
  },
  {
   "cell_type": "code",
   "execution_count": null,
   "id": "860a8aea",
   "metadata": {},
   "outputs": [],
   "source": [
    "m = leafmap.Map()\n",
    "m.add_raster(out_cog, palette=\"terrain\", layer_name=\"Local COG\")\n",
    "m.add_cog_layer(url, palette=\"gist_earth\", name=\"Remote COG\")\n",
    "m"
   ]
  }
 ],
 "metadata": {
  "kernelspec": {
   "display_name": "Python 3 (ipykernel)",
   "language": "python",
   "name": "python3"
  }
 },
 "nbformat": 4,
 "nbformat_minor": 5
}
