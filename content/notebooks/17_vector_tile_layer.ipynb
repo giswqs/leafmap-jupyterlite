{
 "cells": [
  {
   "cell_type": "markdown",
   "id": "eec59821",
   "metadata": {},
   "source": [
    "[![image](https://jupyterlite.rtfd.io/en/latest/_static/badge.svg)](https://demo.leafmap.org/lab/index.html?path=notebooks/17_vector_tile_layer.ipynb)\n",
    "[![image](https://colab.research.google.com/assets/colab-badge.svg)](https://githubtocolab.com/giswqs/leafmap/blob/master/examples/notebooks/17_vector_tile_layer.ipynb)\n",
    "[![image](https://mybinder.org/badge_logo.svg)](https://gishub.org/leafmap-binder)\n",
    "\n",
    "**Adding a vector tile layer to the map**"
   ]
  },
  {
   "cell_type": "code",
   "execution_count": null,
   "id": "b6d9c0b5",
   "metadata": {},
   "outputs": [],
   "source": [
    "%pip install -q leafmap"
   ]
  },
  {
   "cell_type": "markdown",
   "id": "45939569",
   "metadata": {},
   "source": [
    "This notebook example requires the ipyleaflet plotting backend. Folium is not supported."
   ]
  },
  {
   "cell_type": "code",
   "execution_count": null,
   "id": "da79b15b",
   "metadata": {},
   "outputs": [],
   "source": [
    "from leafmap import leafmap"
   ]
  },
  {
   "cell_type": "markdown",
   "id": "9bb0c814",
   "metadata": {},
   "source": [
    "Create an interactive map."
   ]
  },
  {
   "cell_type": "code",
   "execution_count": null,
   "id": "24f99977",
   "metadata": {},
   "outputs": [],
   "source": [
    "m = leafmap.Map()"
   ]
  },
  {
   "cell_type": "markdown",
   "id": "5e4db383",
   "metadata": {},
   "source": [
    "The URL to the vector tile."
   ]
  },
  {
   "cell_type": "code",
   "execution_count": null,
   "id": "4f46bad2",
   "metadata": {},
   "outputs": [],
   "source": [
    "url = 'https://tile.nextzen.org/tilezen/vector/v1/512/all/{z}/{x}/{y}.mvt?api_key=gCZXZglvRQa6sB2z7JzL1w'"
   ]
  },
  {
   "cell_type": "markdown",
   "id": "1268ece6",
   "metadata": {},
   "source": [
    "Attribution of the vector tile."
   ]
  },
  {
   "cell_type": "code",
   "execution_count": null,
   "id": "352dffca",
   "metadata": {},
   "outputs": [],
   "source": [
    "attribution = \"Nextzen\""
   ]
  },
  {
   "cell_type": "markdown",
   "id": "bce08dac",
   "metadata": {},
   "source": [
    "One can customize the vector tile layer style if needed. More info can be found at https://ipyleaflet.readthedocs.io/en/latest/api_reference/vector_tile.html"
   ]
  },
  {
   "cell_type": "code",
   "execution_count": null,
   "id": "181bc84f",
   "metadata": {},
   "outputs": [],
   "source": [
    "vector_tile_layer_styles = {}"
   ]
  },
  {
   "cell_type": "markdown",
   "id": "16cc028b",
   "metadata": {},
   "source": [
    "Add the vector tile layer to the map."
   ]
  },
  {
   "cell_type": "code",
   "execution_count": null,
   "id": "c5bb5b4d",
   "metadata": {},
   "outputs": [],
   "source": [
    "m.add_vector_tile_layer(url, attribution, vector_tile_layer_styles)\n",
    "m"
   ]
  }
 ],
 "metadata": {
  "kernelspec": {
   "display_name": "Python (Pyodide)",
   "language": "python",
   "name": "python"
  }
 },
 "nbformat": 4,
 "nbformat_minor": 5
}
