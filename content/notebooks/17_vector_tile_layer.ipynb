{
 "cells": [
  {
   "cell_type": "markdown",
   "id": "ad44680d",
   "metadata": {},
   "source": [
    "[![image](https://jupyterlite.rtfd.io/en/latest/_static/badge.svg)](https://demo.leafmap.org/lab/index.html?path=notebooks/17_vector_tile_layer.ipynb)\n",
    "[![image](https://colab.research.google.com/assets/colab-badge.svg)](https://githubtocolab.com/giswqs/leafmap/blob/master/examples/notebooks/17_vector_tile_layer.ipynb)\n",
    "[![image](https://mybinder.org/badge_logo.svg)](https://gishub.org/leafmap-binder)\n",
    "\n",
    "**Adding a vector tile layer to the map**"
   ]
  },
  {
   "cell_type": "code",
   "execution_count": null,
   "id": "2a2ca4dc",
   "metadata": {},
   "outputs": [],
   "source": [
    "%pip install -q leafmap"
   ]
  },
  {
   "cell_type": "markdown",
   "id": "93c12b69",
   "metadata": {},
   "source": [
    "This notebook example requires the ipyleaflet plotting backend. Folium is not supported."
   ]
  },
  {
   "cell_type": "code",
   "execution_count": null,
   "id": "ec9b2a9a",
   "metadata": {},
   "outputs": [],
   "source": [
    "from leafmap import leafmap"
   ]
  },
  {
   "cell_type": "markdown",
   "id": "a04c0335",
   "metadata": {},
   "source": [
    "Create an interactive map."
   ]
  },
  {
   "cell_type": "code",
   "execution_count": null,
   "id": "b0a201db",
   "metadata": {},
   "outputs": [],
   "source": [
    "m = leafmap.Map()"
   ]
  },
  {
   "cell_type": "markdown",
   "id": "3851a37e",
   "metadata": {},
   "source": [
    "The URL to the vector tile."
   ]
  },
  {
   "cell_type": "code",
   "execution_count": null,
   "id": "f0a2e056",
   "metadata": {},
   "outputs": [],
   "source": [
    "url = 'https://tile.nextzen.org/tilezen/vector/v1/512/all/{z}/{x}/{y}.mvt?api_key=gCZXZglvRQa6sB2z7JzL1w'"
   ]
  },
  {
   "cell_type": "markdown",
   "id": "88c67639",
   "metadata": {},
   "source": [
    "Attribution of the vector tile."
   ]
  },
  {
   "cell_type": "code",
   "execution_count": null,
   "id": "e25ec98f",
   "metadata": {},
   "outputs": [],
   "source": [
    "attribution = \"Nextzen\""
   ]
  },
  {
   "cell_type": "markdown",
   "id": "5167cf83",
   "metadata": {},
   "source": [
    "One can customize the vector tile layer style if needed. More info can be found at https://ipyleaflet.readthedocs.io/en/latest/api_reference/vector_tile.html"
   ]
  },
  {
   "cell_type": "code",
   "execution_count": null,
   "id": "f039a143",
   "metadata": {},
   "outputs": [],
   "source": [
    "vector_tile_layer_styles = {}"
   ]
  },
  {
   "cell_type": "markdown",
   "id": "b8589789",
   "metadata": {},
   "source": [
    "Add the vector tile layer to the map."
   ]
  },
  {
   "cell_type": "code",
   "execution_count": null,
   "id": "c3b9e5bf",
   "metadata": {},
   "outputs": [],
   "source": [
    "m.add_vector_tile_layer(url, attribution, vector_tile_layer_styles)\n",
    "m"
   ]
  }
 ],
 "metadata": {
  "kernelspec": {
   "display_name": "Python 3",
   "language": "python",
   "name": "python3"
  }
 },
 "nbformat": 4,
 "nbformat_minor": 5
}
