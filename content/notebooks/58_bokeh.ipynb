{
 "cells": [
  {
   "cell_type": "markdown",
   "id": "6877a8a2",
   "metadata": {},
   "source": [
    "[![image](https://jupyterlite.rtfd.io/en/latest/_static/badge.svg)](https://demo.leafmap.org/lab/index.html?path=notebooks/58_bokeh.ipynb)\n",
    "[![image](https://colab.research.google.com/assets/colab-badge.svg)](https://githubtocolab.com/giswqs/leafmap/blob/master/examples/notebooks/58_bokeh.ipynb)\n",
    "[![image](https://mybinder.org/badge_logo.svg)](https://gishub.org/leafmap-binder)"
   ]
  },
  {
   "cell_type": "code",
   "execution_count": null,
   "id": "c315c338",
   "metadata": {},
   "outputs": [],
   "source": [
    "%pip install -q leafmap"
   ]
  },
  {
   "cell_type": "code",
   "execution_count": null,
   "id": "98278649",
   "metadata": {},
   "outputs": [],
   "source": [
    "# !pip install bokeh jupyter_bokeh"
   ]
  },
  {
   "cell_type": "code",
   "execution_count": null,
   "id": "89738141",
   "metadata": {},
   "outputs": [],
   "source": [
    "import leafmap.bokehmap as leafmap"
   ]
  },
  {
   "cell_type": "markdown",
   "id": "31720f28",
   "metadata": {},
   "source": [
    "Create an interactive map"
   ]
  },
  {
   "cell_type": "code",
   "execution_count": null,
   "id": "bbc3664d",
   "metadata": {},
   "outputs": [],
   "source": [
    "m = leafmap.Map()\n",
    "m"
   ]
  },
  {
   "cell_type": "markdown",
   "id": "b5bbe485",
   "metadata": {},
   "source": [
    "Specify center and zoom level"
   ]
  },
  {
   "cell_type": "code",
   "execution_count": null,
   "id": "64ab6917",
   "metadata": {},
   "outputs": [],
   "source": [
    "m = leafmap.Map(center=[40, -100], zoom=4, height=400)\n",
    "m"
   ]
  },
  {
   "cell_type": "markdown",
   "id": "45c1f446",
   "metadata": {},
   "source": [
    "Add basemaps"
   ]
  },
  {
   "cell_type": "code",
   "execution_count": null,
   "id": "7461a784",
   "metadata": {},
   "outputs": [],
   "source": [
    "m = leafmap.Map()\n",
    "m.add_basemap('OpenTopoMap')\n",
    "m"
   ]
  },
  {
   "cell_type": "code",
   "execution_count": null,
   "id": "444617e7",
   "metadata": {},
   "outputs": [],
   "source": [
    "# print(leafmap.basemaps.keys())"
   ]
  },
  {
   "cell_type": "markdown",
   "id": "344983a9",
   "metadata": {},
   "source": [
    "Add COG"
   ]
  },
  {
   "cell_type": "code",
   "execution_count": null,
   "id": "111d5c9e",
   "metadata": {},
   "outputs": [],
   "source": [
    "m = leafmap.Map()\n",
    "url = 'https://opendata.digitalglobe.com/events/california-fire-2020/post-event/2020-08-14/pine-gulch-fire20/10300100AAC8DD00.tif'\n",
    "m.add_cog_layer(url)\n",
    "m"
   ]
  },
  {
   "cell_type": "markdown",
   "id": "6e326bb0",
   "metadata": {},
   "source": [
    "Add STAC"
   ]
  },
  {
   "cell_type": "code",
   "execution_count": null,
   "id": "7e266d29",
   "metadata": {},
   "outputs": [],
   "source": [
    "m = leafmap.Map()\n",
    "url = 'https://canada-spot-ortho.s3.amazonaws.com/canada_spot_orthoimages/canada_spot5_orthoimages/S5_2007/S5_11055_6057_20070622/S5_11055_6057_20070622.json'\n",
    "m.add_stac_layer(url, bands=['B3', 'B2', 'B1'], name='False color')\n",
    "m"
   ]
  },
  {
   "cell_type": "markdown",
   "id": "4e706d82",
   "metadata": {},
   "source": [
    "Add local raster datasets"
   ]
  },
  {
   "cell_type": "code",
   "execution_count": null,
   "id": "983e4319",
   "metadata": {},
   "outputs": [],
   "source": [
    "url = 'https://github.com/giswqs/data/raw/main/raster/srtm90.tif'\n",
    "leafmap.download_file(url, 'dem.tif')"
   ]
  },
  {
   "cell_type": "code",
   "execution_count": null,
   "id": "16ed5541",
   "metadata": {},
   "outputs": [],
   "source": [
    "m = leafmap.Map()\n",
    "m.add_raster('dem.tif', palette='terrain')\n",
    "m"
   ]
  },
  {
   "cell_type": "markdown",
   "id": "67533fb7",
   "metadata": {},
   "source": [
    "Add points"
   ]
  },
  {
   "cell_type": "code",
   "execution_count": null,
   "id": "34022168",
   "metadata": {},
   "outputs": [],
   "source": [
    "m = leafmap.Map()\n",
    "url = 'https://github.com/giswqs/leafmap/blob/master/examples/data/us_cities.geojson'\n",
    "m.add_geojson(url, size=10, color='blue', alpha=0.7)\n",
    "m"
   ]
  },
  {
   "cell_type": "markdown",
   "id": "e0597476",
   "metadata": {},
   "source": [
    "Add lines"
   ]
  },
  {
   "cell_type": "code",
   "execution_count": null,
   "id": "a3484798",
   "metadata": {},
   "outputs": [],
   "source": [
    "m = leafmap.Map()\n",
    "m.add_basemap('CartoDB.DarkMatter')\n",
    "url = 'https://github.com/giswqs/leafmap/raw/master/examples/data/cable_geo.geojson'\n",
    "m.add_vector(url, line_color='color', line_width=2)\n",
    "m"
   ]
  },
  {
   "cell_type": "markdown",
   "id": "af2d86d9",
   "metadata": {},
   "source": [
    "Add polygons"
   ]
  },
  {
   "cell_type": "code",
   "execution_count": null,
   "id": "8fb9eace",
   "metadata": {},
   "outputs": [],
   "source": [
    "m = leafmap.Map()\n",
    "url = 'https://github.com/giswqs/leafmap/blob/master/examples/data/countries.geojson'\n",
    "m.add_vector(url, fill_alpha=0.5, fill_color='lightblue')\n",
    "m"
   ]
  }
 ],
 "metadata": {
  "kernelspec": {
   "display_name": "Python 3",
   "language": "python",
   "name": "python3"
  }
 },
 "nbformat": 4,
 "nbformat_minor": 5
}
