{
 "cells": [
  {
   "cell_type": "markdown",
   "id": "95085255",
   "metadata": {},
   "source": [
    "[![image](https://jupyterlite.rtfd.io/en/latest/_static/badge.svg)](https://demo.leafmap.org/lab/index.html?path=notebooks/58_bokeh.ipynb)\n",
    "[![image](https://colab.research.google.com/assets/colab-badge.svg)](https://githubtocolab.com/giswqs/leafmap/blob/master/examples/notebooks/58_bokeh.ipynb)\n",
    "[![image](https://mybinder.org/badge_logo.svg)](https://gishub.org/leafmap-binder)"
   ]
  },
  {
   "cell_type": "code",
   "execution_count": null,
   "id": "b3ad02a1",
   "metadata": {},
   "outputs": [],
   "source": [
    "%pip install -q leafmap"
   ]
  },
  {
   "cell_type": "code",
   "execution_count": null,
   "id": "994fb244",
   "metadata": {},
   "outputs": [],
   "source": [
    "# !pip install bokeh jupyter_bokeh"
   ]
  },
  {
   "cell_type": "code",
   "execution_count": null,
   "id": "d703b679",
   "metadata": {},
   "outputs": [],
   "source": [
    "import leafmap.bokehmap as leafmap"
   ]
  },
  {
   "cell_type": "markdown",
   "id": "e3e89e5c",
   "metadata": {},
   "source": [
    "Create an interactive map"
   ]
  },
  {
   "cell_type": "code",
   "execution_count": null,
   "id": "486659f9",
   "metadata": {},
   "outputs": [],
   "source": [
    "m = leafmap.Map()\n",
    "m"
   ]
  },
  {
   "cell_type": "markdown",
   "id": "02302a15",
   "metadata": {},
   "source": [
    "Specify center and zoom level"
   ]
  },
  {
   "cell_type": "code",
   "execution_count": null,
   "id": "68e2a2f3",
   "metadata": {},
   "outputs": [],
   "source": [
    "m = leafmap.Map(center=[40, -100], zoom=4, height=400)\n",
    "m"
   ]
  },
  {
   "cell_type": "markdown",
   "id": "00f970c7",
   "metadata": {},
   "source": [
    "Add basemaps"
   ]
  },
  {
   "cell_type": "code",
   "execution_count": null,
   "id": "eda14c46",
   "metadata": {},
   "outputs": [],
   "source": [
    "m = leafmap.Map()\n",
    "m.add_basemap('OpenTopoMap')\n",
    "m"
   ]
  },
  {
   "cell_type": "code",
   "execution_count": null,
   "id": "58929099",
   "metadata": {},
   "outputs": [],
   "source": [
    "# print(leafmap.basemaps.keys())"
   ]
  },
  {
   "cell_type": "markdown",
   "id": "f6eec8b1",
   "metadata": {},
   "source": [
    "Add COG"
   ]
  },
  {
   "cell_type": "code",
   "execution_count": null,
   "id": "ea7c2225",
   "metadata": {},
   "outputs": [],
   "source": [
    "m = leafmap.Map()\n",
    "url = 'https://opendata.digitalglobe.com/events/california-fire-2020/post-event/2020-08-14/pine-gulch-fire20/10300100AAC8DD00.tif'\n",
    "m.add_cog_layer(url)\n",
    "m"
   ]
  },
  {
   "cell_type": "markdown",
   "id": "a8b96660",
   "metadata": {},
   "source": [
    "Add STAC"
   ]
  },
  {
   "cell_type": "code",
   "execution_count": null,
   "id": "d64e5c46",
   "metadata": {},
   "outputs": [],
   "source": [
    "m = leafmap.Map()\n",
    "url = 'https://canada-spot-ortho.s3.amazonaws.com/canada_spot_orthoimages/canada_spot5_orthoimages/S5_2007/S5_11055_6057_20070622/S5_11055_6057_20070622.json'\n",
    "m.add_stac_layer(url, bands=['B3', 'B2', 'B1'], name='False color')\n",
    "m"
   ]
  },
  {
   "cell_type": "markdown",
   "id": "02add8d5",
   "metadata": {},
   "source": [
    "Add local raster datasets"
   ]
  },
  {
   "cell_type": "code",
   "execution_count": null,
   "id": "04bb01e4",
   "metadata": {},
   "outputs": [],
   "source": [
    "url = 'https://github.com/giswqs/data/raw/main/raster/srtm90.tif'\n",
    "leafmap.download_file(url, 'dem.tif')"
   ]
  },
  {
   "cell_type": "code",
   "execution_count": null,
   "id": "0240f47d",
   "metadata": {},
   "outputs": [],
   "source": [
    "m = leafmap.Map()\n",
    "m.add_raster('dem.tif', palette='terrain')\n",
    "m"
   ]
  },
  {
   "cell_type": "markdown",
   "id": "e7a69da1",
   "metadata": {},
   "source": [
    "Add points"
   ]
  },
  {
   "cell_type": "code",
   "execution_count": null,
   "id": "43574604",
   "metadata": {},
   "outputs": [],
   "source": [
    "m = leafmap.Map()\n",
    "url = 'https://github.com/giswqs/leafmap/blob/master/examples/data/us_cities.geojson'\n",
    "m.add_geojson(url, size=10, color='blue', alpha=0.7)\n",
    "m"
   ]
  },
  {
   "cell_type": "markdown",
   "id": "c811966f",
   "metadata": {},
   "source": [
    "Add lines"
   ]
  },
  {
   "cell_type": "code",
   "execution_count": null,
   "id": "5e6074ac",
   "metadata": {},
   "outputs": [],
   "source": [
    "m = leafmap.Map()\n",
    "m.add_basemap('CartoDB.DarkMatter')\n",
    "url = 'https://github.com/giswqs/leafmap/raw/master/examples/data/cable_geo.geojson'\n",
    "m.add_vector(url, line_color='color', line_width=2)\n",
    "m"
   ]
  },
  {
   "cell_type": "markdown",
   "id": "96581c9e",
   "metadata": {},
   "source": [
    "Add polygons"
   ]
  },
  {
   "cell_type": "code",
   "execution_count": null,
   "id": "8cfc82b6",
   "metadata": {},
   "outputs": [],
   "source": [
    "m = leafmap.Map()\n",
    "url = 'https://github.com/giswqs/leafmap/blob/master/examples/data/countries.geojson'\n",
    "m.add_vector(url, fill_alpha=0.5, fill_color='lightblue')\n",
    "m"
   ]
  }
 ],
 "metadata": {
  "kernelspec": {
   "display_name": "Python 3",
   "language": "python",
   "name": "python3"
  }
 },
 "nbformat": 4,
 "nbformat_minor": 5
}
