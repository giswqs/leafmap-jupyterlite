{
 "cells": [
  {
   "cell_type": "markdown",
   "id": "f1dd1384",
   "metadata": {},
   "source": [
    "[![image](https://mybinder.org/badge_logo.svg)](https://gishub.org/leafmap-binder)\n",
    "\n",
    "**Creating linked maps for visualizing multiple maps simultaneously**"
   ]
  },
  {
   "cell_type": "code",
   "execution_count": null,
   "id": "c9b2437f",
   "metadata": {},
   "outputs": [],
   "source": [
    "%pip install -q leafmap"
   ]
  },
  {
   "cell_type": "markdown",
   "id": "1b98379f",
   "metadata": {},
   "source": [
    "This notebook example requires the ipyleaflet plotting backend. Folium is not supported."
   ]
  },
  {
   "cell_type": "code",
   "execution_count": null,
   "id": "a8b3daea",
   "metadata": {},
   "outputs": [],
   "source": [
    "import leafmap.leafmap as leafmap"
   ]
  },
  {
   "cell_type": "markdown",
   "id": "4d76b0d4",
   "metadata": {},
   "source": [
    "Print out the list of available basemaps."
   ]
  },
  {
   "cell_type": "code",
   "execution_count": null,
   "id": "ace1aa6b",
   "metadata": {},
   "outputs": [],
   "source": [
    "print(leafmap.basemaps.keys())"
   ]
  },
  {
   "cell_type": "markdown",
   "id": "8e0276de",
   "metadata": {},
   "source": [
    "Specify the number of rows and columns to create a linked map. The `layers` parameter accepts a list of two XYZ tile layers, which can be chosen from the basemap names, or any custom XYZ tile layer."
   ]
  },
  {
   "cell_type": "code",
   "execution_count": null,
   "id": "151de27b",
   "metadata": {},
   "outputs": [],
   "source": [
    "layers = ['ROADMAP', 'HYBRID']\n",
    "leafmap.linked_maps(rows=1, cols=2, height='400px', layers=layers)"
   ]
  },
  {
   "cell_type": "markdown",
   "id": "dba742b2",
   "metadata": {},
   "source": [
    "![](https://i.imgur.com/9qwmgPR.jpg)"
   ]
  },
  {
   "cell_type": "code",
   "execution_count": null,
   "id": "bea871ef",
   "metadata": {},
   "outputs": [],
   "source": [
    "layers = ['Stamen.Terrain', 'OpenTopoMap']\n",
    "leafmap.linked_maps(rows=1, cols=2, height='400px', layers=layers)"
   ]
  },
  {
   "cell_type": "markdown",
   "id": "2db95b8e",
   "metadata": {},
   "source": [
    "![](https://i.imgur.com/tx89sKu.png)"
   ]
  },
  {
   "cell_type": "markdown",
   "id": "b0bc1c7b",
   "metadata": {},
   "source": [
    "Create a 2 * 2 linked map to visualize land cover change. Specify the `center` and `zoom` parameters to change the default map center and zoom level."
   ]
  },
  {
   "cell_type": "code",
   "execution_count": null,
   "id": "22180e7f",
   "metadata": {},
   "outputs": [],
   "source": [
    "layers = [str(f\"NLCD {year} CONUS Land Cover\") for year in [2001, 2006, 2011, 2016]]\n",
    "labels = [str(f\"NLCD {year}\") for year in [2001, 2006, 2011, 2016]]\n",
    "leafmap.linked_maps(\n",
    "    rows=2,\n",
    "    cols=2,\n",
    "    height='300px',\n",
    "    layers=layers,\n",
    "    labels=labels,\n",
    "    center=[36.1, -115.2],\n",
    "    zoom=9,\n",
    ")"
   ]
  },
  {
   "cell_type": "markdown",
   "id": "234e82b0",
   "metadata": {},
   "source": [
    "![](https://i.imgur.com/VUp7H3m.png)"
   ]
  }
 ],
 "metadata": {
  "kernelspec": {
   "display_name": "Python 3",
   "language": "python",
   "name": "python3"
  }
 },
 "nbformat": 4,
 "nbformat_minor": 5
}
