{
 "cells": [
  {
   "cell_type": "markdown",
   "id": "abf651e7",
   "metadata": {},
   "source": [
    "[![image](https://jupyterlite.rtfd.io/en/latest/_static/badge.svg)](https://demo.leafmap.org/lab/index.html?path=notebooks/33_image_overlay.ipynb)\n",
    "[![image](https://colab.research.google.com/assets/colab-badge.svg)](https://githubtocolab.com/giswqs/leafmap/blob/master/examples/notebooks/01_leafmap_intro.ipynb)\n",
    "[![image](https://mybinder.org/badge_logo.svg)](https://gishub.org/leafmap-binder)"
   ]
  },
  {
   "cell_type": "code",
   "execution_count": null,
   "id": "ac8cd391",
   "metadata": {},
   "outputs": [],
   "source": [
    "%pip install -q leafmap"
   ]
  },
  {
   "cell_type": "code",
   "execution_count": null,
   "id": "4206a1e9",
   "metadata": {},
   "outputs": [],
   "source": [
    "import os\n",
    "from leafmap import leafmap"
   ]
  },
  {
   "cell_type": "markdown",
   "id": "e602cab4",
   "metadata": {},
   "source": [
    "**Using local files**\n",
    "\n",
    "Download the sample png from https://i.imgur.com/06Q1fSz.png to your `Downloads` folder."
   ]
  },
  {
   "cell_type": "code",
   "execution_count": null,
   "id": "0a495b1b",
   "metadata": {},
   "outputs": [],
   "source": [
    "filepath = '06Q1fSz.png'\n",
    "if not os.path.exists(filepath):\n",
    "    leafmap.download_from_url(\"https://i.imgur.com/06Q1fSz.png\", filepath)"
   ]
  },
  {
   "cell_type": "code",
   "execution_count": null,
   "id": "ac9cbfaf",
   "metadata": {},
   "outputs": [],
   "source": [
    "m = leafmap.Map(center=(25, -115), zoom=4)\n",
    "\n",
    "image = leafmap.ImageOverlay(url=filepath, bounds=((13, -130), (32, -100)))\n",
    "\n",
    "m.add_layer(image)\n",
    "m"
   ]
  },
  {
   "cell_type": "markdown",
   "id": "f104417d",
   "metadata": {},
   "source": [
    "**Using remote files**"
   ]
  },
  {
   "cell_type": "code",
   "execution_count": null,
   "id": "2b4effef",
   "metadata": {},
   "outputs": [],
   "source": [
    "m = leafmap.Map(center=(25, -115), zoom=4)\n",
    "\n",
    "image = leafmap.ImageOverlay(\n",
    "    url=\"https://i.imgur.com/06Q1fSz.png\", bounds=((13, -130), (32, -100))\n",
    ")\n",
    "\n",
    "m.add_layer(image)\n",
    "m"
   ]
  },
  {
   "cell_type": "markdown",
   "id": "5981119d",
   "metadata": {},
   "source": [
    "Update image url"
   ]
  },
  {
   "cell_type": "code",
   "execution_count": null,
   "id": "0e56abe6",
   "metadata": {},
   "outputs": [],
   "source": [
    "image.url = \"https://i.imgur.com/J9qCf4E.png\""
   ]
  }
 ],
 "metadata": {
  "kernelspec": {
   "display_name": "Python (Pyodide)",
   "language": "python",
   "name": "python3"
  }
 },
 "nbformat": 4,
 "nbformat_minor": 5
}
