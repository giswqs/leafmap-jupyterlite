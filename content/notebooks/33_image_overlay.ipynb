{
 "cells": [
  {
   "cell_type": "markdown",
   "id": "9bb2cc84",
   "metadata": {},
   "source": [
    "[![image](https://jupyterlite.rtfd.io/en/latest/_static/badge.svg)](https://demo.leafmap.org/lab/index.html?path=notebooks/33_image_overlay.ipynb)\n",
    "[![image](https://colab.research.google.com/assets/colab-badge.svg)](https://githubtocolab.com/giswqs/leafmap/blob/master/examples/notebooks/01_leafmap_intro.ipynb)\n",
    "[![image](https://mybinder.org/badge_logo.svg)](https://gishub.org/leafmap-binder)"
   ]
  },
  {
   "cell_type": "code",
   "execution_count": null,
   "id": "e802155a",
   "metadata": {},
   "outputs": [],
   "source": [
    "%pip install -q leafmap"
   ]
  },
  {
   "cell_type": "code",
   "execution_count": null,
   "id": "06c4a9b7",
   "metadata": {},
   "outputs": [],
   "source": [
    "import os\n",
    "from leafmap import leafmap"
   ]
  },
  {
   "cell_type": "markdown",
   "id": "3f672404",
   "metadata": {},
   "source": [
    "**Using local files**\n",
    "\n",
    "Download the sample png from https://i.imgur.com/06Q1fSz.png to your `Downloads` folder."
   ]
  },
  {
   "cell_type": "code",
   "execution_count": null,
   "id": "c670e7f5",
   "metadata": {},
   "outputs": [],
   "source": [
    "filepath = '06Q1fSz.png'\n",
    "if not os.path.exists(filepath):\n",
    "    leafmap.download_from_url(\"https://i.imgur.com/06Q1fSz.png\", filepath)"
   ]
  },
  {
   "cell_type": "code",
   "execution_count": null,
   "id": "90eeb6ec",
   "metadata": {},
   "outputs": [],
   "source": [
    "m = leafmap.Map(center=(25, -115), zoom=4)\n",
    "\n",
    "image = leafmap.ImageOverlay(url=filepath, bounds=((13, -130), (32, -100)))\n",
    "\n",
    "m.add_layer(image)\n",
    "m"
   ]
  },
  {
   "cell_type": "markdown",
   "id": "ef1f7ccf",
   "metadata": {},
   "source": [
    "**Using remote files**"
   ]
  },
  {
   "cell_type": "code",
   "execution_count": null,
   "id": "db3de0d1",
   "metadata": {},
   "outputs": [],
   "source": [
    "m = leafmap.Map(center=(25, -115), zoom=4)\n",
    "\n",
    "image = leafmap.ImageOverlay(\n",
    "    url=\"https://i.imgur.com/06Q1fSz.png\", bounds=((13, -130), (32, -100))\n",
    ")\n",
    "\n",
    "m.add_layer(image)\n",
    "m"
   ]
  },
  {
   "cell_type": "markdown",
   "id": "8172ad9a",
   "metadata": {},
   "source": [
    "Update image url"
   ]
  },
  {
   "cell_type": "code",
   "execution_count": null,
   "id": "7d6da2e3",
   "metadata": {},
   "outputs": [],
   "source": [
    "image.url = \"https://i.imgur.com/J9qCf4E.png\""
   ]
  }
 ],
 "metadata": {
  "kernelspec": {
   "display_name": "Python (Pyodide)",
   "language": "python",
   "name": "python"
  }
 },
 "nbformat": 4,
 "nbformat_minor": 5
}
